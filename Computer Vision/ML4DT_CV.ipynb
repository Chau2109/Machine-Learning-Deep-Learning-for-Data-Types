{
 "cells": [
  {
   "cell_type": "markdown",
   "id": "b0918483",
   "metadata": {},
   "source": [
    "# CV - Image Classification Lab\n"
   ]
  },
  {
   "cell_type": "markdown",
   "id": "634a2f43",
   "metadata": {},
   "source": [
    "## Basic Level\n",
    "In this part, we will attempt a binary classification problem using a DNN and a CNN.\n",
    "\n",
    "We will then proceed to change our network architectures to solve a multiclassification problem.\n",
    "\n",
    "The dataset used consists of medical images of breast cancer using ultrasound scan.\n",
    "\n",
    "The images are categorized into three classes, which are **normal**, **benign**, and **malignant**.\n",
    "\n",
    "### Necessary imports"
   ]
  },
  {
   "cell_type": "code",
   "execution_count": 74,
   "id": "04502934-8aa8-413f-a0cd-9d5b8edba339",
   "metadata": {},
   "outputs": [
    {
     "name": "stdout",
     "output_type": "stream",
     "text": [
      "Requirement already satisfied: keras in c:\\users\\xps9360\\anaconda3\\lib\\site-packages (2.13.1)\n",
      "Requirement already satisfied: tensorflow in c:\\users\\xps9360\\anaconda3\\lib\\site-packages (2.13.0)\n",
      "Requirement already satisfied: tensorflow-intel==2.13.0 in c:\\users\\xps9360\\anaconda3\\lib\\site-packages (from tensorflow) (2.13.0)\n",
      "Requirement already satisfied: protobuf!=4.21.0,!=4.21.1,!=4.21.2,!=4.21.3,!=4.21.4,!=4.21.5,<5.0.0dev,>=3.20.3 in c:\\users\\xps9360\\anaconda3\\lib\\site-packages (from tensorflow-intel==2.13.0->tensorflow) (4.24.3)\n",
      "Requirement already satisfied: termcolor>=1.1.0 in c:\\users\\xps9360\\anaconda3\\lib\\site-packages (from tensorflow-intel==2.13.0->tensorflow) (2.3.0)\n",
      "Requirement already satisfied: flatbuffers>=23.1.21 in c:\\users\\xps9360\\anaconda3\\lib\\site-packages (from tensorflow-intel==2.13.0->tensorflow) (23.5.26)\n",
      "Requirement already satisfied: gast<=0.4.0,>=0.2.1 in c:\\users\\xps9360\\anaconda3\\lib\\site-packages (from tensorflow-intel==2.13.0->tensorflow) (0.4.0)\n",
      "Requirement already satisfied: packaging in c:\\users\\xps9360\\anaconda3\\lib\\site-packages (from tensorflow-intel==2.13.0->tensorflow) (21.3)\n",
      "Requirement already satisfied: setuptools in c:\\users\\xps9360\\anaconda3\\lib\\site-packages (from tensorflow-intel==2.13.0->tensorflow) (63.4.1)\n",
      "Requirement already satisfied: grpcio<2.0,>=1.24.3 in c:\\users\\xps9360\\anaconda3\\lib\\site-packages (from tensorflow-intel==2.13.0->tensorflow) (1.58.0)\n",
      "Requirement already satisfied: tensorboard<2.14,>=2.13 in c:\\users\\xps9360\\anaconda3\\lib\\site-packages (from tensorflow-intel==2.13.0->tensorflow) (2.13.0)\n",
      "Requirement already satisfied: typing-extensions<4.6.0,>=3.6.6 in c:\\users\\xps9360\\anaconda3\\lib\\site-packages (from tensorflow-intel==2.13.0->tensorflow) (4.3.0)\n",
      "Requirement already satisfied: keras<2.14,>=2.13.1 in c:\\users\\xps9360\\anaconda3\\lib\\site-packages (from tensorflow-intel==2.13.0->tensorflow) (2.13.1)\n",
      "Requirement already satisfied: tensorflow-io-gcs-filesystem>=0.23.1 in c:\\users\\xps9360\\anaconda3\\lib\\site-packages (from tensorflow-intel==2.13.0->tensorflow) (0.31.0)\n",
      "Requirement already satisfied: libclang>=13.0.0 in c:\\users\\xps9360\\anaconda3\\lib\\site-packages (from tensorflow-intel==2.13.0->tensorflow) (16.0.6)\n",
      "Requirement already satisfied: tensorflow-estimator<2.14,>=2.13.0 in c:\\users\\xps9360\\anaconda3\\lib\\site-packages (from tensorflow-intel==2.13.0->tensorflow) (2.13.0)\n",
      "Requirement already satisfied: h5py>=2.9.0 in c:\\users\\xps9360\\anaconda3\\lib\\site-packages (from tensorflow-intel==2.13.0->tensorflow) (3.7.0)\n",
      "Requirement already satisfied: opt-einsum>=2.3.2 in c:\\users\\xps9360\\anaconda3\\lib\\site-packages (from tensorflow-intel==2.13.0->tensorflow) (3.3.0)\n",
      "Requirement already satisfied: numpy<=1.24.3,>=1.22 in c:\\users\\xps9360\\anaconda3\\lib\\site-packages (from tensorflow-intel==2.13.0->tensorflow) (1.24.3)\n",
      "Requirement already satisfied: astunparse>=1.6.0 in c:\\users\\xps9360\\anaconda3\\lib\\site-packages (from tensorflow-intel==2.13.0->tensorflow) (1.6.3)\n",
      "Requirement already satisfied: six>=1.12.0 in c:\\users\\xps9360\\anaconda3\\lib\\site-packages (from tensorflow-intel==2.13.0->tensorflow) (1.16.0)\n",
      "Requirement already satisfied: google-pasta>=0.1.1 in c:\\users\\xps9360\\anaconda3\\lib\\site-packages (from tensorflow-intel==2.13.0->tensorflow) (0.2.0)\n",
      "Requirement already satisfied: wrapt>=1.11.0 in c:\\users\\xps9360\\anaconda3\\lib\\site-packages (from tensorflow-intel==2.13.0->tensorflow) (1.14.1)\n",
      "Requirement already satisfied: absl-py>=1.0.0 in c:\\users\\xps9360\\anaconda3\\lib\\site-packages (from tensorflow-intel==2.13.0->tensorflow) (1.4.0)\n",
      "Requirement already satisfied: wheel<1.0,>=0.23.0 in c:\\users\\xps9360\\anaconda3\\lib\\site-packages (from astunparse>=1.6.0->tensorflow-intel==2.13.0->tensorflow) (0.37.1)\n",
      "Requirement already satisfied: google-auth-oauthlib<1.1,>=0.5 in c:\\users\\xps9360\\anaconda3\\lib\\site-packages (from tensorboard<2.14,>=2.13->tensorflow-intel==2.13.0->tensorflow) (1.0.0)\n",
      "Requirement already satisfied: google-auth<3,>=1.6.3 in c:\\users\\xps9360\\anaconda3\\lib\\site-packages (from tensorboard<2.14,>=2.13->tensorflow-intel==2.13.0->tensorflow) (2.23.0)\n",
      "Requirement already satisfied: markdown>=2.6.8 in c:\\users\\xps9360\\anaconda3\\lib\\site-packages (from tensorboard<2.14,>=2.13->tensorflow-intel==2.13.0->tensorflow) (3.3.4)\n",
      "Requirement already satisfied: requests<3,>=2.21.0 in c:\\users\\xps9360\\anaconda3\\lib\\site-packages (from tensorboard<2.14,>=2.13->tensorflow-intel==2.13.0->tensorflow) (2.28.1)\n",
      "Requirement already satisfied: werkzeug>=1.0.1 in c:\\users\\xps9360\\anaconda3\\lib\\site-packages (from tensorboard<2.14,>=2.13->tensorflow-intel==2.13.0->tensorflow) (2.0.3)\n",
      "Requirement already satisfied: tensorboard-data-server<0.8.0,>=0.7.0 in c:\\users\\xps9360\\anaconda3\\lib\\site-packages (from tensorboard<2.14,>=2.13->tensorflow-intel==2.13.0->tensorflow) (0.7.1)\n",
      "Requirement already satisfied: pyparsing!=3.0.5,>=2.0.2 in c:\\users\\xps9360\\anaconda3\\lib\\site-packages (from packaging->tensorflow-intel==2.13.0->tensorflow) (3.0.9)\n",
      "Requirement already satisfied: cachetools<6.0,>=2.0.0 in c:\\users\\xps9360\\anaconda3\\lib\\site-packages (from google-auth<3,>=1.6.3->tensorboard<2.14,>=2.13->tensorflow-intel==2.13.0->tensorflow) (5.3.1)\n",
      "Requirement already satisfied: urllib3<2.0 in c:\\users\\xps9360\\anaconda3\\lib\\site-packages (from google-auth<3,>=1.6.3->tensorboard<2.14,>=2.13->tensorflow-intel==2.13.0->tensorflow) (1.26.11)\n",
      "Requirement already satisfied: pyasn1-modules>=0.2.1 in c:\\users\\xps9360\\anaconda3\\lib\\site-packages (from google-auth<3,>=1.6.3->tensorboard<2.14,>=2.13->tensorflow-intel==2.13.0->tensorflow) (0.2.8)\n",
      "Requirement already satisfied: rsa<5,>=3.1.4 in c:\\users\\xps9360\\anaconda3\\lib\\site-packages (from google-auth<3,>=1.6.3->tensorboard<2.14,>=2.13->tensorflow-intel==2.13.0->tensorflow) (4.9)\n",
      "Requirement already satisfied: requests-oauthlib>=0.7.0 in c:\\users\\xps9360\\anaconda3\\lib\\site-packages (from google-auth-oauthlib<1.1,>=0.5->tensorboard<2.14,>=2.13->tensorflow-intel==2.13.0->tensorflow) (1.3.1)\n",
      "Requirement already satisfied: idna<4,>=2.5 in c:\\users\\xps9360\\anaconda3\\lib\\site-packages (from requests<3,>=2.21.0->tensorboard<2.14,>=2.13->tensorflow-intel==2.13.0->tensorflow) (3.3)\n",
      "Requirement already satisfied: certifi>=2017.4.17 in c:\\users\\xps9360\\anaconda3\\lib\\site-packages (from requests<3,>=2.21.0->tensorboard<2.14,>=2.13->tensorflow-intel==2.13.0->tensorflow) (2022.9.14)\n",
      "Requirement already satisfied: charset-normalizer<3,>=2 in c:\\users\\xps9360\\anaconda3\\lib\\site-packages (from requests<3,>=2.21.0->tensorboard<2.14,>=2.13->tensorflow-intel==2.13.0->tensorflow) (2.0.4)\n",
      "Requirement already satisfied: pyasn1<0.5.0,>=0.4.6 in c:\\users\\xps9360\\anaconda3\\lib\\site-packages (from pyasn1-modules>=0.2.1->google-auth<3,>=1.6.3->tensorboard<2.14,>=2.13->tensorflow-intel==2.13.0->tensorflow) (0.4.8)\n",
      "Requirement already satisfied: oauthlib>=3.0.0 in c:\\users\\xps9360\\anaconda3\\lib\\site-packages (from requests-oauthlib>=0.7.0->google-auth-oauthlib<1.1,>=0.5->tensorboard<2.14,>=2.13->tensorflow-intel==2.13.0->tensorflow) (3.2.2)\n"
     ]
    }
   ],
   "source": [
    "!pip install keras \n",
    "!pip install tensorflow"
   ]
  },
  {
   "cell_type": "code",
   "execution_count": 75,
   "id": "fc0b967f",
   "metadata": {},
   "outputs": [],
   "source": [
    "import pandas as pd\n",
    "import numpy as np\n",
    "from PIL import Image\n",
    "import os\n",
    "import os.path\n",
    "from tqdm import tqdm\n",
    "from sklearn.preprocessing import MinMaxScaler\n",
    "from sklearn.model_selection import train_test_split\n",
    "from sklearn.linear_model import LogisticRegression\n",
    "from sklearn.metrics import log_loss\n",
    "from sklearn.metrics import accuracy_score\n",
    "from sklearn.metrics import confusion_matrix\n",
    "import seaborn as sns\n",
    "from matplotlib import pyplot as plt\n",
    "import keras\n",
    "from keras.preprocessing.image import ImageDataGenerator\n",
    "from keras.utils import to_categorical \n",
    "import random\n",
    "from sklearn.metrics import confusion_matrix\n",
    "from scipy.special import softmax\n",
    "from keras.layers import LeakyReLU\n",
    "from sklearn.utils import shuffle\n",
    "from keras.preprocessing.image import ImageDataGenerator\n",
    "from keras.layers import  Input, Dense, BatchNormalization, Conv2D\n",
    "from keras import layers\n",
    "from keras.layers import Input, Dense, Activation,BatchNormalization, Flatten, Conv2D, MaxPooling2D\n",
    "from keras.models import Sequential\n",
    "from keras.models import Model\n",
    "from keras.preprocessing import image\n",
    "from keras.preprocessing.image import ImageDataGenerator\n",
    "import keras.backend as K\n",
    "from keras.optimizers import Adam\n",
    "\n",
    "\n"
   ]
  },
  {
   "cell_type": "code",
   "execution_count": 76,
   "id": "88372c09",
   "metadata": {
    "scrolled": true
   },
   "outputs": [
    {
     "name": "stdout",
     "output_type": "stream",
     "text": [
      "Num GPUs Available:  0\n"
     ]
    }
   ],
   "source": [
    "import tensorflow as tf\n",
    "print(\"Num GPUs Available: \", len(tf.config.list_physical_devices('GPU')))"
   ]
  },
  {
   "cell_type": "code",
   "execution_count": 77,
   "id": "6648126e",
   "metadata": {},
   "outputs": [],
   "source": [
    "folder = 'Dataset'\n",
    "rs = 1\n",
    "ts = 0.25"
   ]
  },
  {
   "cell_type": "markdown",
   "id": "61567bab",
   "metadata": {
    "tags": []
   },
   "source": [
    "### Exercise 1\n",
    "The directory above contains the dataset for this week's assignment (Assignment_Dataset). \n",
    "\n",
    "You'll find three folders within it, **normal** ,**malignant** and **benign**.\n",
    "Load the images within the three folders, with the appropriate labels (the images within the folder **malignant** should be labelled with **malignant**, same goes for **benign** and **normal**).\n",
    "One way to do this, is to load the images in one list, and load the labels (corresponding to the name of the folder you load the scans from) in another list.\n",
    "\n",
    "Keep in mind that our dataset is relatively small, whereas standard image classification tasks often use datasets comprising tens of thousands of images."
   ]
  },
  {
   "cell_type": "markdown",
   "id": "2c58b9c9-86e8-4b1a-94cd-f86ebe7bb474",
   "metadata": {
    "tags": []
   },
   "source": [
    "### Exercise 1\n",
    "The directory above contains the dataset for this week's assignment (Assignment_Dataset). \n",
    "\n",
    "You'll find three folders within it, **normal** ,**malignant** and **benign**.\n",
    "Load the images within the three folders, with the appropriate labels (the images within the folder **malignant** should be labelled with **malignant**, same goes for **benign** and **normal**).\n",
    "One way to do this, is to load the images in one list, and load the labels (corresponding to the name of the folder you load the scans from) in another list.\n",
    "\n",
    "Keep in mind that our dataset is relatively small, whereas standard image classification tasks often use datasets comprising tens of thousands of images."
   ]
  },
  {
   "cell_type": "code",
   "execution_count": 78,
   "id": "250ffeab",
   "metadata": {},
   "outputs": [
    {
     "name": "stderr",
     "output_type": "stream",
     "text": [
      "100%|██████████| 133/133 [00:00<00:00, 2299.58it/s]\n",
      "100%|██████████| 210/210 [00:00<00:00, 3314.86it/s]\n",
      "100%|██████████| 437/437 [00:00<00:00, 2888.82it/s]\n"
     ]
    }
   ],
   "source": [
    "images = []\n",
    "label = []\n",
    "\n",
    "directories = ['normal', 'malignant', 'benign']\n",
    "\n",
    "for dir_name in directories:\n",
    "    folder_path = os.path.join(folder, dir_name)\n",
    "    # For each file in the directory\n",
    "    for file_name in tqdm(os.listdir(folder_path)):\n",
    "        # Full path to the image\n",
    "        file_path = os.path.join(folder_path, file_name)\n",
    "        try:\n",
    "            # Open the image and append to images list\n",
    "            img = Image.open(file_path)\n",
    "            images.append(img)\n",
    "            label.append(dir_name)\n",
    "        except Exception as e:\n",
    "            print(f\"Error processing {file_name}: {e}\")"
   ]
  },
  {
   "cell_type": "code",
   "execution_count": 79,
   "id": "ca883973",
   "metadata": {
    "scrolled": true
   },
   "outputs": [
    {
     "name": "stdout",
     "output_type": "stream",
     "text": [
      "In all folders, we have 780 images and 780 corresponding labels\n"
     ]
    }
   ],
   "source": [
    "print(\"In all folders, we have\", len(images),\n",
    "      \"images\", \"and\", len(label), \"corresponding labels\")"
   ]
  },
  {
   "cell_type": "code",
   "execution_count": 80,
   "id": "1bb50b3a",
   "metadata": {},
   "outputs": [
    {
     "data": {
      "image/png": "[encoded data removed]",
      "text/plain": [
       "<Figure size 800x800 with 9 Axes>"
      ]
     },
     "metadata": {},
     "output_type": "display_data"
    }
   ],
   "source": [
    "vis_images, vis_label = shuffle(images, label)\n",
    "plt.figure(figsize=(8, 8))\n",
    "for i in range(1, 10):\n",
    "    plt.subplot(4, 3, i)\n",
    "    plt.tight_layout()\n",
    "    plt.imshow(vis_images[i-1])\n",
    "    plt.title(vis_label[i-1])\n",
    "    plt.xlabel(vis_images[i-1].size[0], fontsize=10)\n",
    "    plt.ylabel(vis_images[i-1].size[1], fontsize=10)"
   ]
  },
  {
   "cell_type": "markdown",
   "id": "e5c2ebb6",
   "metadata": {},
   "source": [
    "### Exercise 2\n",
    "Write a function **convert(dataset, target_mode)** that will take your list of images and convert them from their current mode RGB, to the target mode **L** (grayscale)."
   ]
  },
  {
   "cell_type": "code",
   "execution_count": 81,
   "id": "dab2baab",
   "metadata": {},
   "outputs": [
    {
     "name": "stdout",
     "output_type": "stream",
     "text": [
      "The current mode of the images in the dataset is RGB\n"
     ]
    }
   ],
   "source": [
    "print(\"The current mode of the images in the dataset is\", images[0].mode)"
   ]
  },
  {
   "cell_type": "code",
   "execution_count": 82,
   "id": "c3d978ab",
   "metadata": {},
   "outputs": [],
   "source": [
    "def convert(dataset, mode):\n",
    "    dataset = [img.convert(mode) for img in dataset]\n",
    "    return dataset"
   ]
  },
  {
   "cell_type": "code",
   "execution_count": 83,
   "id": "6135e703",
   "metadata": {},
   "outputs": [],
   "source": [
    "images = convert(images, 'L')"
   ]
  },
  {
   "cell_type": "code",
   "execution_count": 84,
   "id": "4c1cd446",
   "metadata": {},
   "outputs": [
    {
     "name": "stdout",
     "output_type": "stream",
     "text": [
      "Image mode is now L\n"
     ]
    }
   ],
   "source": [
    "print(\"Image mode is now\", images[0].mode)"
   ]
  },
  {
   "cell_type": "markdown",
   "id": "6701652c",
   "metadata": {},
   "source": [
    "### Exercise 3\n",
    "It turns out that the images in our dataset are not of the same size. \n",
    "Write a function **check_size(dataset)**, which inputs your dataset of images and returns True if all images are of the same size and False otherwise."
   ]
  },
  {
   "cell_type": "code",
   "execution_count": 85,
   "id": "c9807f9c",
   "metadata": {},
   "outputs": [],
   "source": [
    "def check_size(dataset):\n",
    "    first_img_size = dataset[0].size\n",
    "    for img in dataset:\n",
    "        if img.size != first_img_size:\n",
    "            check = False\n",
    "    check = True\n",
    "    return check"
   ]
  },
  {
   "cell_type": "code",
   "execution_count": 86,
   "id": "c4c153dd",
   "metadata": {},
   "outputs": [
    {
     "name": "stdout",
     "output_type": "stream",
     "text": [
      "All images are of the same size: True\n"
     ]
    }
   ],
   "source": [
    "print(\"All images are of the same size:\", check_size(images))"
   ]
  },
  {
   "cell_type": "markdown",
   "id": "4cad7399",
   "metadata": {},
   "source": [
    "### Exercise 4\n",
    "Write a function **resize(dataset, size)**, to which you pass your dataset and a tuple (h, w). Your function should output the dataset with all the images in the same size."
   ]
  },
  {
   "cell_type": "code",
   "execution_count": 87,
   "id": "f3683204",
   "metadata": {},
   "outputs": [],
   "source": [
    "def resize(dataset, size):\n",
    "    resized_dataset = []\n",
    "    for img in dataset:\n",
    "        resized_img = img.resize(size)\n",
    "        resized_dataset.append(resized_img)\n",
    "    dataset = resized_dataset\n",
    "    return dataset"
   ]
  },
  {
   "cell_type": "code",
   "execution_count": 88,
   "id": "00ae69d9",
   "metadata": {},
   "outputs": [],
   "source": [
    "resized_images = resize(images, (64, 64))"
   ]
  },
  {
   "cell_type": "code",
   "execution_count": 89,
   "id": "d2d05c59",
   "metadata": {},
   "outputs": [
    {
     "name": "stdout",
     "output_type": "stream",
     "text": [
      "All images are of the same size: True\n"
     ]
    }
   ],
   "source": [
    "print(\"All images are of the same size:\", check_size(images))"
   ]
  },
  {
   "cell_type": "code",
   "execution_count": 90,
   "id": "bdd4c2b6",
   "metadata": {},
   "outputs": [
    {
     "name": "stdout",
     "output_type": "stream",
     "text": [
      "<class 'PIL.Image.Image'>\n"
     ]
    }
   ],
   "source": [
    "print(type(images[0]))"
   ]
  },
  {
   "cell_type": "markdown",
   "id": "5bf45bdd",
   "metadata": {},
   "source": [
    "### Exercise 5\n",
    "Recall that a model cannot be trained on an Image object, we need first to convert our dataset of images into a dataset of numpy arrays, in which every array is the representation of an image.\n",
    "\n",
    "Write a function **to_npArray(dataset)**, which will input your images dataset and return the dataset with the images converted to numpy arrays."
   ]
  },
  {
   "cell_type": "code",
   "execution_count": 91,
   "id": "3a6131b4",
   "metadata": {},
   "outputs": [],
   "source": [
    "def to_npArray(dataset):\n",
    "    dataset = [np.array(img) for img in dataset]\n",
    "    return dataset"
   ]
  },
  {
   "cell_type": "code",
   "execution_count": 92,
   "id": "96b06f9d",
   "metadata": {},
   "outputs": [],
   "source": [
    "np_images = to_npArray(resized_images)"
   ]
  },
  {
   "cell_type": "code",
   "execution_count": 93,
   "id": "9eb01d40",
   "metadata": {},
   "outputs": [],
   "source": [
    "np_images = np.array(np_images)"
   ]
  },
  {
   "cell_type": "code",
   "execution_count": 94,
   "id": "278c8852",
   "metadata": {},
   "outputs": [
    {
     "data": {
      "text/plain": [
       "(780, 64, 64)"
      ]
     },
     "execution_count": 94,
     "metadata": {},
     "output_type": "execute_result"
    }
   ],
   "source": [
    "np_images.shape"
   ]
  },
  {
   "cell_type": "markdown",
   "id": "7063697f",
   "metadata": {},
   "source": [
    "#### You can see now that our dataset has 780 examples, each example is of the shape (h,w). In our case here (64,64). Feel free to resize your images to the values you see fit. Keep in mind that a higher size means more features, slower training, and a higher risk of overfitting."
   ]
  },
  {
   "cell_type": "markdown",
   "id": "e8cdc325",
   "metadata": {},
   "source": [
    "### Exercise 6\n",
    "Pixel values in our grayscale images might go up to 255, when calculating the sigmoid of such values (multiplied by their respective weights), we might end up with overflow issues.\n",
    "One way to solve this problem is by feature scaling.\n",
    "You can use sklearn's [MixMaxScaler](https://scikit-learn.org/stable/modules/generated/sklearn.preprocessing.MinMaxScaler.html) to scale the features in your dataset. You can also implement your own scaler, by simply dividing all the values in your dataset by the max value."
   ]
  },
  {
   "cell_type": "code",
   "execution_count": 95,
   "id": "4b1c440d",
   "metadata": {},
   "outputs": [
    {
     "name": "stdout",
     "output_type": "stream",
     "text": [
      "Before scaling : Min=0, max=255\n",
      "After scaling  : Min=0.0, max=1.0\n"
     ]
    }
   ],
   "source": [
    "print(\"Before scaling : Min={}, max={}\".format(np_images.min(), np_images.max()))\n",
    "np_images = np_images / 255.0\n",
    "print(\"After scaling  : Min={}, max={}\".format(np_images.min(), np_images.max()))\n"
   ]
  },
  {
   "cell_type": "markdown",
   "id": "f7e98ac8",
   "metadata": {},
   "source": [
    "## Binary classification \n",
    "We'll start by doing a binary classification problem.\n",
    "\n",
    "In later exercises, we will shift back to treating the multiclassification problem the dataset suggests.\n",
    "### Exercise 7\n",
    "\n",
    "We are now preparing our dataset for binary classification. While our dataset contains three classes - **benign**, **malignant**, and **normal** - our initial model will categorize the scans as either **0** (malignant) or **1** (either normal or benign). We'll formulate a 'y' vector where the '**malignant**' label is encoded as **0**, and the other labels are encoded as **1**.\n"
   ]
  },
  {
   "cell_type": "code",
   "execution_count": 96,
   "id": "4d0ad153",
   "metadata": {},
   "outputs": [
    {
     "name": "stdout",
     "output_type": "stream",
     "text": [
      "[1 1 1 1 1 1 1 1 1 1]\n"
     ]
    }
   ],
   "source": [
    "y = [0 if label_name == 'malignant' else 1 for label_name in label]\n",
    "y = np.array(y)\n",
    "print(y[:10])"
   ]
  },
  {
   "cell_type": "markdown",
   "id": "3c374bc5",
   "metadata": {},
   "source": [
    "### Exercise 8\n",
    "\n",
    "For this task, you'll employ **Keras** to construct your neural network. We've shown in the lecture how straightforward it is to design DNNs with Keras: all you need to do is outline your network's structure and let Keras do the heavy lifting.\n",
    "\n",
    "The lecture's demonstration assumes that images have been flattened before they are fed into the Keras DNN. This means the dataset will have a shape like (ne, w, h). Given our dataset with **780 samples** and an image size of (64 , 64), when you flatten these images, they will reshape the dataset to (780, 4096).\n",
    "\n",
    "Keras can also handle the flattening for you. So, you can supply the dataset in the shape (780, 64, 64) and Keras will take care of reshaping before starting the model's training.\n",
    "\n",
    "a. Reshape your dataset to what Keras expects\n"
   ]
  },
  {
   "cell_type": "code",
   "execution_count": 97,
   "id": "d5622073",
   "metadata": {},
   "outputs": [],
   "source": [
    "np_images_flattened = np_images.reshape((780, 64*64))"
   ]
  },
  {
   "cell_type": "code",
   "execution_count": 98,
   "id": "2d0dafc2",
   "metadata": {},
   "outputs": [
    {
     "data": {
      "text/plain": [
       "(780, 4096)"
      ]
     },
     "execution_count": 98,
     "metadata": {},
     "output_type": "execute_result"
    }
   ],
   "source": [
    "np_images_flattened.shape"
   ]
  },
  {
   "cell_type": "code",
   "execution_count": 99,
   "id": "d3b85416",
   "metadata": {},
   "outputs": [],
   "source": [
    "train_X, test_X, train_y, test_y = train_test_split(np_images_flattened, y, test_size=ts, shuffle=True, random_state=rs)"
   ]
  },
  {
   "cell_type": "markdown",
   "id": "abf19d93",
   "metadata": {},
   "source": [
    "b. Create your model and compile it in the cell below"
   ]
  },
  {
   "cell_type": "code",
   "execution_count": 100,
   "id": "9615561b",
   "metadata": {},
   "outputs": [],
   "source": [
    "model = Sequential([\n",
    "    Dense(128, activation='relu', input_shape=(4096,)),\n",
    "    Dense(32, activation='relu'),\n",
    "    Dense(4, activation='relu'),\n",
    "    Dense(1, activation='sigmoid')\n",
    "])\n",
    "\n",
    "optimizer = Adam(learning_rate=0.0001)\n",
    "\n",
    "model.compile(optimizer=optimizer,\n",
    "              loss='binary_crossentropy',\n",
    "              metrics=['accuracy'])"
   ]
  },
  {
   "cell_type": "code",
   "execution_count": 101,
   "id": "b8001f64",
   "metadata": {},
   "outputs": [
    {
     "name": "stdout",
     "output_type": "stream",
     "text": [
      "Model: \"sequential_6\"\n",
      "_________________________________________________________________\n",
      " Layer (type)                Output Shape              Param #   \n",
      "=================================================================\n",
      " dense_19 (Dense)            (None, 128)               524416    \n",
      "                                                                 \n",
      " dense_20 (Dense)            (None, 32)                4128      \n",
      "                                                                 \n",
      " dense_21 (Dense)            (None, 4)                 132       \n",
      "                                                                 \n",
      " dense_22 (Dense)            (None, 1)                 5         \n",
      "                                                                 \n",
      "=================================================================\n",
      "Total params: 528681 (2.02 MB)\n",
      "Trainable params: 528681 (2.02 MB)\n",
      "Non-trainable params: 0 (0.00 Byte)\n",
      "_________________________________________________________________\n"
     ]
    }
   ],
   "source": [
    "model.summary()"
   ]
  },
  {
   "cell_type": "markdown",
   "id": "8aaaa4f7",
   "metadata": {},
   "source": [
    "c. Fit the model to the data below"
   ]
  },
  {
   "cell_type": "code",
   "execution_count": 102,
   "id": "d0a3adcd",
   "metadata": {
    "scrolled": true
   },
   "outputs": [
    {
     "name": "stdout",
     "output_type": "stream",
     "text": [
      "Epoch 1/200\n",
      "19/19 [==============================] - 2s 35ms/step - loss: 0.6228 - accuracy: 0.6991 - val_loss: 0.5513 - val_accuracy: 0.7538\n",
      "Epoch 2/200\n",
      "19/19 [==============================] - 0s 17ms/step - loss: 0.5804 - accuracy: 0.7231 - val_loss: 0.5326 - val_accuracy: 0.7538\n",
      "Epoch 3/200\n",
      "19/19 [==============================] - 0s 15ms/step - loss: 0.5428 - accuracy: 0.7231 - val_loss: 0.5309 - val_accuracy: 0.7538\n",
      "Epoch 4/200\n",
      "19/19 [==============================] - 0s 17ms/step - loss: 0.5427 - accuracy: 0.7231 - val_loss: 0.5088 - val_accuracy: 0.7538\n",
      "Epoch 5/200\n",
      "19/19 [==============================] - 0s 19ms/step - loss: 0.5196 - accuracy: 0.7231 - val_loss: 0.5131 - val_accuracy: 0.7538\n",
      "Epoch 6/200\n",
      "19/19 [==============================] - 0s 15ms/step - loss: 0.5113 - accuracy: 0.7231 - val_loss: 0.4968 - val_accuracy: 0.7538\n",
      "Epoch 7/200\n",
      "19/19 [==============================] - 0s 16ms/step - loss: 0.5022 - accuracy: 0.7231 - val_loss: 0.4929 - val_accuracy: 0.7538\n",
      "Epoch 8/200\n",
      "19/19 [==============================] - 0s 16ms/step - loss: 0.4860 - accuracy: 0.7231 - val_loss: 0.5020 - val_accuracy: 0.7538\n",
      "Epoch 9/200\n",
      "19/19 [==============================] - 0s 15ms/step - loss: 0.4837 - accuracy: 0.7231 - val_loss: 0.4868 - val_accuracy: 0.7538\n",
      "Epoch 10/200\n",
      "19/19 [==============================] - 0s 15ms/step - loss: 0.4717 - accuracy: 0.7231 - val_loss: 0.4840 - val_accuracy: 0.7538\n",
      "Epoch 11/200\n",
      "19/19 [==============================] - 0s 16ms/step - loss: 0.4675 - accuracy: 0.7624 - val_loss: 0.4867 - val_accuracy: 0.7744\n",
      "Epoch 12/200\n",
      "19/19 [==============================] - 0s 17ms/step - loss: 0.4610 - accuracy: 0.7744 - val_loss: 0.4740 - val_accuracy: 0.8051\n",
      "Epoch 13/200\n",
      "19/19 [==============================] - 0s 15ms/step - loss: 0.4573 - accuracy: 0.8000 - val_loss: 0.4715 - val_accuracy: 0.8103\n",
      "Epoch 14/200\n",
      "19/19 [==============================] - 0s 13ms/step - loss: 0.4618 - accuracy: 0.7966 - val_loss: 0.4683 - val_accuracy: 0.8154\n",
      "Epoch 15/200\n",
      "19/19 [==============================] - 0s 14ms/step - loss: 0.4484 - accuracy: 0.7983 - val_loss: 0.4641 - val_accuracy: 0.8051\n",
      "Epoch 16/200\n",
      "19/19 [==============================] - 0s 12ms/step - loss: 0.4491 - accuracy: 0.7915 - val_loss: 0.4616 - val_accuracy: 0.8154\n",
      "Epoch 17/200\n",
      "19/19 [==============================] - 0s 12ms/step - loss: 0.4434 - accuracy: 0.7983 - val_loss: 0.4599 - val_accuracy: 0.7949\n",
      "Epoch 18/200\n",
      "19/19 [==============================] - 0s 11ms/step - loss: 0.4397 - accuracy: 0.8222 - val_loss: 0.4522 - val_accuracy: 0.8154\n",
      "Epoch 19/200\n",
      "19/19 [==============================] - 0s 11ms/step - loss: 0.4129 - accuracy: 0.8274 - val_loss: 0.4441 - val_accuracy: 0.8359\n",
      "Epoch 20/200\n",
      "19/19 [==============================] - 0s 10ms/step - loss: 0.4020 - accuracy: 0.8342 - val_loss: 0.4393 - val_accuracy: 0.8308\n",
      "Epoch 21/200\n",
      "19/19 [==============================] - 0s 10ms/step - loss: 0.3920 - accuracy: 0.8513 - val_loss: 0.4330 - val_accuracy: 0.8410\n",
      "Epoch 22/200\n",
      "19/19 [==============================] - 0s 10ms/step - loss: 0.3764 - accuracy: 0.8479 - val_loss: 0.4575 - val_accuracy: 0.7949\n",
      "Epoch 23/200\n",
      "19/19 [==============================] - 0s 10ms/step - loss: 0.3852 - accuracy: 0.8462 - val_loss: 0.4320 - val_accuracy: 0.8308\n",
      "Epoch 24/200\n",
      "19/19 [==============================] - 0s 11ms/step - loss: 0.3692 - accuracy: 0.8650 - val_loss: 0.4414 - val_accuracy: 0.8154\n",
      "Epoch 25/200\n",
      "19/19 [==============================] - 0s 11ms/step - loss: 0.3615 - accuracy: 0.8496 - val_loss: 0.4240 - val_accuracy: 0.8462\n",
      "Epoch 26/200\n",
      "19/19 [==============================] - 0s 10ms/step - loss: 0.3528 - accuracy: 0.8632 - val_loss: 0.4375 - val_accuracy: 0.8154\n",
      "Epoch 27/200\n",
      "19/19 [==============================] - 0s 10ms/step - loss: 0.3552 - accuracy: 0.8615 - val_loss: 0.4820 - val_accuracy: 0.8051\n",
      "Epoch 28/200\n",
      "19/19 [==============================] - 0s 11ms/step - loss: 0.3786 - accuracy: 0.8359 - val_loss: 0.4722 - val_accuracy: 0.8103\n",
      "Epoch 29/200\n",
      "19/19 [==============================] - 0s 12ms/step - loss: 0.3511 - accuracy: 0.8598 - val_loss: 0.4254 - val_accuracy: 0.8410\n",
      "Epoch 30/200\n",
      "19/19 [==============================] - 0s 15ms/step - loss: 0.3325 - accuracy: 0.8735 - val_loss: 0.4325 - val_accuracy: 0.8462\n",
      "Epoch 31/200\n",
      "19/19 [==============================] - 0s 13ms/step - loss: 0.3245 - accuracy: 0.8735 - val_loss: 0.4362 - val_accuracy: 0.8051\n",
      "Epoch 32/200\n",
      "19/19 [==============================] - 0s 12ms/step - loss: 0.3155 - accuracy: 0.8752 - val_loss: 0.4243 - val_accuracy: 0.8462\n",
      "Epoch 33/200\n",
      "19/19 [==============================] - 0s 13ms/step - loss: 0.3049 - accuracy: 0.8906 - val_loss: 0.4811 - val_accuracy: 0.7487\n",
      "Epoch 34/200\n",
      "19/19 [==============================] - 0s 15ms/step - loss: 0.3191 - accuracy: 0.8650 - val_loss: 0.4240 - val_accuracy: 0.8513\n",
      "Epoch 35/200\n",
      "19/19 [==============================] - 0s 12ms/step - loss: 0.3030 - accuracy: 0.8786 - val_loss: 0.4486 - val_accuracy: 0.8051\n",
      "Epoch 36/200\n",
      "19/19 [==============================] - 0s 13ms/step - loss: 0.2779 - accuracy: 0.8906 - val_loss: 0.4402 - val_accuracy: 0.8205\n",
      "Epoch 37/200\n",
      "19/19 [==============================] - 0s 13ms/step - loss: 0.2669 - accuracy: 0.8923 - val_loss: 0.4461 - val_accuracy: 0.8154\n",
      "Epoch 38/200\n",
      "19/19 [==============================] - 0s 13ms/step - loss: 0.2885 - accuracy: 0.8821 - val_loss: 0.4312 - val_accuracy: 0.8308\n",
      "Epoch 39/200\n",
      "19/19 [==============================] - 0s 13ms/step - loss: 0.2571 - accuracy: 0.8991 - val_loss: 0.4311 - val_accuracy: 0.8410\n",
      "Epoch 40/200\n",
      "19/19 [==============================] - 0s 14ms/step - loss: 0.2405 - accuracy: 0.9128 - val_loss: 0.4399 - val_accuracy: 0.8410\n",
      "Epoch 41/200\n",
      "19/19 [==============================] - 0s 12ms/step - loss: 0.2441 - accuracy: 0.9026 - val_loss: 0.4381 - val_accuracy: 0.8256\n",
      "Epoch 42/200\n",
      "19/19 [==============================] - 0s 12ms/step - loss: 0.2303 - accuracy: 0.9111 - val_loss: 0.4857 - val_accuracy: 0.7846\n",
      "Epoch 43/200\n",
      "19/19 [==============================] - 0s 11ms/step - loss: 0.2307 - accuracy: 0.9197 - val_loss: 0.4489 - val_accuracy: 0.8410\n",
      "Epoch 44/200\n",
      "19/19 [==============================] - 0s 11ms/step - loss: 0.2504 - accuracy: 0.9043 - val_loss: 0.4394 - val_accuracy: 0.8462\n",
      "Epoch 45/200\n",
      "19/19 [==============================] - 0s 11ms/step - loss: 0.2589 - accuracy: 0.8940 - val_loss: 0.4400 - val_accuracy: 0.8462\n",
      "Epoch 46/200\n",
      "19/19 [==============================] - 0s 11ms/step - loss: 0.2216 - accuracy: 0.9111 - val_loss: 0.4546 - val_accuracy: 0.8051\n",
      "Epoch 47/200\n",
      "19/19 [==============================] - 0s 12ms/step - loss: 0.2114 - accuracy: 0.9333 - val_loss: 0.5667 - val_accuracy: 0.7128\n",
      "Epoch 48/200\n",
      "19/19 [==============================] - 0s 11ms/step - loss: 0.2156 - accuracy: 0.9214 - val_loss: 0.4528 - val_accuracy: 0.8513\n",
      "Epoch 49/200\n",
      "19/19 [==============================] - 0s 12ms/step - loss: 0.2188 - accuracy: 0.9197 - val_loss: 0.4471 - val_accuracy: 0.8462\n",
      "Epoch 50/200\n",
      "19/19 [==============================] - 0s 10ms/step - loss: 0.1975 - accuracy: 0.9368 - val_loss: 0.4500 - val_accuracy: 0.8513\n",
      "Epoch 51/200\n",
      "19/19 [==============================] - 0s 11ms/step - loss: 0.2005 - accuracy: 0.9214 - val_loss: 0.4579 - val_accuracy: 0.8103\n",
      "Epoch 52/200\n",
      "19/19 [==============================] - 0s 11ms/step - loss: 0.1855 - accuracy: 0.9470 - val_loss: 0.4601 - val_accuracy: 0.8564\n",
      "Epoch 53/200\n",
      "19/19 [==============================] - 0s 10ms/step - loss: 0.1901 - accuracy: 0.9231 - val_loss: 0.5957 - val_accuracy: 0.7026\n",
      "Epoch 54/200\n",
      "19/19 [==============================] - 0s 11ms/step - loss: 0.2056 - accuracy: 0.9248 - val_loss: 0.4868 - val_accuracy: 0.7897\n",
      "Epoch 55/200\n",
      "19/19 [==============================] - 0s 12ms/step - loss: 0.1976 - accuracy: 0.9231 - val_loss: 0.4556 - val_accuracy: 0.8359\n",
      "Epoch 56/200\n",
      "19/19 [==============================] - 0s 12ms/step - loss: 0.1695 - accuracy: 0.9487 - val_loss: 0.4665 - val_accuracy: 0.8051\n",
      "Epoch 57/200\n",
      "19/19 [==============================] - 0s 13ms/step - loss: 0.1721 - accuracy: 0.9419 - val_loss: 0.5116 - val_accuracy: 0.7692\n",
      "Epoch 58/200\n"
     ]
    },
    {
     "name": "stdout",
     "output_type": "stream",
     "text": [
      "19/19 [==============================] - 0s 13ms/step - loss: 0.1727 - accuracy: 0.9385 - val_loss: 0.4643 - val_accuracy: 0.8154\n",
      "Epoch 59/200\n",
      "19/19 [==============================] - 0s 16ms/step - loss: 0.1929 - accuracy: 0.9282 - val_loss: 0.4760 - val_accuracy: 0.8462\n",
      "Epoch 60/200\n",
      "19/19 [==============================] - 0s 18ms/step - loss: 0.1654 - accuracy: 0.9436 - val_loss: 0.4671 - val_accuracy: 0.8410\n",
      "Epoch 61/200\n",
      "19/19 [==============================] - 0s 17ms/step - loss: 0.1566 - accuracy: 0.9538 - val_loss: 0.4700 - val_accuracy: 0.8359\n",
      "Epoch 62/200\n",
      "19/19 [==============================] - 0s 16ms/step - loss: 0.1556 - accuracy: 0.9573 - val_loss: 0.4775 - val_accuracy: 0.8462\n",
      "Epoch 63/200\n",
      "19/19 [==============================] - 0s 11ms/step - loss: 0.1606 - accuracy: 0.9402 - val_loss: 0.5376 - val_accuracy: 0.7692\n",
      "Epoch 64/200\n",
      "19/19 [==============================] - 0s 11ms/step - loss: 0.1447 - accuracy: 0.9641 - val_loss: 0.4736 - val_accuracy: 0.8513\n",
      "Epoch 65/200\n",
      "19/19 [==============================] - 0s 14ms/step - loss: 0.1417 - accuracy: 0.9624 - val_loss: 0.4970 - val_accuracy: 0.7846\n",
      "Epoch 66/200\n",
      "19/19 [==============================] - 0s 17ms/step - loss: 0.1406 - accuracy: 0.9624 - val_loss: 0.5117 - val_accuracy: 0.7846\n",
      "Epoch 67/200\n",
      "19/19 [==============================] - 0s 14ms/step - loss: 0.1438 - accuracy: 0.9624 - val_loss: 0.4832 - val_accuracy: 0.8410\n",
      "Epoch 68/200\n",
      "19/19 [==============================] - 0s 12ms/step - loss: 0.1341 - accuracy: 0.9675 - val_loss: 0.4938 - val_accuracy: 0.8051\n",
      "Epoch 69/200\n",
      "19/19 [==============================] - 0s 14ms/step - loss: 0.1283 - accuracy: 0.9692 - val_loss: 0.5082 - val_accuracy: 0.7846\n",
      "Epoch 70/200\n",
      "19/19 [==============================] - 0s 12ms/step - loss: 0.1293 - accuracy: 0.9692 - val_loss: 0.4884 - val_accuracy: 0.8564\n",
      "Epoch 71/200\n",
      "19/19 [==============================] - 0s 17ms/step - loss: 0.1284 - accuracy: 0.9590 - val_loss: 0.5113 - val_accuracy: 0.7846\n",
      "Epoch 72/200\n",
      "19/19 [==============================] - 0s 12ms/step - loss: 0.1188 - accuracy: 0.9709 - val_loss: 0.4913 - val_accuracy: 0.8462\n",
      "Epoch 73/200\n",
      "19/19 [==============================] - 0s 10ms/step - loss: 0.1169 - accuracy: 0.9778 - val_loss: 0.5499 - val_accuracy: 0.7641\n",
      "Epoch 74/200\n",
      "19/19 [==============================] - 0s 15ms/step - loss: 0.1293 - accuracy: 0.9675 - val_loss: 0.5120 - val_accuracy: 0.8513\n",
      "Epoch 75/200\n",
      "19/19 [==============================] - 0s 16ms/step - loss: 0.1181 - accuracy: 0.9744 - val_loss: 0.5293 - val_accuracy: 0.7846\n",
      "Epoch 76/200\n",
      "19/19 [==============================] - 0s 16ms/step - loss: 0.1116 - accuracy: 0.9778 - val_loss: 0.5136 - val_accuracy: 0.8615\n",
      "Epoch 77/200\n",
      "19/19 [==============================] - 0s 10ms/step - loss: 0.1247 - accuracy: 0.9692 - val_loss: 0.5130 - val_accuracy: 0.8205\n",
      "Epoch 78/200\n",
      "19/19 [==============================] - 0s 12ms/step - loss: 0.1012 - accuracy: 0.9795 - val_loss: 0.5133 - val_accuracy: 0.8410\n",
      "Epoch 79/200\n",
      "19/19 [==============================] - 0s 16ms/step - loss: 0.1017 - accuracy: 0.9795 - val_loss: 0.5254 - val_accuracy: 0.8103\n",
      "Epoch 80/200\n",
      "19/19 [==============================] - 0s 15ms/step - loss: 0.1021 - accuracy: 0.9812 - val_loss: 0.5265 - val_accuracy: 0.8103\n",
      "Epoch 81/200\n",
      "19/19 [==============================] - 0s 16ms/step - loss: 0.0979 - accuracy: 0.9829 - val_loss: 0.5318 - val_accuracy: 0.8000\n",
      "Epoch 82/200\n",
      "19/19 [==============================] - 0s 16ms/step - loss: 0.0945 - accuracy: 0.9863 - val_loss: 0.5264 - val_accuracy: 0.8205\n",
      "Epoch 83/200\n",
      "19/19 [==============================] - 0s 16ms/step - loss: 0.0917 - accuracy: 0.9812 - val_loss: 0.5276 - val_accuracy: 0.8256\n",
      "Epoch 84/200\n",
      "19/19 [==============================] - 0s 17ms/step - loss: 0.0892 - accuracy: 0.9863 - val_loss: 0.5614 - val_accuracy: 0.7795\n",
      "Epoch 85/200\n",
      "19/19 [==============================] - 0s 21ms/step - loss: 0.0955 - accuracy: 0.9812 - val_loss: 0.5532 - val_accuracy: 0.7846\n",
      "Epoch 86/200\n",
      "19/19 [==============================] - 0s 17ms/step - loss: 0.0920 - accuracy: 0.9846 - val_loss: 0.5361 - val_accuracy: 0.8359\n",
      "Epoch 87/200\n",
      "19/19 [==============================] - 0s 16ms/step - loss: 0.0871 - accuracy: 0.9863 - val_loss: 0.5382 - val_accuracy: 0.8308\n",
      "Epoch 88/200\n",
      "19/19 [==============================] - 0s 16ms/step - loss: 0.0899 - accuracy: 0.9795 - val_loss: 0.5696 - val_accuracy: 0.7846\n",
      "Epoch 89/200\n",
      "19/19 [==============================] - 0s 15ms/step - loss: 0.0865 - accuracy: 0.9863 - val_loss: 0.5422 - val_accuracy: 0.8359\n",
      "Epoch 90/200\n",
      "19/19 [==============================] - 0s 15ms/step - loss: 0.0781 - accuracy: 0.9863 - val_loss: 0.5568 - val_accuracy: 0.7949\n",
      "Epoch 91/200\n",
      "19/19 [==============================] - 0s 16ms/step - loss: 0.0740 - accuracy: 0.9949 - val_loss: 0.5847 - val_accuracy: 0.7795\n",
      "Epoch 92/200\n",
      "19/19 [==============================] - 0s 16ms/step - loss: 0.0766 - accuracy: 0.9897 - val_loss: 0.5470 - val_accuracy: 0.8308\n",
      "Epoch 93/200\n",
      "19/19 [==============================] - 0s 16ms/step - loss: 0.0747 - accuracy: 0.9897 - val_loss: 0.5673 - val_accuracy: 0.8000\n",
      "Epoch 94/200\n",
      "19/19 [==============================] - 0s 15ms/step - loss: 0.0708 - accuracy: 0.9932 - val_loss: 0.5581 - val_accuracy: 0.8205\n",
      "Epoch 95/200\n",
      "19/19 [==============================] - 0s 16ms/step - loss: 0.0673 - accuracy: 0.9932 - val_loss: 0.5869 - val_accuracy: 0.7795\n",
      "Epoch 96/200\n",
      "19/19 [==============================] - 0s 25ms/step - loss: 0.0841 - accuracy: 0.9778 - val_loss: 0.6816 - val_accuracy: 0.7436\n",
      "Epoch 97/200\n",
      "19/19 [==============================] - 0s 16ms/step - loss: 0.0815 - accuracy: 0.9897 - val_loss: 0.5605 - val_accuracy: 0.8256\n",
      "Epoch 98/200\n",
      "19/19 [==============================] - 0s 18ms/step - loss: 0.0661 - accuracy: 0.9949 - val_loss: 0.5665 - val_accuracy: 0.8564\n",
      "Epoch 99/200\n",
      "19/19 [==============================] - 0s 16ms/step - loss: 0.0697 - accuracy: 0.9863 - val_loss: 0.5900 - val_accuracy: 0.7692\n",
      "Epoch 100/200\n",
      "19/19 [==============================] - 0s 14ms/step - loss: 0.0615 - accuracy: 0.9966 - val_loss: 0.5841 - val_accuracy: 0.7897\n",
      "Epoch 101/200\n",
      "19/19 [==============================] - 0s 11ms/step - loss: 0.0583 - accuracy: 0.9949 - val_loss: 0.5753 - val_accuracy: 0.8205\n",
      "Epoch 102/200\n",
      "19/19 [==============================] - 0s 11ms/step - loss: 0.0597 - accuracy: 0.9966 - val_loss: 0.5825 - val_accuracy: 0.8462\n",
      "Epoch 103/200\n",
      "19/19 [==============================] - 0s 13ms/step - loss: 0.0610 - accuracy: 0.9966 - val_loss: 0.6138 - val_accuracy: 0.7795\n",
      "Epoch 104/200\n",
      "19/19 [==============================] - 0s 12ms/step - loss: 0.0590 - accuracy: 0.9949 - val_loss: 0.5788 - val_accuracy: 0.8359\n",
      "Epoch 105/200\n",
      "19/19 [==============================] - 0s 13ms/step - loss: 0.0575 - accuracy: 0.9932 - val_loss: 0.6561 - val_accuracy: 0.7641\n",
      "Epoch 106/200\n",
      "19/19 [==============================] - 0s 11ms/step - loss: 0.0696 - accuracy: 0.9863 - val_loss: 0.5919 - val_accuracy: 0.8410\n",
      "Epoch 107/200\n",
      "19/19 [==============================] - 0s 14ms/step - loss: 0.0567 - accuracy: 0.9932 - val_loss: 0.6261 - val_accuracy: 0.7744\n",
      "Epoch 108/200\n",
      "19/19 [==============================] - 0s 14ms/step - loss: 0.0518 - accuracy: 0.9949 - val_loss: 0.6057 - val_accuracy: 0.8000\n",
      "Epoch 109/200\n",
      "19/19 [==============================] - 0s 14ms/step - loss: 0.0501 - accuracy: 0.9966 - val_loss: 0.5920 - val_accuracy: 0.8308\n",
      "Epoch 110/200\n",
      "19/19 [==============================] - 0s 12ms/step - loss: 0.0512 - accuracy: 0.9949 - val_loss: 0.6041 - val_accuracy: 0.8154\n",
      "Epoch 111/200\n",
      "19/19 [==============================] - 0s 14ms/step - loss: 0.0479 - accuracy: 0.9966 - val_loss: 0.6268 - val_accuracy: 0.7949\n",
      "Epoch 112/200\n",
      "19/19 [==============================] - 0s 13ms/step - loss: 0.0531 - accuracy: 0.9932 - val_loss: 0.6265 - val_accuracy: 0.7949\n",
      "Epoch 113/200\n",
      "19/19 [==============================] - 0s 14ms/step - loss: 0.0478 - accuracy: 0.9949 - val_loss: 0.6117 - val_accuracy: 0.8359\n",
      "Epoch 114/200\n",
      "19/19 [==============================] - 0s 11ms/step - loss: 0.0481 - accuracy: 0.9966 - val_loss: 0.6553 - val_accuracy: 0.7692\n",
      "Epoch 115/200\n"
     ]
    },
    {
     "name": "stdout",
     "output_type": "stream",
     "text": [
      "19/19 [==============================] - 0s 13ms/step - loss: 0.0473 - accuracy: 0.9949 - val_loss: 0.6376 - val_accuracy: 0.7949\n",
      "Epoch 116/200\n",
      "19/19 [==============================] - 0s 14ms/step - loss: 0.0440 - accuracy: 0.9949 - val_loss: 0.6236 - val_accuracy: 0.8154\n",
      "Epoch 117/200\n",
      "19/19 [==============================] - 0s 18ms/step - loss: 0.0405 - accuracy: 0.9966 - val_loss: 0.6277 - val_accuracy: 0.8154\n",
      "Epoch 118/200\n",
      "19/19 [==============================] - 0s 17ms/step - loss: 0.0415 - accuracy: 0.9949 - val_loss: 0.6582 - val_accuracy: 0.7744\n",
      "Epoch 119/200\n",
      "19/19 [==============================] - 1s 29ms/step - loss: 0.0394 - accuracy: 0.9983 - val_loss: 0.6292 - val_accuracy: 0.8205\n",
      "Epoch 120/200\n",
      "19/19 [==============================] - 0s 18ms/step - loss: 0.0421 - accuracy: 0.9966 - val_loss: 0.6641 - val_accuracy: 0.7846\n",
      "Epoch 121/200\n",
      "19/19 [==============================] - 0s 17ms/step - loss: 0.0373 - accuracy: 0.9966 - val_loss: 0.6567 - val_accuracy: 0.7949\n",
      "Epoch 122/200\n",
      "19/19 [==============================] - 0s 17ms/step - loss: 0.0366 - accuracy: 0.9966 - val_loss: 0.6555 - val_accuracy: 0.7949\n",
      "Epoch 123/200\n",
      "19/19 [==============================] - 0s 16ms/step - loss: 0.0361 - accuracy: 0.9983 - val_loss: 0.6462 - val_accuracy: 0.8103\n",
      "Epoch 124/200\n",
      "19/19 [==============================] - 0s 16ms/step - loss: 0.0349 - accuracy: 0.9983 - val_loss: 0.6394 - val_accuracy: 0.8410\n",
      "Epoch 125/200\n",
      "19/19 [==============================] - 0s 16ms/step - loss: 0.0358 - accuracy: 0.9966 - val_loss: 0.6534 - val_accuracy: 0.8154\n",
      "Epoch 126/200\n",
      "19/19 [==============================] - 0s 19ms/step - loss: 0.0373 - accuracy: 0.9966 - val_loss: 0.6731 - val_accuracy: 0.7949\n",
      "Epoch 127/200\n",
      "19/19 [==============================] - 0s 16ms/step - loss: 0.0328 - accuracy: 0.9949 - val_loss: 0.6504 - val_accuracy: 0.8154\n",
      "Epoch 128/200\n",
      "19/19 [==============================] - 0s 16ms/step - loss: 0.0324 - accuracy: 0.9932 - val_loss: 0.6617 - val_accuracy: 0.8410\n",
      "Epoch 129/200\n",
      "19/19 [==============================] - 0s 15ms/step - loss: 0.0436 - accuracy: 0.9915 - val_loss: 0.6623 - val_accuracy: 0.8154\n",
      "Epoch 130/200\n",
      "19/19 [==============================] - 0s 15ms/step - loss: 0.0329 - accuracy: 0.9966 - val_loss: 0.6686 - val_accuracy: 0.8051\n",
      "Epoch 131/200\n",
      "19/19 [==============================] - 0s 18ms/step - loss: 0.0328 - accuracy: 0.9949 - val_loss: 0.6622 - val_accuracy: 0.8103\n",
      "Epoch 132/200\n",
      "19/19 [==============================] - 0s 17ms/step - loss: 0.0343 - accuracy: 0.9949 - val_loss: 0.6836 - val_accuracy: 0.7949\n",
      "Epoch 133/200\n",
      "19/19 [==============================] - 0s 15ms/step - loss: 0.0303 - accuracy: 0.9966 - val_loss: 0.6832 - val_accuracy: 0.8000\n",
      "Epoch 134/200\n",
      "19/19 [==============================] - 0s 15ms/step - loss: 0.0319 - accuracy: 0.9983 - val_loss: 0.6630 - val_accuracy: 0.8359\n",
      "Epoch 135/200\n",
      "19/19 [==============================] - 0s 17ms/step - loss: 0.0513 - accuracy: 0.9812 - val_loss: 0.7255 - val_accuracy: 0.7590\n",
      "Epoch 136/200\n",
      "19/19 [==============================] - 0s 14ms/step - loss: 0.0328 - accuracy: 0.9966 - val_loss: 0.6845 - val_accuracy: 0.8205\n",
      "Epoch 137/200\n",
      "19/19 [==============================] - 0s 14ms/step - loss: 0.0321 - accuracy: 0.9932 - val_loss: 0.6737 - val_accuracy: 0.8308\n",
      "Epoch 138/200\n",
      "19/19 [==============================] - 0s 13ms/step - loss: 0.0312 - accuracy: 0.9966 - val_loss: 0.6830 - val_accuracy: 0.8205\n",
      "Epoch 139/200\n",
      "19/19 [==============================] - 0s 12ms/step - loss: 0.0561 - accuracy: 0.9863 - val_loss: 0.7689 - val_accuracy: 0.7744\n",
      "Epoch 140/200\n",
      "19/19 [==============================] - 0s 11ms/step - loss: 0.0450 - accuracy: 0.9897 - val_loss: 0.6760 - val_accuracy: 0.8359\n",
      "Epoch 141/200\n",
      "19/19 [==============================] - 0s 12ms/step - loss: 0.0462 - accuracy: 0.9880 - val_loss: 0.6917 - val_accuracy: 0.8205\n",
      "Epoch 142/200\n",
      "19/19 [==============================] - 0s 11ms/step - loss: 0.0272 - accuracy: 0.9966 - val_loss: 0.7570 - val_accuracy: 0.7692\n",
      "Epoch 143/200\n",
      "19/19 [==============================] - 0s 10ms/step - loss: 0.0267 - accuracy: 0.9966 - val_loss: 0.7018 - val_accuracy: 0.8051\n",
      "Epoch 144/200\n",
      "19/19 [==============================] - 0s 11ms/step - loss: 0.0242 - accuracy: 0.9966 - val_loss: 0.6993 - val_accuracy: 0.8103\n",
      "Epoch 145/200\n",
      "19/19 [==============================] - 0s 11ms/step - loss: 0.0228 - accuracy: 0.9983 - val_loss: 0.7369 - val_accuracy: 0.7590\n",
      "Epoch 146/200\n",
      "19/19 [==============================] - 0s 10ms/step - loss: 0.0262 - accuracy: 0.9949 - val_loss: 0.6960 - val_accuracy: 0.8154\n",
      "Epoch 147/200\n",
      "19/19 [==============================] - 0s 10ms/step - loss: 0.0265 - accuracy: 0.9949 - val_loss: 0.7090 - val_accuracy: 0.8205\n",
      "Epoch 148/200\n",
      "19/19 [==============================] - 0s 10ms/step - loss: 0.0237 - accuracy: 0.9966 - val_loss: 0.6985 - val_accuracy: 0.8205\n",
      "Epoch 149/200\n",
      "19/19 [==============================] - 0s 10ms/step - loss: 0.0241 - accuracy: 0.9966 - val_loss: 0.7072 - val_accuracy: 0.8205\n",
      "Epoch 150/200\n",
      "19/19 [==============================] - 0s 10ms/step - loss: 0.0227 - accuracy: 0.9966 - val_loss: 0.7471 - val_accuracy: 0.7692\n",
      "Epoch 151/200\n",
      "19/19 [==============================] - 0s 11ms/step - loss: 0.0231 - accuracy: 0.9983 - val_loss: 0.7627 - val_accuracy: 0.7692\n",
      "Epoch 152/200\n",
      "19/19 [==============================] - 0s 13ms/step - loss: 0.0260 - accuracy: 0.9932 - val_loss: 0.7141 - val_accuracy: 0.8205\n",
      "Epoch 153/200\n",
      "19/19 [==============================] - 0s 13ms/step - loss: 0.0253 - accuracy: 0.9966 - val_loss: 0.7440 - val_accuracy: 0.7897\n",
      "Epoch 154/200\n",
      "19/19 [==============================] - 0s 13ms/step - loss: 0.0218 - accuracy: 0.9983 - val_loss: 0.7243 - val_accuracy: 0.8103\n",
      "Epoch 155/200\n",
      "19/19 [==============================] - 0s 12ms/step - loss: 0.0229 - accuracy: 0.9966 - val_loss: 0.7139 - val_accuracy: 0.8154\n",
      "Epoch 156/200\n",
      "19/19 [==============================] - 0s 15ms/step - loss: 0.0223 - accuracy: 0.9983 - val_loss: 0.7178 - val_accuracy: 0.8410\n",
      "Epoch 157/200\n",
      "19/19 [==============================] - 0s 17ms/step - loss: 0.0228 - accuracy: 0.9983 - val_loss: 0.7338 - val_accuracy: 0.8103\n",
      "Epoch 158/200\n",
      "19/19 [==============================] - 0s 16ms/step - loss: 0.0210 - accuracy: 0.9949 - val_loss: 0.7403 - val_accuracy: 0.8103\n",
      "Epoch 159/200\n",
      "19/19 [==============================] - 0s 12ms/step - loss: 0.0266 - accuracy: 0.9966 - val_loss: 0.8374 - val_accuracy: 0.7538\n",
      "Epoch 160/200\n",
      "19/19 [==============================] - 0s 12ms/step - loss: 0.0289 - accuracy: 0.9966 - val_loss: 0.7455 - val_accuracy: 0.8410\n",
      "Epoch 161/200\n",
      "19/19 [==============================] - 0s 12ms/step - loss: 0.0294 - accuracy: 0.9966 - val_loss: 0.7898 - val_accuracy: 0.7692\n",
      "Epoch 162/200\n",
      "19/19 [==============================] - 0s 13ms/step - loss: 0.0236 - accuracy: 0.9966 - val_loss: 0.7468 - val_accuracy: 0.8000\n",
      "Epoch 163/200\n",
      "19/19 [==============================] - 0s 13ms/step - loss: 0.0211 - accuracy: 0.9949 - val_loss: 0.7262 - val_accuracy: 0.8462\n",
      "Epoch 164/200\n",
      "19/19 [==============================] - 0s 11ms/step - loss: 0.0232 - accuracy: 0.9932 - val_loss: 0.7641 - val_accuracy: 0.7744\n",
      "Epoch 165/200\n",
      "19/19 [==============================] - 0s 14ms/step - loss: 0.0196 - accuracy: 0.9949 - val_loss: 0.7556 - val_accuracy: 0.8000\n",
      "Epoch 166/200\n",
      "19/19 [==============================] - 0s 12ms/step - loss: 0.0167 - accuracy: 0.9949 - val_loss: 0.7396 - val_accuracy: 0.8205\n",
      "Epoch 167/200\n",
      "19/19 [==============================] - 0s 13ms/step - loss: 0.0191 - accuracy: 0.9966 - val_loss: 0.8020 - val_accuracy: 0.7692\n",
      "Epoch 168/200\n",
      "19/19 [==============================] - 0s 12ms/step - loss: 0.0253 - accuracy: 0.9949 - val_loss: 0.7470 - val_accuracy: 0.8410\n",
      "Epoch 169/200\n",
      "19/19 [==============================] - 0s 13ms/step - loss: 0.0242 - accuracy: 0.9932 - val_loss: 0.8020 - val_accuracy: 0.7846\n",
      "Epoch 170/200\n",
      "19/19 [==============================] - 0s 13ms/step - loss: 0.0183 - accuracy: 0.9966 - val_loss: 0.7447 - val_accuracy: 0.8410\n",
      "Epoch 171/200\n",
      "19/19 [==============================] - 0s 15ms/step - loss: 0.0185 - accuracy: 0.9983 - val_loss: 0.7504 - val_accuracy: 0.8410\n"
     ]
    },
    {
     "name": "stdout",
     "output_type": "stream",
     "text": [
      "Epoch 172/200\n",
      "19/19 [==============================] - 0s 14ms/step - loss: 0.0256 - accuracy: 0.9966 - val_loss: 0.7748 - val_accuracy: 0.7897\n",
      "Epoch 173/200\n",
      "19/19 [==============================] - 0s 12ms/step - loss: 0.0173 - accuracy: 0.9966 - val_loss: 0.8168 - val_accuracy: 0.7692\n",
      "Epoch 174/200\n",
      "19/19 [==============================] - 0s 13ms/step - loss: 0.0204 - accuracy: 0.9932 - val_loss: 0.8083 - val_accuracy: 0.7795\n",
      "Epoch 175/200\n",
      "19/19 [==============================] - 0s 15ms/step - loss: 0.0231 - accuracy: 0.9966 - val_loss: 0.7884 - val_accuracy: 0.8000\n",
      "Epoch 176/200\n",
      "19/19 [==============================] - 0s 14ms/step - loss: 0.0187 - accuracy: 0.9949 - val_loss: 0.7599 - val_accuracy: 0.8359\n",
      "Epoch 177/200\n",
      "19/19 [==============================] - 0s 13ms/step - loss: 0.0181 - accuracy: 0.9949 - val_loss: 0.8012 - val_accuracy: 0.7846\n",
      "Epoch 178/200\n",
      "19/19 [==============================] - 0s 16ms/step - loss: 0.0169 - accuracy: 0.9932 - val_loss: 0.7659 - val_accuracy: 0.8154\n",
      "Epoch 179/200\n",
      "19/19 [==============================] - 0s 17ms/step - loss: 0.0197 - accuracy: 0.9949 - val_loss: 0.7661 - val_accuracy: 0.8154\n",
      "Epoch 180/200\n",
      "19/19 [==============================] - 0s 13ms/step - loss: 0.0159 - accuracy: 0.9983 - val_loss: 0.8580 - val_accuracy: 0.7590\n",
      "Epoch 181/200\n",
      "19/19 [==============================] - 0s 11ms/step - loss: 0.0173 - accuracy: 0.9949 - val_loss: 0.7747 - val_accuracy: 0.8154\n",
      "Epoch 182/200\n",
      "19/19 [==============================] - 0s 16ms/step - loss: 0.0157 - accuracy: 0.9949 - val_loss: 0.7710 - val_accuracy: 0.8205\n",
      "Epoch 183/200\n",
      "19/19 [==============================] - 0s 17ms/step - loss: 0.0219 - accuracy: 0.9932 - val_loss: 0.8464 - val_accuracy: 0.7744\n",
      "Epoch 184/200\n",
      "19/19 [==============================] - 0s 16ms/step - loss: 0.0236 - accuracy: 0.9949 - val_loss: 0.8402 - val_accuracy: 0.7744\n",
      "Epoch 185/200\n",
      "19/19 [==============================] - 0s 13ms/step - loss: 0.0183 - accuracy: 0.9949 - val_loss: 0.7814 - val_accuracy: 0.8410\n",
      "Epoch 186/200\n",
      "19/19 [==============================] - 0s 13ms/step - loss: 0.0168 - accuracy: 0.9966 - val_loss: 0.8095 - val_accuracy: 0.8051\n",
      "Epoch 187/200\n",
      "19/19 [==============================] - 0s 11ms/step - loss: 0.0176 - accuracy: 0.9966 - val_loss: 0.7882 - val_accuracy: 0.8359\n",
      "Epoch 188/200\n",
      "19/19 [==============================] - 0s 12ms/step - loss: 0.0177 - accuracy: 0.9949 - val_loss: 0.8426 - val_accuracy: 0.7744\n",
      "Epoch 189/200\n",
      "19/19 [==============================] - 0s 16ms/step - loss: 0.0137 - accuracy: 0.9983 - val_loss: 0.8459 - val_accuracy: 0.7795\n",
      "Epoch 190/200\n",
      "19/19 [==============================] - 0s 17ms/step - loss: 0.0164 - accuracy: 0.9966 - val_loss: 0.7944 - val_accuracy: 0.8359\n",
      "Epoch 191/200\n",
      "19/19 [==============================] - 0s 16ms/step - loss: 0.0152 - accuracy: 0.9966 - val_loss: 0.7921 - val_accuracy: 0.8410\n",
      "Epoch 192/200\n",
      "19/19 [==============================] - 0s 16ms/step - loss: 0.0137 - accuracy: 0.9983 - val_loss: 0.7924 - val_accuracy: 0.8462\n",
      "Epoch 193/200\n",
      "19/19 [==============================] - 0s 12ms/step - loss: 0.0183 - accuracy: 0.9966 - val_loss: 0.9936 - val_accuracy: 0.7436\n",
      "Epoch 194/200\n",
      "19/19 [==============================] - 0s 14ms/step - loss: 0.0187 - accuracy: 0.9983 - val_loss: 0.7997 - val_accuracy: 0.8154\n",
      "Epoch 195/200\n",
      "19/19 [==============================] - 0s 14ms/step - loss: 0.0136 - accuracy: 0.9983 - val_loss: 0.8018 - val_accuracy: 0.8359\n",
      "Epoch 196/200\n",
      "19/19 [==============================] - 0s 12ms/step - loss: 0.0205 - accuracy: 0.9932 - val_loss: 0.9901 - val_accuracy: 0.7333\n",
      "Epoch 197/200\n",
      "19/19 [==============================] - 0s 12ms/step - loss: 0.0202 - accuracy: 0.9983 - val_loss: 0.8222 - val_accuracy: 0.8410\n",
      "Epoch 198/200\n",
      "19/19 [==============================] - 0s 14ms/step - loss: 0.0154 - accuracy: 0.9966 - val_loss: 0.8399 - val_accuracy: 0.7846\n",
      "Epoch 199/200\n",
      "19/19 [==============================] - 0s 12ms/step - loss: 0.0128 - accuracy: 0.9949 - val_loss: 0.8107 - val_accuracy: 0.8154\n",
      "Epoch 200/200\n",
      "19/19 [==============================] - 0s 13ms/step - loss: 0.0141 - accuracy: 0.9966 - val_loss: 0.8068 - val_accuracy: 0.8359\n"
     ]
    }
   ],
   "source": [
    "batch_size = 32\n",
    "epochs = 200\n",
    "history = model.fit(train_X, train_y,\n",
    "                    batch_size=batch_size,\n",
    "                    epochs=epochs,\n",
    "                    validation_data=(test_X, test_y),\n",
    "                    verbose=1)"
   ]
  },
  {
   "cell_type": "code",
   "execution_count": 103,
   "id": "d876cde8",
   "metadata": {},
   "outputs": [
    {
     "data": {
      "image/png": "[encoded data removed]",
      "text/plain": [
       "<Figure size 640x480 with 1 Axes>"
      ]
     },
     "metadata": {},
     "output_type": "display_data"
    }
   ],
   "source": [
    "# visualise training history\n",
    "plt.plot(model.history.history['accuracy'])\n",
    "plt.plot(model.history.history['val_accuracy'])\n",
    "plt.title('model accuracy')\n",
    "plt.ylabel('accuracy')\n",
    "plt.xlabel('epoch')\n",
    "plt.legend(['train', 'test'], loc=\"lower right\")\n",
    "plt.ylim(0, 1)\n",
    "plt.show()"
   ]
  },
  {
   "cell_type": "markdown",
   "id": "4a4706a9",
   "metadata": {},
   "source": [
    "d. Print the accuracy of your model on the train and test set"
   ]
  },
  {
   "cell_type": "code",
   "execution_count": 104,
   "id": "583ca559",
   "metadata": {},
   "outputs": [
    {
     "name": "stdout",
     "output_type": "stream",
     "text": [
      "Accuracy of the model on the train set is 99.66 %\n",
      "Accuracy of the model on the test set is 83.59 %\n"
     ]
    }
   ],
   "source": [
    "# Evaluate the model on the train set\n",
    "train_loss, train_accuracy = model.evaluate(train_X, train_y, verbose=0)\n",
    "print(f\"Accuracy of the model on the train set is {train_accuracy * 100:.2f} %\")\n",
    "\n",
    "# Evaluate the model on the test set\n",
    "test_loss, test_accuracy = model.evaluate(test_X, test_y, verbose=0)\n",
    "print(f\"Accuracy of the model on the test set is {test_accuracy * 100:.2f} %\")\n"
   ]
  },
  {
   "cell_type": "markdown",
   "id": "239236d7",
   "metadata": {},
   "source": [
    "e. Update the confusion matrix below to check how good your model has done on the data."
   ]
  },
  {
   "cell_type": "code",
   "execution_count": 105,
   "id": "2fc036f0",
   "metadata": {},
   "outputs": [
    {
     "name": "stdout",
     "output_type": "stream",
     "text": [
      "7/7 [==============================] - 0s 3ms/step\n"
     ]
    },
    {
     "data": {
      "image/png": "[encoded data removed]",
      "text/plain": [
       "<Figure size 1000x700 with 2 Axes>"
      ]
     },
     "metadata": {},
     "output_type": "display_data"
    }
   ],
   "source": [
    "predictions = model.predict(test_X)\n",
    "predicted_labels = (predictions > 0.5).astype(\"int32\")\n",
    "cm = confusion_matrix(test_y, predicted_labels)\n",
    "plt.figure(figsize=(10, 7))\n",
    "sns.heatmap(cm, annot=True, fmt='g')\n",
    "plt.xlabel('Predicted')\n",
    "plt.ylabel('True')\n",
    "plt.show()"
   ]
  },
  {
   "cell_type": "markdown",
   "id": "0161fdea",
   "metadata": {},
   "source": [
    "### Exercise 9\n",
    "For this exercise, we use a CNN and compare its performance with our previous results. You can choose any CNN architecture. However, be aware that adding many layers or filters will increase the number of parameters, which might extend the training time."
   ]
  },
  {
   "cell_type": "code",
   "execution_count": 106,
   "id": "e0f13d95",
   "metadata": {},
   "outputs": [],
   "source": [
    "train_X, test_X, train_y, test_y = train_test_split(np_images, y, test_size=ts, shuffle=True, random_state=rs)"
   ]
  },
  {
   "cell_type": "markdown",
   "id": "d2e924e9",
   "metadata": {},
   "source": [
    "a. Create and compile your model architecture below"
   ]
  },
  {
   "cell_type": "code",
   "execution_count": 107,
   "id": "eaf4e962",
   "metadata": {},
   "outputs": [],
   "source": [
    "model = Sequential()\n",
    "\n",
    "model.add(Conv2D(filters=1, kernel_size=(3,3), activation='relu', input_shape=(64, 64, 1)))\n",
    "model.add(Conv2D(filters=8, kernel_size=(3,3), activation='relu'))\n",
    "model.add(Conv2D(filters=2, kernel_size=(3,3), activation='relu'))\n",
    "model.add(Conv2D(filters=1, kernel_size=(3,3), activation='relu'))\n",
    "model.add(Flatten())\n",
    "model.add(Dense(64, activation='relu'))\n",
    "model.add(Dense(4, activation='relu'))\n",
    "model.add(Dense(1, activation='sigmoid'))\n",
    "\n",
    "model.compile(optimizer='adam', loss='binary_crossentropy', metrics=['accuracy'])"
   ]
  },
  {
   "cell_type": "code",
   "execution_count": 108,
   "id": "b5aed3c3",
   "metadata": {
    "scrolled": true
   },
   "outputs": [
    {
     "name": "stdout",
     "output_type": "stream",
     "text": [
      "Model: \"sequential_7\"\n",
      "_________________________________________________________________\n",
      " Layer (type)                Output Shape              Param #   \n",
      "=================================================================\n",
      " conv2d_8 (Conv2D)           (None, 62, 62, 1)         10        \n",
      "                                                                 \n",
      " conv2d_9 (Conv2D)           (None, 60, 60, 8)         80        \n",
      "                                                                 \n",
      " conv2d_10 (Conv2D)          (None, 58, 58, 2)         146       \n",
      "                                                                 \n",
      " conv2d_11 (Conv2D)          (None, 56, 56, 1)         19        \n",
      "                                                                 \n",
      " flatten_3 (Flatten)         (None, 3136)              0         \n",
      "                                                                 \n",
      " dense_23 (Dense)            (None, 64)                200768    \n",
      "                                                                 \n",
      " dense_24 (Dense)            (None, 4)                 260       \n",
      "                                                                 \n",
      " dense_25 (Dense)            (None, 1)                 5         \n",
      "                                                                 \n",
      "=================================================================\n",
      "Total params: 201288 (786.28 KB)\n",
      "Trainable params: 201288 (786.28 KB)\n",
      "Non-trainable params: 0 (0.00 Byte)\n",
      "_________________________________________________________________\n"
     ]
    }
   ],
   "source": [
    "model.summary()"
   ]
  },
  {
   "cell_type": "markdown",
   "id": "57084ce7",
   "metadata": {},
   "source": [
    "b. Fit your CNN to the data"
   ]
  },
  {
   "cell_type": "code",
   "execution_count": 109,
   "id": "2c7b9831",
   "metadata": {},
   "outputs": [
    {
     "name": "stdout",
     "output_type": "stream",
     "text": [
      "Epoch 1/100\n",
      "19/19 [==============================] - 5s 102ms/step - loss: 0.6110 - accuracy: 0.7026 - val_loss: 0.5570 - val_accuracy: 0.7538\n",
      "Epoch 2/100\n",
      "19/19 [==============================] - 2s 81ms/step - loss: 0.5665 - accuracy: 0.7231 - val_loss: 0.5456 - val_accuracy: 0.7538\n",
      "Epoch 3/100\n",
      "19/19 [==============================] - 2s 86ms/step - loss: 0.5374 - accuracy: 0.7231 - val_loss: 0.5201 - val_accuracy: 0.7538\n",
      "Epoch 4/100\n",
      "19/19 [==============================] - 2s 87ms/step - loss: 0.5089 - accuracy: 0.7231 - val_loss: 0.4874 - val_accuracy: 0.7538\n",
      "Epoch 5/100\n",
      "19/19 [==============================] - 2s 109ms/step - loss: 0.4728 - accuracy: 0.7231 - val_loss: 0.4812 - val_accuracy: 0.7538\n",
      "Epoch 6/100\n",
      "19/19 [==============================] - 2s 100ms/step - loss: 0.4433 - accuracy: 0.7778 - val_loss: 0.4693 - val_accuracy: 0.7692\n",
      "Epoch 7/100\n",
      "19/19 [==============================] - 2s 101ms/step - loss: 0.4038 - accuracy: 0.8154 - val_loss: 0.4879 - val_accuracy: 0.7692\n",
      "Epoch 8/100\n",
      "19/19 [==============================] - 2s 100ms/step - loss: 0.3715 - accuracy: 0.8496 - val_loss: 0.4527 - val_accuracy: 0.8103\n",
      "Epoch 9/100\n",
      "19/19 [==============================] - 2s 100ms/step - loss: 0.3339 - accuracy: 0.8564 - val_loss: 0.4634 - val_accuracy: 0.8154\n",
      "Epoch 10/100\n",
      "19/19 [==============================] - 2s 85ms/step - loss: 0.3007 - accuracy: 0.8855 - val_loss: 0.4678 - val_accuracy: 0.8256\n",
      "Epoch 11/100\n",
      "19/19 [==============================] - 2s 85ms/step - loss: 0.2655 - accuracy: 0.9368 - val_loss: 0.5815 - val_accuracy: 0.7949\n",
      "Epoch 12/100\n",
      "19/19 [==============================] - 2s 80ms/step - loss: 0.2710 - accuracy: 0.9162 - val_loss: 0.4888 - val_accuracy: 0.8308\n",
      "Epoch 13/100\n",
      "19/19 [==============================] - 2s 83ms/step - loss: 0.2599 - accuracy: 0.9111 - val_loss: 0.5025 - val_accuracy: 0.8205\n",
      "Epoch 14/100\n",
      "19/19 [==============================] - 2s 94ms/step - loss: 0.2213 - accuracy: 0.9692 - val_loss: 0.5896 - val_accuracy: 0.8359\n",
      "Epoch 15/100\n",
      "19/19 [==============================] - 2s 101ms/step - loss: 0.2059 - accuracy: 0.9607 - val_loss: 0.5996 - val_accuracy: 0.8410\n",
      "Epoch 16/100\n",
      "19/19 [==============================] - 2s 100ms/step - loss: 0.1937 - accuracy: 0.9761 - val_loss: 0.7494 - val_accuracy: 0.8000\n",
      "Epoch 17/100\n",
      "19/19 [==============================] - 2s 103ms/step - loss: 0.1906 - accuracy: 0.9761 - val_loss: 0.6517 - val_accuracy: 0.8359\n",
      "Epoch 18/100\n",
      "19/19 [==============================] - 2s 104ms/step - loss: 0.1823 - accuracy: 0.9795 - val_loss: 0.7844 - val_accuracy: 0.8205\n",
      "Epoch 19/100\n",
      "19/19 [==============================] - 2s 87ms/step - loss: 0.1782 - accuracy: 0.9863 - val_loss: 0.6550 - val_accuracy: 0.8359\n",
      "Epoch 20/100\n",
      "19/19 [==============================] - 2s 85ms/step - loss: 0.1747 - accuracy: 0.9863 - val_loss: 0.7126 - val_accuracy: 0.8359\n",
      "Epoch 21/100\n",
      "19/19 [==============================] - 1s 78ms/step - loss: 0.1722 - accuracy: 0.9897 - val_loss: 0.7583 - val_accuracy: 0.8359\n",
      "Epoch 22/100\n",
      "19/19 [==============================] - 2s 80ms/step - loss: 0.1689 - accuracy: 0.9880 - val_loss: 0.7138 - val_accuracy: 0.8308\n",
      "Epoch 23/100\n",
      "19/19 [==============================] - 2s 95ms/step - loss: 0.1668 - accuracy: 0.9846 - val_loss: 0.7227 - val_accuracy: 0.8359\n",
      "Epoch 24/100\n",
      "19/19 [==============================] - 2s 101ms/step - loss: 0.1626 - accuracy: 0.9897 - val_loss: 0.8483 - val_accuracy: 0.8256\n",
      "Epoch 25/100\n",
      "19/19 [==============================] - 2s 98ms/step - loss: 0.1609 - accuracy: 0.9880 - val_loss: 0.8213 - val_accuracy: 0.8308\n",
      "Epoch 26/100\n",
      "19/19 [==============================] - 2s 101ms/step - loss: 0.1577 - accuracy: 0.9897 - val_loss: 0.8188 - val_accuracy: 0.8410\n",
      "Epoch 27/100\n",
      "19/19 [==============================] - 2s 104ms/step - loss: 0.1573 - accuracy: 0.9880 - val_loss: 0.6687 - val_accuracy: 0.8051\n",
      "Epoch 28/100\n",
      "19/19 [==============================] - 2s 91ms/step - loss: 0.1560 - accuracy: 0.9897 - val_loss: 0.7261 - val_accuracy: 0.8205\n",
      "Epoch 29/100\n",
      "19/19 [==============================] - 2s 86ms/step - loss: 0.1522 - accuracy: 0.9897 - val_loss: 0.8604 - val_accuracy: 0.8359\n",
      "Epoch 30/100\n",
      "19/19 [==============================] - 2s 83ms/step - loss: 0.1497 - accuracy: 0.9915 - val_loss: 0.9254 - val_accuracy: 0.8359\n",
      "Epoch 31/100\n",
      "19/19 [==============================] - 2s 82ms/step - loss: 0.1507 - accuracy: 0.9880 - val_loss: 0.8421 - val_accuracy: 0.8359\n",
      "Epoch 32/100\n",
      "19/19 [==============================] - 2s 99ms/step - loss: 0.1466 - accuracy: 0.9915 - val_loss: 0.7474 - val_accuracy: 0.8205\n",
      "Epoch 33/100\n",
      "19/19 [==============================] - 2s 102ms/step - loss: 0.1454 - accuracy: 0.9915 - val_loss: 0.8331 - val_accuracy: 0.8154\n",
      "Epoch 34/100\n",
      "19/19 [==============================] - 2s 101ms/step - loss: 0.1432 - accuracy: 0.9915 - val_loss: 0.8637 - val_accuracy: 0.8308\n",
      "Epoch 35/100\n",
      "19/19 [==============================] - 2s 101ms/step - loss: 0.1425 - accuracy: 0.9932 - val_loss: 0.7387 - val_accuracy: 0.8308\n",
      "Epoch 36/100\n",
      "19/19 [==============================] - 2s 101ms/step - loss: 0.1424 - accuracy: 0.9897 - val_loss: 0.9162 - val_accuracy: 0.8308\n",
      "Epoch 37/100\n",
      "19/19 [==============================] - 2s 92ms/step - loss: 0.1367 - accuracy: 0.9915 - val_loss: 0.8313 - val_accuracy: 0.8205\n",
      "Epoch 38/100\n",
      "19/19 [==============================] - 2s 86ms/step - loss: 0.1345 - accuracy: 0.9915 - val_loss: 0.9664 - val_accuracy: 0.8308\n",
      "Epoch 39/100\n",
      "19/19 [==============================] - 2s 84ms/step - loss: 0.1327 - accuracy: 0.9932 - val_loss: 0.9612 - val_accuracy: 0.8308\n",
      "Epoch 40/100\n",
      "19/19 [==============================] - 2s 83ms/step - loss: 0.1305 - accuracy: 0.9915 - val_loss: 1.0245 - val_accuracy: 0.8308\n",
      "Epoch 41/100\n",
      "19/19 [==============================] - 2s 93ms/step - loss: 0.1273 - accuracy: 0.9949 - val_loss: 0.9777 - val_accuracy: 0.8308\n",
      "Epoch 42/100\n",
      "19/19 [==============================] - 2s 103ms/step - loss: 0.1254 - accuracy: 0.9949 - val_loss: 1.0755 - val_accuracy: 0.8359\n",
      "Epoch 43/100\n",
      "19/19 [==============================] - 2s 100ms/step - loss: 0.1256 - accuracy: 0.9915 - val_loss: 0.8542 - val_accuracy: 0.8205\n",
      "Epoch 44/100\n",
      "19/19 [==============================] - 2s 100ms/step - loss: 0.1219 - accuracy: 0.9949 - val_loss: 1.1653 - val_accuracy: 0.8359\n",
      "Epoch 45/100\n",
      "19/19 [==============================] - 2s 101ms/step - loss: 0.1232 - accuracy: 0.9932 - val_loss: 1.0800 - val_accuracy: 0.8308\n",
      "Epoch 46/100\n",
      "19/19 [==============================] - 2s 91ms/step - loss: 0.1213 - accuracy: 0.9949 - val_loss: 1.0792 - val_accuracy: 0.8205\n",
      "Epoch 47/100\n",
      "19/19 [==============================] - 2s 82ms/step - loss: 0.1220 - accuracy: 0.9932 - val_loss: 0.8142 - val_accuracy: 0.7949\n",
      "Epoch 48/100\n",
      "19/19 [==============================] - 2s 83ms/step - loss: 0.1186 - accuracy: 0.9949 - val_loss: 1.0296 - val_accuracy: 0.8256\n",
      "Epoch 49/100\n",
      "19/19 [==============================] - 2s 83ms/step - loss: 0.1147 - accuracy: 0.9949 - val_loss: 0.9532 - val_accuracy: 0.8308\n",
      "Epoch 50/100\n",
      "19/19 [==============================] - 2s 97ms/step - loss: 0.1137 - accuracy: 0.9966 - val_loss: 0.9265 - val_accuracy: 0.8154\n",
      "Epoch 51/100\n",
      "19/19 [==============================] - 2s 101ms/step - loss: 0.1118 - accuracy: 0.9949 - val_loss: 1.0859 - val_accuracy: 0.8154\n",
      "Epoch 52/100\n",
      "19/19 [==============================] - 2s 100ms/step - loss: 0.1103 - accuracy: 0.9949 - val_loss: 1.0930 - val_accuracy: 0.8154\n",
      "Epoch 53/100\n",
      "19/19 [==============================] - 2s 101ms/step - loss: 0.1093 - accuracy: 0.9966 - val_loss: 1.2467 - val_accuracy: 0.8256\n",
      "Epoch 54/100\n",
      "19/19 [==============================] - 2s 101ms/step - loss: 0.1079 - accuracy: 0.9949 - val_loss: 0.9906 - val_accuracy: 0.8256\n",
      "Epoch 55/100\n",
      "19/19 [==============================] - 2s 91ms/step - loss: 0.1065 - accuracy: 0.9949 - val_loss: 0.9626 - val_accuracy: 0.8154\n",
      "Epoch 56/100\n",
      "19/19 [==============================] - 2s 85ms/step - loss: 0.1110 - accuracy: 0.9932 - val_loss: 0.8104 - val_accuracy: 0.7846\n",
      "Epoch 57/100\n",
      "19/19 [==============================] - 2s 86ms/step - loss: 0.1077 - accuracy: 0.9932 - val_loss: 0.8785 - val_accuracy: 0.7744\n",
      "Epoch 58/100\n"
     ]
    },
    {
     "name": "stdout",
     "output_type": "stream",
     "text": [
      "19/19 [==============================] - 1s 78ms/step - loss: 0.1052 - accuracy: 0.9966 - val_loss: 1.0638 - val_accuracy: 0.8205\n",
      "Epoch 59/100\n",
      "19/19 [==============================] - 2s 92ms/step - loss: 0.1018 - accuracy: 0.9949 - val_loss: 1.0063 - val_accuracy: 0.7897\n",
      "Epoch 60/100\n",
      "19/19 [==============================] - 2s 101ms/step - loss: 0.0996 - accuracy: 0.9949 - val_loss: 1.2734 - val_accuracy: 0.8359\n",
      "Epoch 61/100\n",
      "19/19 [==============================] - 2s 104ms/step - loss: 0.0978 - accuracy: 0.9966 - val_loss: 1.0383 - val_accuracy: 0.8000\n",
      "Epoch 62/100\n",
      "19/19 [==============================] - 2s 102ms/step - loss: 0.0980 - accuracy: 0.9966 - val_loss: 1.4768 - val_accuracy: 0.8256\n",
      "Epoch 63/100\n",
      "19/19 [==============================] - 2s 100ms/step - loss: 0.0970 - accuracy: 0.9966 - val_loss: 1.2494 - val_accuracy: 0.8308\n",
      "Epoch 64/100\n",
      "19/19 [==============================] - 2s 94ms/step - loss: 0.1012 - accuracy: 0.9932 - val_loss: 1.1979 - val_accuracy: 0.8256\n",
      "Epoch 65/100\n",
      "19/19 [==============================] - 2s 87ms/step - loss: 0.0961 - accuracy: 0.9949 - val_loss: 0.9715 - val_accuracy: 0.8205\n",
      "Epoch 66/100\n",
      "19/19 [==============================] - 2s 83ms/step - loss: 0.0945 - accuracy: 0.9932 - val_loss: 1.0660 - val_accuracy: 0.8359\n",
      "Epoch 67/100\n",
      "19/19 [==============================] - 1s 79ms/step - loss: 0.0930 - accuracy: 0.9949 - val_loss: 1.0618 - val_accuracy: 0.8103\n",
      "Epoch 68/100\n",
      "19/19 [==============================] - 2s 90ms/step - loss: 0.0923 - accuracy: 0.9949 - val_loss: 1.1965 - val_accuracy: 0.8359\n",
      "Epoch 69/100\n",
      "19/19 [==============================] - 2s 95ms/step - loss: 0.0907 - accuracy: 0.9949 - val_loss: 1.2368 - val_accuracy: 0.8359\n",
      "Epoch 70/100\n",
      "19/19 [==============================] - 2s 96ms/step - loss: 0.0892 - accuracy: 0.9966 - val_loss: 1.0812 - val_accuracy: 0.8103\n",
      "Epoch 71/100\n",
      "19/19 [==============================] - 2s 100ms/step - loss: 0.0887 - accuracy: 0.9949 - val_loss: 1.1449 - val_accuracy: 0.8308\n",
      "Epoch 72/100\n",
      "19/19 [==============================] - 2s 102ms/step - loss: 0.0870 - accuracy: 0.9966 - val_loss: 1.1723 - val_accuracy: 0.8410\n",
      "Epoch 73/100\n",
      "19/19 [==============================] - 2s 99ms/step - loss: 0.0864 - accuracy: 0.9966 - val_loss: 1.3368 - val_accuracy: 0.8205\n",
      "Epoch 74/100\n",
      "19/19 [==============================] - 2s 82ms/step - loss: 0.0854 - accuracy: 0.9966 - val_loss: 1.2224 - val_accuracy: 0.8359\n",
      "Epoch 75/100\n",
      "19/19 [==============================] - 2s 82ms/step - loss: 0.0841 - accuracy: 0.9966 - val_loss: 1.2460 - val_accuracy: 0.8359\n",
      "Epoch 76/100\n",
      "19/19 [==============================] - 2s 81ms/step - loss: 0.0837 - accuracy: 0.9966 - val_loss: 1.4016 - val_accuracy: 0.8256\n",
      "Epoch 77/100\n",
      "19/19 [==============================] - 1s 78ms/step - loss: 0.0823 - accuracy: 0.9966 - val_loss: 1.0640 - val_accuracy: 0.7744\n",
      "Epoch 78/100\n",
      "19/19 [==============================] - 2s 96ms/step - loss: 0.0813 - accuracy: 0.9966 - val_loss: 1.3037 - val_accuracy: 0.8256\n",
      "Epoch 79/100\n",
      "19/19 [==============================] - 2s 100ms/step - loss: 0.0803 - accuracy: 0.9966 - val_loss: 1.2065 - val_accuracy: 0.8256\n",
      "Epoch 80/100\n",
      "19/19 [==============================] - 2s 97ms/step - loss: 0.0795 - accuracy: 0.9966 - val_loss: 1.2503 - val_accuracy: 0.8359\n",
      "Epoch 81/100\n",
      "19/19 [==============================] - 2s 99ms/step - loss: 0.0786 - accuracy: 0.9966 - val_loss: 1.3083 - val_accuracy: 0.8359\n",
      "Epoch 82/100\n",
      "19/19 [==============================] - 2s 97ms/step - loss: 0.0776 - accuracy: 0.9966 - val_loss: 1.4143 - val_accuracy: 0.8308\n",
      "Epoch 83/100\n",
      "19/19 [==============================] - 2s 88ms/step - loss: 0.0770 - accuracy: 0.9966 - val_loss: 1.1758 - val_accuracy: 0.8051\n",
      "Epoch 84/100\n",
      "19/19 [==============================] - 1s 78ms/step - loss: 0.0762 - accuracy: 0.9966 - val_loss: 1.3548 - val_accuracy: 0.8256\n",
      "Epoch 85/100\n",
      "19/19 [==============================] - 2s 82ms/step - loss: 0.0754 - accuracy: 0.9966 - val_loss: 1.2857 - val_accuracy: 0.8256\n",
      "Epoch 86/100\n",
      "19/19 [==============================] - 2s 86ms/step - loss: 0.0745 - accuracy: 0.9966 - val_loss: 1.1973 - val_accuracy: 0.8154\n",
      "Epoch 87/100\n",
      "19/19 [==============================] - 2s 98ms/step - loss: 0.0737 - accuracy: 0.9966 - val_loss: 1.3621 - val_accuracy: 0.8308\n",
      "Epoch 88/100\n",
      "19/19 [==============================] - 2s 101ms/step - loss: 0.0735 - accuracy: 0.9966 - val_loss: 1.0387 - val_accuracy: 0.7590\n",
      "Epoch 89/100\n",
      "19/19 [==============================] - 2s 100ms/step - loss: 0.0736 - accuracy: 0.9966 - val_loss: 1.4478 - val_accuracy: 0.8205\n",
      "Epoch 90/100\n",
      "19/19 [==============================] - 2s 102ms/step - loss: 0.0715 - accuracy: 0.9966 - val_loss: 1.4541 - val_accuracy: 0.8308\n",
      "Epoch 91/100\n",
      "19/19 [==============================] - 2s 103ms/step - loss: 0.0709 - accuracy: 0.9966 - val_loss: 1.1047 - val_accuracy: 0.7692\n",
      "Epoch 92/100\n",
      "19/19 [==============================] - 2s 88ms/step - loss: 0.0703 - accuracy: 0.9966 - val_loss: 1.3604 - val_accuracy: 0.8359\n",
      "Epoch 93/100\n",
      "19/19 [==============================] - 2s 85ms/step - loss: 0.0718 - accuracy: 0.9949 - val_loss: 1.8730 - val_accuracy: 0.8205\n",
      "Epoch 94/100\n",
      "19/19 [==============================] - 2s 83ms/step - loss: 0.0709 - accuracy: 0.9966 - val_loss: 1.4363 - val_accuracy: 0.8256\n",
      "Epoch 95/100\n",
      "19/19 [==============================] - 2s 85ms/step - loss: 0.0684 - accuracy: 0.9983 - val_loss: 1.1054 - val_accuracy: 0.8051\n",
      "Epoch 96/100\n",
      "19/19 [==============================] - 2s 96ms/step - loss: 0.0728 - accuracy: 0.9966 - val_loss: 0.9936 - val_accuracy: 0.7692\n",
      "Epoch 97/100\n",
      "19/19 [==============================] - 2s 102ms/step - loss: 0.0750 - accuracy: 0.9949 - val_loss: 1.6221 - val_accuracy: 0.8256\n",
      "Epoch 98/100\n",
      "19/19 [==============================] - 2s 99ms/step - loss: 0.0887 - accuracy: 0.9915 - val_loss: 1.2424 - val_accuracy: 0.8308\n",
      "Epoch 99/100\n",
      "19/19 [==============================] - 2s 102ms/step - loss: 0.0742 - accuracy: 0.9932 - val_loss: 1.0142 - val_accuracy: 0.7846\n",
      "Epoch 100/100\n",
      "19/19 [==============================] - 2s 102ms/step - loss: 0.0723 - accuracy: 0.9932 - val_loss: 1.0155 - val_accuracy: 0.7538\n"
     ]
    }
   ],
   "source": [
    "batch_size = 32\n",
    "epochs = 100\n",
    "history = model.fit(train_X, train_y,\n",
    "                    batch_size=batch_size,\n",
    "                    epochs=epochs,\n",
    "                    validation_data=(test_X, test_y),\n",
    "                    verbose=1)"
   ]
  },
  {
   "cell_type": "code",
   "execution_count": 110,
   "id": "1301814b",
   "metadata": {},
   "outputs": [
    {
     "data": {
      "image/png": "[encoded data removed]",
      "text/plain": [
       "<Figure size 640x480 with 1 Axes>"
      ]
     },
     "metadata": {},
     "output_type": "display_data"
    }
   ],
   "source": [
    "# visualise training history\n",
    "plt.plot(model.history.history['accuracy'])\n",
    "plt.plot(model.history.history['val_accuracy'])\n",
    "plt.title('model accuracy')\n",
    "plt.ylabel('accuracy')\n",
    "plt.xlabel('epoch')\n",
    "plt.ylim(0, 1)\n",
    "plt.legend(['train', 'test'], loc=\"lower right\")\n",
    "plt.show()"
   ]
  },
  {
   "cell_type": "markdown",
   "id": "6700ce90",
   "metadata": {},
   "source": [
    "c. Print your model's accuracy on the test and train sets"
   ]
  },
  {
   "cell_type": "code",
   "execution_count": 111,
   "id": "6663ef97",
   "metadata": {
    "scrolled": true
   },
   "outputs": [
    {
     "name": "stdout",
     "output_type": "stream",
     "text": [
      "Accuracy of the model on the train set is 99.66 %\n",
      "Accuracy of the model on the test set is 75.38 %\n"
     ]
    }
   ],
   "source": [
    "# Evaluate the model on the train set\n",
    "train_loss, train_accuracy = model.evaluate(train_X, train_y, verbose=0)\n",
    "print(f\"Accuracy of the model on the train set is {train_accuracy * 100:.2f} %\")\n",
    "\n",
    "# Evaluate the model on the test set\n",
    "test_loss, test_accuracy = model.evaluate(test_X, test_y, verbose=0)\n",
    "print(f\"Accuracy of the model on the test set is {test_accuracy * 100:.2f} %\")\n"
   ]
  },
  {
   "cell_type": "markdown",
   "id": "db5d216e",
   "metadata": {},
   "source": [
    "d. Create a confusion matrix to inspect the model's output"
   ]
  },
  {
   "cell_type": "code",
   "execution_count": 112,
   "id": "f2de90c8",
   "metadata": {},
   "outputs": [
    {
     "name": "stdout",
     "output_type": "stream",
     "text": [
      "7/7 [==============================] - 0s 27ms/step\n"
     ]
    },
    {
     "data": {
      "image/png": "[encoded data removed]",
      "text/plain": [
       "<Figure size 1000x700 with 2 Axes>"
      ]
     },
     "metadata": {},
     "output_type": "display_data"
    }
   ],
   "source": [
    "predictions = model.predict(test_X)\n",
    "predicted_labels = (predictions > 0.5).astype(\"int32\")\n",
    "cm = confusion_matrix(test_y, predicted_labels)\n",
    "plt.figure(figsize=(10, 7))\n",
    "sns.heatmap(cm, annot=True, fmt='g')\n",
    "plt.xlabel('Predicted')\n",
    "plt.ylabel('True')\n",
    "plt.show()"
   ]
  },
  {
   "cell_type": "markdown",
   "id": "b7a090af",
   "metadata": {},
   "source": [
    "## Multiclassification\n",
    "Let's now shift back to the main challenge in the dataset and build models that can distinguish the three classes, and not just segregate the **malignant** scans from the other scans.\n",
    "\n",
    "Our first task is to encode our **y** vector properly. \n",
    "Keep also in mind that the **sigmoid** activation is not the right choice for the output layer, and that the number of neurons of the output layer needs to be equal to the number of expected classes.\n",
    "\n",
    "### Exercise 10\n",
    "Create a **y** matrix for your labels. The **y** matrix is of shape **(ne, nc)**. \n",
    "\n",
    "With **ne** meaning number of examples and **nc** meaning number of possible classes.\n",
    "\n",
    "Refer to keras' to_categorical() function to create your ground truth matrix."
   ]
  },
  {
   "cell_type": "code",
   "execution_count": 113,
   "id": "dd6979ef",
   "metadata": {},
   "outputs": [
    {
     "name": "stdout",
     "output_type": "stream",
     "text": [
      "(780,)\n"
     ]
    }
   ],
   "source": [
    "y = [0 if label_name == 'malignant' else 1 if label_name == 'benign' else 2 for label_name in label]\n",
    "y = np.array(y)\n",
    "print(y.shape)\n",
    "y = to_categorical(y, num_classes=3)"
   ]
  },
  {
   "cell_type": "code",
   "execution_count": 114,
   "id": "2b5c2e66",
   "metadata": {},
   "outputs": [
    {
     "data": {
      "text/plain": [
       "(780, 3)"
      ]
     },
     "execution_count": 114,
     "metadata": {},
     "output_type": "execute_result"
    }
   ],
   "source": [
    "y.shape"
   ]
  },
  {
   "cell_type": "markdown",
   "id": "86677e19",
   "metadata": {},
   "source": [
    "### Exercise 11\n"
   ]
  },
  {
   "cell_type": "code",
   "execution_count": 115,
   "id": "436bbc49",
   "metadata": {},
   "outputs": [],
   "source": [
    "train_X, test_X, train_y, test_y = train_test_split(np_images_flattened, y, test_size=ts, shuffle=True, random_state=rs)"
   ]
  },
  {
   "cell_type": "markdown",
   "id": "6b6155ae",
   "metadata": {},
   "source": [
    "a. You can now create another DNN to classify your scans according to their labels."
   ]
  },
  {
   "cell_type": "code",
   "execution_count": 116,
   "id": "b31ae9d5",
   "metadata": {},
   "outputs": [],
   "source": [
    "model = Sequential([\n",
    "    Dense(128, activation='relu', input_shape=(4096,)),\n",
    "    Dense(32, activation='relu'),\n",
    "    Dense(4, activation='relu'),\n",
    "    Dense(3, activation='softmax')\n",
    "])\n",
    "\n",
    "optimizer = Adam(learning_rate=0.0001)\n",
    "\n",
    "model.compile(optimizer=optimizer,\n",
    "              loss='categorical_crossentropy',\n",
    "              metrics=['accuracy'])"
   ]
  },
  {
   "cell_type": "code",
   "execution_count": 117,
   "id": "1e80120c",
   "metadata": {},
   "outputs": [
    {
     "name": "stdout",
     "output_type": "stream",
     "text": [
      "Model: \"sequential_8\"\n",
      "_________________________________________________________________\n",
      " Layer (type)                Output Shape              Param #   \n",
      "=================================================================\n",
      " dense_26 (Dense)            (None, 128)               524416    \n",
      "                                                                 \n",
      " dense_27 (Dense)            (None, 32)                4128      \n",
      "                                                                 \n",
      " dense_28 (Dense)            (None, 4)                 132       \n",
      "                                                                 \n",
      " dense_29 (Dense)            (None, 3)                 15        \n",
      "                                                                 \n",
      "=================================================================\n",
      "Total params: 528691 (2.02 MB)\n",
      "Trainable params: 528691 (2.02 MB)\n",
      "Non-trainable params: 0 (0.00 Byte)\n",
      "_________________________________________________________________\n"
     ]
    }
   ],
   "source": [
    "model.summary()"
   ]
  },
  {
   "cell_type": "markdown",
   "id": "1103293e",
   "metadata": {},
   "source": [
    "b. Train your model below"
   ]
  },
  {
   "cell_type": "code",
   "execution_count": 118,
   "id": "75b468fc",
   "metadata": {},
   "outputs": [
    {
     "name": "stdout",
     "output_type": "stream",
     "text": [
      "Epoch 1/200\n",
      "19/19 [==============================] - 2s 35ms/step - loss: 0.9865 - accuracy: 0.5487 - val_loss: 0.9915 - val_accuracy: 0.5590\n",
      "Epoch 2/200\n",
      "19/19 [==============================] - 0s 20ms/step - loss: 0.9688 - accuracy: 0.5607 - val_loss: 0.9825 - val_accuracy: 0.5590\n",
      "Epoch 3/200\n",
      "19/19 [==============================] - 0s 16ms/step - loss: 0.9615 - accuracy: 0.5607 - val_loss: 0.9717 - val_accuracy: 0.5590\n",
      "Epoch 4/200\n",
      "19/19 [==============================] - 0s 17ms/step - loss: 0.9591 - accuracy: 0.5607 - val_loss: 0.9677 - val_accuracy: 0.5590\n",
      "Epoch 5/200\n",
      "19/19 [==============================] - 0s 17ms/step - loss: 0.9522 - accuracy: 0.5607 - val_loss: 0.9685 - val_accuracy: 0.5590\n",
      "Epoch 6/200\n",
      "19/19 [==============================] - 0s 16ms/step - loss: 0.9426 - accuracy: 0.5607 - val_loss: 0.9632 - val_accuracy: 0.5590\n",
      "Epoch 7/200\n",
      "19/19 [==============================] - 0s 16ms/step - loss: 0.9329 - accuracy: 0.5607 - val_loss: 0.9572 - val_accuracy: 0.5590\n",
      "Epoch 8/200\n",
      "19/19 [==============================] - 0s 17ms/step - loss: 0.9313 - accuracy: 0.5607 - val_loss: 0.9809 - val_accuracy: 0.5590\n",
      "Epoch 9/200\n",
      "19/19 [==============================] - 0s 16ms/step - loss: 0.9315 - accuracy: 0.5607 - val_loss: 0.9567 - val_accuracy: 0.5590\n",
      "Epoch 10/200\n",
      "19/19 [==============================] - 0s 16ms/step - loss: 0.9130 - accuracy: 0.5607 - val_loss: 0.9520 - val_accuracy: 0.5590\n",
      "Epoch 11/200\n",
      "19/19 [==============================] - 0s 17ms/step - loss: 0.9052 - accuracy: 0.5607 - val_loss: 0.9489 - val_accuracy: 0.5590\n",
      "Epoch 12/200\n",
      "19/19 [==============================] - 0s 16ms/step - loss: 0.9000 - accuracy: 0.5607 - val_loss: 0.9460 - val_accuracy: 0.5590\n",
      "Epoch 13/200\n",
      "19/19 [==============================] - 0s 16ms/step - loss: 0.8929 - accuracy: 0.5607 - val_loss: 0.9598 - val_accuracy: 0.5590\n",
      "Epoch 14/200\n",
      "19/19 [==============================] - 0s 16ms/step - loss: 0.8881 - accuracy: 0.5607 - val_loss: 0.9445 - val_accuracy: 0.5590\n",
      "Epoch 15/200\n",
      "19/19 [==============================] - 0s 17ms/step - loss: 0.8829 - accuracy: 0.5607 - val_loss: 1.0232 - val_accuracy: 0.5590\n",
      "Epoch 16/200\n",
      "19/19 [==============================] - 0s 18ms/step - loss: 0.8897 - accuracy: 0.5607 - val_loss: 0.9662 - val_accuracy: 0.5590\n",
      "Epoch 17/200\n",
      "19/19 [==============================] - 0s 18ms/step - loss: 0.8804 - accuracy: 0.5607 - val_loss: 0.9543 - val_accuracy: 0.5590\n",
      "Epoch 18/200\n",
      "19/19 [==============================] - 0s 17ms/step - loss: 0.8805 - accuracy: 0.5607 - val_loss: 0.9559 - val_accuracy: 0.5590\n",
      "Epoch 19/200\n",
      "19/19 [==============================] - 0s 18ms/step - loss: 0.8851 - accuracy: 0.5607 - val_loss: 0.9624 - val_accuracy: 0.5590\n",
      "Epoch 20/200\n",
      "19/19 [==============================] - 0s 24ms/step - loss: 0.8520 - accuracy: 0.5658 - val_loss: 0.9503 - val_accuracy: 0.5590\n",
      "Epoch 21/200\n",
      "19/19 [==============================] - 0s 16ms/step - loss: 0.8478 - accuracy: 0.5692 - val_loss: 0.9377 - val_accuracy: 0.5590\n",
      "Epoch 22/200\n",
      "19/19 [==============================] - 0s 17ms/step - loss: 0.8422 - accuracy: 0.5932 - val_loss: 0.9892 - val_accuracy: 0.5590\n",
      "Epoch 23/200\n",
      "19/19 [==============================] - 0s 17ms/step - loss: 0.8468 - accuracy: 0.5675 - val_loss: 0.9646 - val_accuracy: 0.5590\n",
      "Epoch 24/200\n",
      "19/19 [==============================] - 0s 17ms/step - loss: 0.8601 - accuracy: 0.5761 - val_loss: 0.9391 - val_accuracy: 0.5590\n",
      "Epoch 25/200\n",
      "19/19 [==============================] - 0s 16ms/step - loss: 0.8297 - accuracy: 0.5829 - val_loss: 0.9240 - val_accuracy: 0.5641\n",
      "Epoch 26/200\n",
      "19/19 [==============================] - 0s 16ms/step - loss: 0.8183 - accuracy: 0.5778 - val_loss: 0.9358 - val_accuracy: 0.5538\n",
      "Epoch 27/200\n",
      "19/19 [==============================] - 0s 17ms/step - loss: 0.8258 - accuracy: 0.5846 - val_loss: 0.9248 - val_accuracy: 0.5692\n",
      "Epoch 28/200\n",
      "19/19 [==============================] - 0s 16ms/step - loss: 0.8165 - accuracy: 0.5983 - val_loss: 0.9223 - val_accuracy: 0.5692\n",
      "Epoch 29/200\n",
      "19/19 [==============================] - 0s 17ms/step - loss: 0.8107 - accuracy: 0.6000 - val_loss: 0.9504 - val_accuracy: 0.5590\n",
      "Epoch 30/200\n",
      "19/19 [==============================] - 0s 20ms/step - loss: 0.8265 - accuracy: 0.6017 - val_loss: 0.9702 - val_accuracy: 0.5590\n",
      "Epoch 31/200\n",
      "19/19 [==============================] - 0s 16ms/step - loss: 0.8195 - accuracy: 0.5915 - val_loss: 0.9610 - val_accuracy: 0.5641\n",
      "Epoch 32/200\n",
      "19/19 [==============================] - 0s 16ms/step - loss: 0.7875 - accuracy: 0.6000 - val_loss: 0.9452 - val_accuracy: 0.5590\n",
      "Epoch 33/200\n",
      "19/19 [==============================] - 0s 17ms/step - loss: 0.7922 - accuracy: 0.6051 - val_loss: 0.9487 - val_accuracy: 0.5590\n",
      "Epoch 34/200\n",
      "19/19 [==============================] - 0s 16ms/step - loss: 0.7902 - accuracy: 0.6017 - val_loss: 0.9177 - val_accuracy: 0.5692\n",
      "Epoch 35/200\n",
      "19/19 [==============================] - 0s 16ms/step - loss: 0.7917 - accuracy: 0.6103 - val_loss: 0.9707 - val_accuracy: 0.5538\n",
      "Epoch 36/200\n",
      "19/19 [==============================] - 0s 17ms/step - loss: 0.7771 - accuracy: 0.5915 - val_loss: 0.9172 - val_accuracy: 0.5744\n",
      "Epoch 37/200\n",
      "19/19 [==============================] - 0s 16ms/step - loss: 0.7709 - accuracy: 0.6034 - val_loss: 0.9210 - val_accuracy: 0.5641\n",
      "Epoch 38/200\n",
      "19/19 [==============================] - 0s 17ms/step - loss: 0.7615 - accuracy: 0.6171 - val_loss: 0.9413 - val_accuracy: 0.5590\n",
      "Epoch 39/200\n",
      "19/19 [==============================] - 0s 22ms/step - loss: 0.7748 - accuracy: 0.6103 - val_loss: 0.9216 - val_accuracy: 0.5744\n",
      "Epoch 40/200\n",
      "19/19 [==============================] - 0s 16ms/step - loss: 0.7676 - accuracy: 0.6171 - val_loss: 0.9483 - val_accuracy: 0.5538\n",
      "Epoch 41/200\n",
      "19/19 [==============================] - 0s 14ms/step - loss: 0.7526 - accuracy: 0.6274 - val_loss: 0.9272 - val_accuracy: 0.5692\n",
      "Epoch 42/200\n",
      "19/19 [==============================] - 0s 13ms/step - loss: 0.7488 - accuracy: 0.6393 - val_loss: 0.9752 - val_accuracy: 0.5487\n",
      "Epoch 43/200\n",
      "19/19 [==============================] - 0s 11ms/step - loss: 0.7441 - accuracy: 0.6256 - val_loss: 0.9273 - val_accuracy: 0.5692\n",
      "Epoch 44/200\n",
      "19/19 [==============================] - 0s 13ms/step - loss: 0.7345 - accuracy: 0.6256 - val_loss: 0.9251 - val_accuracy: 0.5692\n",
      "Epoch 45/200\n",
      "19/19 [==============================] - 0s 11ms/step - loss: 0.7429 - accuracy: 0.6103 - val_loss: 0.9142 - val_accuracy: 0.5795\n",
      "Epoch 46/200\n",
      "19/19 [==============================] - 0s 14ms/step - loss: 0.7365 - accuracy: 0.6274 - val_loss: 0.9466 - val_accuracy: 0.5692\n",
      "Epoch 47/200\n",
      "19/19 [==============================] - 0s 13ms/step - loss: 0.7231 - accuracy: 0.6034 - val_loss: 0.9249 - val_accuracy: 0.5590\n",
      "Epoch 48/200\n",
      "19/19 [==============================] - 0s 13ms/step - loss: 0.7088 - accuracy: 0.6274 - val_loss: 0.9160 - val_accuracy: 0.5744\n",
      "Epoch 49/200\n",
      "19/19 [==============================] - 0s 14ms/step - loss: 0.7107 - accuracy: 0.6308 - val_loss: 0.9275 - val_accuracy: 0.5641\n",
      "Epoch 50/200\n",
      "19/19 [==============================] - 0s 15ms/step - loss: 0.7167 - accuracy: 0.6632 - val_loss: 0.9558 - val_accuracy: 0.5436\n",
      "Epoch 51/200\n",
      "19/19 [==============================] - 0s 11ms/step - loss: 0.6907 - accuracy: 0.6530 - val_loss: 0.9084 - val_accuracy: 0.5590\n",
      "Epoch 52/200\n",
      "19/19 [==============================] - 0s 11ms/step - loss: 0.6887 - accuracy: 0.6410 - val_loss: 0.9685 - val_accuracy: 0.5590\n",
      "Epoch 53/200\n",
      "19/19 [==============================] - 0s 13ms/step - loss: 0.6831 - accuracy: 0.6632 - val_loss: 0.9183 - val_accuracy: 0.5590\n",
      "Epoch 54/200\n",
      "19/19 [==============================] - 0s 14ms/step - loss: 0.6764 - accuracy: 0.6786 - val_loss: 0.9281 - val_accuracy: 0.5795\n",
      "Epoch 55/200\n",
      "19/19 [==============================] - 0s 13ms/step - loss: 0.6570 - accuracy: 0.6838 - val_loss: 0.9189 - val_accuracy: 0.5641\n",
      "Epoch 56/200\n",
      "19/19 [==============================] - 0s 14ms/step - loss: 0.6577 - accuracy: 0.6991 - val_loss: 0.9967 - val_accuracy: 0.5538\n",
      "Epoch 57/200\n",
      "19/19 [==============================] - 0s 15ms/step - loss: 0.6654 - accuracy: 0.7094 - val_loss: 0.9531 - val_accuracy: 0.5846\n",
      "Epoch 58/200\n"
     ]
    },
    {
     "name": "stdout",
     "output_type": "stream",
     "text": [
      "19/19 [==============================] - 0s 17ms/step - loss: 0.6486 - accuracy: 0.6974 - val_loss: 0.9604 - val_accuracy: 0.5949\n",
      "Epoch 59/200\n",
      "19/19 [==============================] - 0s 16ms/step - loss: 0.6812 - accuracy: 0.6701 - val_loss: 0.9251 - val_accuracy: 0.5744\n",
      "Epoch 60/200\n",
      "19/19 [==============================] - 0s 17ms/step - loss: 0.6291 - accuracy: 0.7214 - val_loss: 0.9339 - val_accuracy: 0.5795\n",
      "Epoch 61/200\n",
      "19/19 [==============================] - 0s 23ms/step - loss: 0.6143 - accuracy: 0.7060 - val_loss: 0.9344 - val_accuracy: 0.5538\n",
      "Epoch 62/200\n",
      "19/19 [==============================] - 0s 16ms/step - loss: 0.5935 - accuracy: 0.7282 - val_loss: 0.9461 - val_accuracy: 0.5744\n",
      "Epoch 63/200\n",
      "19/19 [==============================] - 0s 16ms/step - loss: 0.5839 - accuracy: 0.7299 - val_loss: 1.0064 - val_accuracy: 0.6000\n",
      "Epoch 64/200\n",
      "19/19 [==============================] - 0s 17ms/step - loss: 0.5746 - accuracy: 0.7197 - val_loss: 0.9271 - val_accuracy: 0.5692\n",
      "Epoch 65/200\n",
      "19/19 [==============================] - 0s 16ms/step - loss: 0.5789 - accuracy: 0.7299 - val_loss: 0.9469 - val_accuracy: 0.5795\n",
      "Epoch 66/200\n",
      "19/19 [==============================] - 0s 16ms/step - loss: 0.5645 - accuracy: 0.7265 - val_loss: 0.9256 - val_accuracy: 0.5641\n",
      "Epoch 67/200\n",
      "19/19 [==============================] - 0s 17ms/step - loss: 0.5363 - accuracy: 0.7333 - val_loss: 0.8964 - val_accuracy: 0.5795\n",
      "Epoch 68/200\n",
      "19/19 [==============================] - 0s 15ms/step - loss: 0.5298 - accuracy: 0.7368 - val_loss: 0.9206 - val_accuracy: 0.5692\n",
      "Epoch 69/200\n",
      "19/19 [==============================] - 0s 16ms/step - loss: 0.5245 - accuracy: 0.7282 - val_loss: 0.9107 - val_accuracy: 0.5897\n",
      "Epoch 70/200\n",
      "19/19 [==============================] - 0s 16ms/step - loss: 0.5180 - accuracy: 0.7368 - val_loss: 0.9474 - val_accuracy: 0.5692\n",
      "Epoch 71/200\n",
      "19/19 [==============================] - 0s 16ms/step - loss: 0.4927 - accuracy: 0.7385 - val_loss: 0.9226 - val_accuracy: 0.5949\n",
      "Epoch 72/200\n",
      "19/19 [==============================] - 0s 17ms/step - loss: 0.4972 - accuracy: 0.7487 - val_loss: 1.0389 - val_accuracy: 0.5897\n",
      "Epoch 73/200\n",
      "19/19 [==============================] - 0s 23ms/step - loss: 0.5001 - accuracy: 0.7385 - val_loss: 0.9003 - val_accuracy: 0.5795\n",
      "Epoch 74/200\n",
      "19/19 [==============================] - 0s 17ms/step - loss: 0.4652 - accuracy: 0.7470 - val_loss: 0.9112 - val_accuracy: 0.5897\n",
      "Epoch 75/200\n",
      "19/19 [==============================] - 0s 16ms/step - loss: 0.4513 - accuracy: 0.7573 - val_loss: 1.0134 - val_accuracy: 0.5949\n",
      "Epoch 76/200\n",
      "19/19 [==============================] - 0s 17ms/step - loss: 0.4602 - accuracy: 0.7607 - val_loss: 0.9043 - val_accuracy: 0.6051\n",
      "Epoch 77/200\n",
      "19/19 [==============================] - 0s 17ms/step - loss: 0.4475 - accuracy: 0.7590 - val_loss: 0.9773 - val_accuracy: 0.6103\n",
      "Epoch 78/200\n",
      "19/19 [==============================] - 0s 16ms/step - loss: 0.4420 - accuracy: 0.8034 - val_loss: 0.9018 - val_accuracy: 0.6205\n",
      "Epoch 79/200\n",
      "19/19 [==============================] - 0s 16ms/step - loss: 0.4230 - accuracy: 0.7863 - val_loss: 0.9350 - val_accuracy: 0.6205\n",
      "Epoch 80/200\n",
      "19/19 [==============================] - 0s 18ms/step - loss: 0.4430 - accuracy: 0.8154 - val_loss: 0.8915 - val_accuracy: 0.6154\n",
      "Epoch 81/200\n",
      "19/19 [==============================] - 0s 16ms/step - loss: 0.4102 - accuracy: 0.8513 - val_loss: 0.8890 - val_accuracy: 0.6256\n",
      "Epoch 82/200\n",
      "19/19 [==============================] - 0s 16ms/step - loss: 0.4110 - accuracy: 0.8393 - val_loss: 0.9253 - val_accuracy: 0.5897\n",
      "Epoch 83/200\n",
      "19/19 [==============================] - 0s 17ms/step - loss: 0.4054 - accuracy: 0.8615 - val_loss: 0.9525 - val_accuracy: 0.6051\n",
      "Epoch 84/200\n",
      "19/19 [==============================] - 0s 16ms/step - loss: 0.3985 - accuracy: 0.8615 - val_loss: 0.9283 - val_accuracy: 0.6256\n",
      "Epoch 85/200\n",
      "19/19 [==============================] - 0s 17ms/step - loss: 0.3939 - accuracy: 0.8598 - val_loss: 0.9021 - val_accuracy: 0.6154\n",
      "Epoch 86/200\n",
      "19/19 [==============================] - 0s 16ms/step - loss: 0.4088 - accuracy: 0.8325 - val_loss: 0.9184 - val_accuracy: 0.6154\n",
      "Epoch 87/200\n",
      "19/19 [==============================] - 0s 16ms/step - loss: 0.4005 - accuracy: 0.8701 - val_loss: 0.9059 - val_accuracy: 0.6308\n",
      "Epoch 88/200\n",
      "19/19 [==============================] - 0s 17ms/step - loss: 0.3632 - accuracy: 0.8889 - val_loss: 0.8981 - val_accuracy: 0.6410\n",
      "Epoch 89/200\n",
      "19/19 [==============================] - 0s 24ms/step - loss: 0.3710 - accuracy: 0.8872 - val_loss: 0.8997 - val_accuracy: 0.6256\n",
      "Epoch 90/200\n",
      "19/19 [==============================] - 0s 17ms/step - loss: 0.3585 - accuracy: 0.8803 - val_loss: 0.9300 - val_accuracy: 0.6359\n",
      "Epoch 91/200\n",
      "19/19 [==============================] - 1s 27ms/step - loss: 0.3705 - accuracy: 0.8786 - val_loss: 0.9554 - val_accuracy: 0.6308\n",
      "Epoch 92/200\n",
      "19/19 [==============================] - 0s 16ms/step - loss: 0.3670 - accuracy: 0.8769 - val_loss: 0.9101 - val_accuracy: 0.6359\n",
      "Epoch 93/200\n",
      "19/19 [==============================] - 0s 16ms/step - loss: 0.3326 - accuracy: 0.9043 - val_loss: 0.9189 - val_accuracy: 0.6308\n",
      "Epoch 94/200\n",
      "19/19 [==============================] - 0s 14ms/step - loss: 0.3449 - accuracy: 0.8974 - val_loss: 0.8880 - val_accuracy: 0.6359\n",
      "Epoch 95/200\n",
      "19/19 [==============================] - 0s 13ms/step - loss: 0.3284 - accuracy: 0.9060 - val_loss: 0.9479 - val_accuracy: 0.6513\n",
      "Epoch 96/200\n",
      "19/19 [==============================] - 0s 13ms/step - loss: 0.3131 - accuracy: 0.9197 - val_loss: 0.9497 - val_accuracy: 0.6205\n",
      "Epoch 97/200\n",
      "19/19 [==============================] - 0s 10ms/step - loss: 0.3170 - accuracy: 0.9214 - val_loss: 0.9389 - val_accuracy: 0.6256\n",
      "Epoch 98/200\n",
      "19/19 [==============================] - 0s 15ms/step - loss: 0.3120 - accuracy: 0.9231 - val_loss: 0.9875 - val_accuracy: 0.6359\n",
      "Epoch 99/200\n",
      "19/19 [==============================] - 0s 13ms/step - loss: 0.2992 - accuracy: 0.9265 - val_loss: 0.9312 - val_accuracy: 0.6359\n",
      "Epoch 100/200\n",
      "19/19 [==============================] - 0s 13ms/step - loss: 0.3005 - accuracy: 0.9282 - val_loss: 0.9371 - val_accuracy: 0.6410\n",
      "Epoch 101/200\n",
      "19/19 [==============================] - 0s 15ms/step - loss: 0.2926 - accuracy: 0.9282 - val_loss: 0.9214 - val_accuracy: 0.6308\n",
      "Epoch 102/200\n",
      "19/19 [==============================] - 0s 15ms/step - loss: 0.2832 - accuracy: 0.9402 - val_loss: 0.9282 - val_accuracy: 0.6462\n",
      "Epoch 103/200\n",
      "19/19 [==============================] - 0s 14ms/step - loss: 0.2711 - accuracy: 0.9419 - val_loss: 0.9670 - val_accuracy: 0.6410\n",
      "Epoch 104/200\n",
      "19/19 [==============================] - 0s 11ms/step - loss: 0.2735 - accuracy: 0.9385 - val_loss: 0.9696 - val_accuracy: 0.6410\n",
      "Epoch 105/200\n",
      "19/19 [==============================] - 0s 13ms/step - loss: 0.2553 - accuracy: 0.9538 - val_loss: 0.9433 - val_accuracy: 0.6462\n",
      "Epoch 106/200\n",
      "19/19 [==============================] - 0s 10ms/step - loss: 0.2744 - accuracy: 0.9333 - val_loss: 1.0498 - val_accuracy: 0.6513\n",
      "Epoch 107/200\n",
      "19/19 [==============================] - 0s 12ms/step - loss: 0.2765 - accuracy: 0.9316 - val_loss: 0.9231 - val_accuracy: 0.6513\n",
      "Epoch 108/200\n",
      "19/19 [==============================] - 0s 12ms/step - loss: 0.2557 - accuracy: 0.9573 - val_loss: 0.9663 - val_accuracy: 0.6462\n",
      "Epoch 109/200\n",
      "19/19 [==============================] - 0s 14ms/step - loss: 0.2412 - accuracy: 0.9573 - val_loss: 0.9702 - val_accuracy: 0.6462\n",
      "Epoch 110/200\n",
      "19/19 [==============================] - 0s 15ms/step - loss: 0.2396 - accuracy: 0.9538 - val_loss: 0.9891 - val_accuracy: 0.6462\n",
      "Epoch 111/200\n",
      "19/19 [==============================] - 0s 17ms/step - loss: 0.2354 - accuracy: 0.9487 - val_loss: 1.0106 - val_accuracy: 0.6513\n",
      "Epoch 112/200\n",
      "19/19 [==============================] - 0s 16ms/step - loss: 0.2286 - accuracy: 0.9590 - val_loss: 1.0099 - val_accuracy: 0.6615\n",
      "Epoch 113/200\n",
      "19/19 [==============================] - 0s 17ms/step - loss: 0.2282 - accuracy: 0.9573 - val_loss: 0.9994 - val_accuracy: 0.6615\n",
      "Epoch 114/200\n",
      "19/19 [==============================] - 0s 22ms/step - loss: 0.2201 - accuracy: 0.9573 - val_loss: 0.9575 - val_accuracy: 0.6564\n",
      "Epoch 115/200\n"
     ]
    },
    {
     "name": "stdout",
     "output_type": "stream",
     "text": [
      "19/19 [==============================] - 0s 16ms/step - loss: 0.2157 - accuracy: 0.9641 - val_loss: 0.9808 - val_accuracy: 0.6462\n",
      "Epoch 116/200\n",
      "19/19 [==============================] - 0s 16ms/step - loss: 0.2230 - accuracy: 0.9521 - val_loss: 0.9628 - val_accuracy: 0.6513\n",
      "Epoch 117/200\n",
      "19/19 [==============================] - 0s 17ms/step - loss: 0.2080 - accuracy: 0.9607 - val_loss: 0.9656 - val_accuracy: 0.6410\n",
      "Epoch 118/200\n",
      "19/19 [==============================] - 0s 17ms/step - loss: 0.1936 - accuracy: 0.9624 - val_loss: 0.9797 - val_accuracy: 0.6308\n",
      "Epoch 119/200\n",
      "19/19 [==============================] - 0s 16ms/step - loss: 0.1943 - accuracy: 0.9624 - val_loss: 0.9765 - val_accuracy: 0.6359\n",
      "Epoch 120/200\n",
      "19/19 [==============================] - 0s 16ms/step - loss: 0.1990 - accuracy: 0.9675 - val_loss: 0.9887 - val_accuracy: 0.6359\n",
      "Epoch 121/200\n",
      "19/19 [==============================] - 0s 16ms/step - loss: 0.1908 - accuracy: 0.9590 - val_loss: 0.9567 - val_accuracy: 0.6513\n",
      "Epoch 122/200\n",
      "19/19 [==============================] - 0s 16ms/step - loss: 0.1963 - accuracy: 0.9607 - val_loss: 0.9865 - val_accuracy: 0.6564\n",
      "Epoch 123/200\n",
      "19/19 [==============================] - 0s 16ms/step - loss: 0.1787 - accuracy: 0.9675 - val_loss: 1.0083 - val_accuracy: 0.6615\n",
      "Epoch 124/200\n",
      "19/19 [==============================] - 0s 17ms/step - loss: 0.1728 - accuracy: 0.9641 - val_loss: 0.9921 - val_accuracy: 0.6667\n",
      "Epoch 125/200\n",
      "19/19 [==============================] - 0s 16ms/step - loss: 0.1709 - accuracy: 0.9726 - val_loss: 0.9771 - val_accuracy: 0.6615\n",
      "Epoch 126/200\n",
      "19/19 [==============================] - 0s 16ms/step - loss: 0.1793 - accuracy: 0.9658 - val_loss: 1.0062 - val_accuracy: 0.6667\n",
      "Epoch 127/200\n",
      "19/19 [==============================] - 0s 16ms/step - loss: 0.1627 - accuracy: 0.9744 - val_loss: 1.0214 - val_accuracy: 0.6564\n",
      "Epoch 128/200\n",
      "19/19 [==============================] - 0s 16ms/step - loss: 0.1591 - accuracy: 0.9692 - val_loss: 0.9962 - val_accuracy: 0.6667\n",
      "Epoch 129/200\n",
      "19/19 [==============================] - 0s 17ms/step - loss: 0.1646 - accuracy: 0.9641 - val_loss: 1.0081 - val_accuracy: 0.6718\n",
      "Epoch 130/200\n",
      "19/19 [==============================] - 0s 17ms/step - loss: 0.1581 - accuracy: 0.9641 - val_loss: 1.0653 - val_accuracy: 0.6615\n",
      "Epoch 131/200\n",
      "19/19 [==============================] - 0s 16ms/step - loss: 0.1549 - accuracy: 0.9658 - val_loss: 1.0236 - val_accuracy: 0.6462\n",
      "Epoch 132/200\n",
      "19/19 [==============================] - 0s 17ms/step - loss: 0.1515 - accuracy: 0.9692 - val_loss: 1.0447 - val_accuracy: 0.6615\n",
      "Epoch 133/200\n",
      "19/19 [==============================] - 0s 20ms/step - loss: 0.1509 - accuracy: 0.9641 - val_loss: 1.0557 - val_accuracy: 0.6513\n",
      "Epoch 134/200\n",
      "19/19 [==============================] - 0s 17ms/step - loss: 0.1428 - accuracy: 0.9658 - val_loss: 0.9987 - val_accuracy: 0.6821\n",
      "Epoch 135/200\n",
      "19/19 [==============================] - 0s 17ms/step - loss: 0.1443 - accuracy: 0.9658 - val_loss: 0.9891 - val_accuracy: 0.6718\n",
      "Epoch 136/200\n",
      "19/19 [==============================] - 0s 19ms/step - loss: 0.1395 - accuracy: 0.9744 - val_loss: 1.0313 - val_accuracy: 0.6718\n",
      "Epoch 137/200\n",
      "19/19 [==============================] - 0s 16ms/step - loss: 0.1349 - accuracy: 0.9726 - val_loss: 1.0174 - val_accuracy: 0.6667\n",
      "Epoch 138/200\n",
      "19/19 [==============================] - 0s 16ms/step - loss: 0.1329 - accuracy: 0.9726 - val_loss: 1.0959 - val_accuracy: 0.6308\n",
      "Epoch 139/200\n",
      "19/19 [==============================] - 0s 17ms/step - loss: 0.1456 - accuracy: 0.9675 - val_loss: 1.0143 - val_accuracy: 0.6513\n",
      "Epoch 140/200\n",
      "19/19 [==============================] - 0s 18ms/step - loss: 0.1367 - accuracy: 0.9675 - val_loss: 1.0859 - val_accuracy: 0.6564\n",
      "Epoch 141/200\n",
      "19/19 [==============================] - 0s 22ms/step - loss: 0.1270 - accuracy: 0.9778 - val_loss: 1.0477 - val_accuracy: 0.6564\n",
      "Epoch 142/200\n",
      "19/19 [==============================] - 0s 17ms/step - loss: 0.1273 - accuracy: 0.9795 - val_loss: 0.9978 - val_accuracy: 0.6718\n",
      "Epoch 143/200\n",
      "19/19 [==============================] - 0s 15ms/step - loss: 0.1290 - accuracy: 0.9744 - val_loss: 1.0756 - val_accuracy: 0.6564\n",
      "Epoch 144/200\n",
      "19/19 [==============================] - 0s 16ms/step - loss: 0.1272 - accuracy: 0.9744 - val_loss: 1.1425 - val_accuracy: 0.6154\n",
      "Epoch 145/200\n",
      "19/19 [==============================] - 0s 18ms/step - loss: 0.1140 - accuracy: 0.9829 - val_loss: 1.0631 - val_accuracy: 0.6564\n",
      "Epoch 146/200\n",
      "19/19 [==============================] - 0s 18ms/step - loss: 0.1108 - accuracy: 0.9829 - val_loss: 1.0636 - val_accuracy: 0.6615\n",
      "Epoch 147/200\n",
      "19/19 [==============================] - 0s 18ms/step - loss: 0.1053 - accuracy: 0.9846 - val_loss: 1.1108 - val_accuracy: 0.6513\n",
      "Epoch 148/200\n",
      "19/19 [==============================] - 0s 11ms/step - loss: 0.1014 - accuracy: 0.9829 - val_loss: 1.0523 - val_accuracy: 0.6615\n",
      "Epoch 149/200\n",
      "19/19 [==============================] - 0s 13ms/step - loss: 0.1073 - accuracy: 0.9795 - val_loss: 1.0858 - val_accuracy: 0.6513\n",
      "Epoch 150/200\n",
      "19/19 [==============================] - 0s 13ms/step - loss: 0.1054 - accuracy: 0.9846 - val_loss: 1.1154 - val_accuracy: 0.6564\n",
      "Epoch 151/200\n",
      "19/19 [==============================] - 0s 14ms/step - loss: 0.0971 - accuracy: 0.9863 - val_loss: 1.0750 - val_accuracy: 0.6564\n",
      "Epoch 152/200\n",
      "19/19 [==============================] - 0s 12ms/step - loss: 0.0947 - accuracy: 0.9863 - val_loss: 1.1224 - val_accuracy: 0.6308\n",
      "Epoch 153/200\n",
      "19/19 [==============================] - 0s 14ms/step - loss: 0.0985 - accuracy: 0.9846 - val_loss: 1.1211 - val_accuracy: 0.6462\n",
      "Epoch 154/200\n",
      "19/19 [==============================] - 0s 14ms/step - loss: 0.0923 - accuracy: 0.9863 - val_loss: 1.0578 - val_accuracy: 0.6615\n",
      "Epoch 155/200\n",
      "19/19 [==============================] - 0s 15ms/step - loss: 0.0886 - accuracy: 0.9880 - val_loss: 1.1284 - val_accuracy: 0.6564\n",
      "Epoch 156/200\n",
      "19/19 [==============================] - 0s 13ms/step - loss: 0.0853 - accuracy: 0.9863 - val_loss: 1.2062 - val_accuracy: 0.6308\n",
      "Epoch 157/200\n",
      "19/19 [==============================] - 0s 13ms/step - loss: 0.0980 - accuracy: 0.9795 - val_loss: 1.0801 - val_accuracy: 0.6564\n",
      "Epoch 158/200\n",
      "19/19 [==============================] - 0s 11ms/step - loss: 0.0867 - accuracy: 0.9846 - val_loss: 1.0774 - val_accuracy: 0.6718\n",
      "Epoch 159/200\n",
      "19/19 [==============================] - 0s 13ms/step - loss: 0.0835 - accuracy: 0.9829 - val_loss: 1.0941 - val_accuracy: 0.6564\n",
      "Epoch 160/200\n",
      "19/19 [==============================] - 0s 13ms/step - loss: 0.0844 - accuracy: 0.9846 - val_loss: 1.1255 - val_accuracy: 0.6513\n",
      "Epoch 161/200\n",
      "19/19 [==============================] - 0s 12ms/step - loss: 0.0851 - accuracy: 0.9846 - val_loss: 1.1179 - val_accuracy: 0.6667\n",
      "Epoch 162/200\n",
      "19/19 [==============================] - 0s 13ms/step - loss: 0.0825 - accuracy: 0.9846 - val_loss: 1.1569 - val_accuracy: 0.6308\n",
      "Epoch 163/200\n",
      "19/19 [==============================] - 0s 14ms/step - loss: 0.0863 - accuracy: 0.9846 - val_loss: 1.2263 - val_accuracy: 0.6667\n",
      "Epoch 164/200\n",
      "19/19 [==============================] - 0s 17ms/step - loss: 0.0803 - accuracy: 0.9863 - val_loss: 1.1877 - val_accuracy: 0.6564\n",
      "Epoch 165/200\n",
      "19/19 [==============================] - 0s 16ms/step - loss: 0.0813 - accuracy: 0.9829 - val_loss: 1.1352 - val_accuracy: 0.6462\n",
      "Epoch 166/200\n",
      "19/19 [==============================] - 0s 16ms/step - loss: 0.0773 - accuracy: 0.9846 - val_loss: 1.1922 - val_accuracy: 0.6564\n",
      "Epoch 167/200\n",
      "19/19 [==============================] - 0s 16ms/step - loss: 0.0728 - accuracy: 0.9880 - val_loss: 1.1515 - val_accuracy: 0.6615\n",
      "Epoch 168/200\n",
      "19/19 [==============================] - 0s 16ms/step - loss: 0.0696 - accuracy: 0.9863 - val_loss: 1.2075 - val_accuracy: 0.6564\n",
      "Epoch 169/200\n",
      "19/19 [==============================] - 0s 16ms/step - loss: 0.0745 - accuracy: 0.9846 - val_loss: 1.2360 - val_accuracy: 0.6154\n",
      "Epoch 170/200\n",
      "19/19 [==============================] - 0s 16ms/step - loss: 0.0769 - accuracy: 0.9846 - val_loss: 1.2199 - val_accuracy: 0.6205\n",
      "Epoch 171/200\n",
      "19/19 [==============================] - 0s 16ms/step - loss: 0.0893 - accuracy: 0.9829 - val_loss: 1.1546 - val_accuracy: 0.6718\n"
     ]
    },
    {
     "name": "stdout",
     "output_type": "stream",
     "text": [
      "Epoch 172/200\n",
      "19/19 [==============================] - 0s 16ms/step - loss: 0.0677 - accuracy: 0.9863 - val_loss: 1.1439 - val_accuracy: 0.6769\n",
      "Epoch 173/200\n",
      "19/19 [==============================] - 0s 16ms/step - loss: 0.0669 - accuracy: 0.9846 - val_loss: 1.1681 - val_accuracy: 0.6667\n",
      "Epoch 174/200\n",
      "19/19 [==============================] - 0s 17ms/step - loss: 0.0653 - accuracy: 0.9880 - val_loss: 1.1790 - val_accuracy: 0.6564\n",
      "Epoch 175/200\n",
      "19/19 [==============================] - 0s 16ms/step - loss: 0.0802 - accuracy: 0.9846 - val_loss: 1.2491 - val_accuracy: 0.6615\n",
      "Epoch 176/200\n",
      "19/19 [==============================] - 0s 17ms/step - loss: 0.0624 - accuracy: 0.9897 - val_loss: 1.2407 - val_accuracy: 0.6513\n",
      "Epoch 177/200\n",
      "19/19 [==============================] - 0s 16ms/step - loss: 0.0616 - accuracy: 0.9863 - val_loss: 1.2565 - val_accuracy: 0.6205\n",
      "Epoch 178/200\n",
      "19/19 [==============================] - 0s 16ms/step - loss: 0.0623 - accuracy: 0.9863 - val_loss: 1.2445 - val_accuracy: 0.6667\n",
      "Epoch 179/200\n",
      "19/19 [==============================] - 0s 16ms/step - loss: 0.0650 - accuracy: 0.9846 - val_loss: 1.3082 - val_accuracy: 0.6769\n",
      "Epoch 180/200\n",
      "19/19 [==============================] - 0s 17ms/step - loss: 0.0721 - accuracy: 0.9863 - val_loss: 1.2548 - val_accuracy: 0.6513\n",
      "Epoch 181/200\n",
      "19/19 [==============================] - 0s 17ms/step - loss: 0.0621 - accuracy: 0.9846 - val_loss: 1.2099 - val_accuracy: 0.6513\n",
      "Epoch 182/200\n",
      "19/19 [==============================] - 1s 27ms/step - loss: 0.0597 - accuracy: 0.9863 - val_loss: 1.2400 - val_accuracy: 0.6615\n",
      "Epoch 183/200\n",
      "19/19 [==============================] - 0s 17ms/step - loss: 0.0575 - accuracy: 0.9846 - val_loss: 1.2425 - val_accuracy: 0.6615\n",
      "Epoch 184/200\n",
      "19/19 [==============================] - 0s 16ms/step - loss: 0.0574 - accuracy: 0.9863 - val_loss: 1.2162 - val_accuracy: 0.6667\n",
      "Epoch 185/200\n",
      "19/19 [==============================] - 0s 20ms/step - loss: 0.0542 - accuracy: 0.9863 - val_loss: 1.2365 - val_accuracy: 0.6615\n",
      "Epoch 186/200\n",
      "19/19 [==============================] - 0s 16ms/step - loss: 0.0543 - accuracy: 0.9863 - val_loss: 1.2701 - val_accuracy: 0.6667\n",
      "Epoch 187/200\n",
      "19/19 [==============================] - 0s 17ms/step - loss: 0.0555 - accuracy: 0.9880 - val_loss: 1.2274 - val_accuracy: 0.6564\n",
      "Epoch 188/200\n",
      "19/19 [==============================] - 0s 25ms/step - loss: 0.0543 - accuracy: 0.9880 - val_loss: 1.2882 - val_accuracy: 0.6564\n",
      "Epoch 189/200\n",
      "19/19 [==============================] - 0s 16ms/step - loss: 0.0555 - accuracy: 0.9829 - val_loss: 1.2461 - val_accuracy: 0.6615\n",
      "Epoch 190/200\n",
      "19/19 [==============================] - 0s 16ms/step - loss: 0.0505 - accuracy: 0.9880 - val_loss: 1.2699 - val_accuracy: 0.6564\n",
      "Epoch 191/200\n",
      "19/19 [==============================] - 0s 17ms/step - loss: 0.0526 - accuracy: 0.9880 - val_loss: 1.2870 - val_accuracy: 0.6513\n",
      "Epoch 192/200\n",
      "19/19 [==============================] - 0s 16ms/step - loss: 0.0528 - accuracy: 0.9846 - val_loss: 1.2961 - val_accuracy: 0.6615\n",
      "Epoch 193/200\n",
      "19/19 [==============================] - 0s 16ms/step - loss: 0.0494 - accuracy: 0.9863 - val_loss: 1.2465 - val_accuracy: 0.6615\n",
      "Epoch 194/200\n",
      "19/19 [==============================] - 0s 16ms/step - loss: 0.0494 - accuracy: 0.9880 - val_loss: 1.2689 - val_accuracy: 0.6564\n",
      "Epoch 195/200\n",
      "19/19 [==============================] - 0s 19ms/step - loss: 0.0543 - accuracy: 0.9846 - val_loss: 1.2520 - val_accuracy: 0.6667\n",
      "Epoch 196/200\n",
      "19/19 [==============================] - 0s 18ms/step - loss: 0.0591 - accuracy: 0.9863 - val_loss: 1.3660 - val_accuracy: 0.6667\n",
      "Epoch 197/200\n",
      "19/19 [==============================] - 0s 24ms/step - loss: 0.0526 - accuracy: 0.9863 - val_loss: 1.2961 - val_accuracy: 0.6667\n",
      "Epoch 198/200\n",
      "19/19 [==============================] - 0s 16ms/step - loss: 0.0523 - accuracy: 0.9863 - val_loss: 1.2542 - val_accuracy: 0.6513\n",
      "Epoch 199/200\n",
      "19/19 [==============================] - 0s 16ms/step - loss: 0.0535 - accuracy: 0.9829 - val_loss: 1.2960 - val_accuracy: 0.6667\n",
      "Epoch 200/200\n",
      "19/19 [==============================] - 0s 13ms/step - loss: 0.0454 - accuracy: 0.9863 - val_loss: 1.4308 - val_accuracy: 0.6769\n"
     ]
    }
   ],
   "source": [
    "batch_size = 32\n",
    "epochs = 200\n",
    "history = model.fit(train_X, train_y,\n",
    "                    batch_size=batch_size,\n",
    "                    epochs=epochs,\n",
    "                    validation_data=(test_X, test_y),\n",
    "                    verbose=1)"
   ]
  },
  {
   "cell_type": "code",
   "execution_count": 119,
   "id": "d8d7ffb2",
   "metadata": {},
   "outputs": [
    {
     "data": {
      "image/png": "[encoded data removed]",
      "text/plain": [
       "<Figure size 640x480 with 1 Axes>"
      ]
     },
     "metadata": {},
     "output_type": "display_data"
    }
   ],
   "source": [
    "# visualise training history\n",
    "plt.plot(model.history.history['accuracy'])\n",
    "plt.plot(model.history.history['val_accuracy'])\n",
    "plt.title('model accuracy')\n",
    "plt.ylabel('accuracy')\n",
    "plt.xlabel('epoch')\n",
    "plt.ylim(0,1)\n",
    "plt.legend(['train', 'test'], loc=\"lower right\")\n",
    "plt.show()"
   ]
  },
  {
   "cell_type": "markdown",
   "id": "e2a71837",
   "metadata": {},
   "source": [
    "c. Print your model's accuracy on the test and train sets"
   ]
  },
  {
   "cell_type": "code",
   "execution_count": 120,
   "id": "3bb65d3f",
   "metadata": {},
   "outputs": [
    {
     "name": "stdout",
     "output_type": "stream",
     "text": [
      "Accuracy of the model on the train set is 98.63 %\n",
      "Accuracy of the model on the test set is 67.69 %\n"
     ]
    }
   ],
   "source": [
    "# Evaluate the model on the train set\n",
    "train_loss, train_accuracy = model.evaluate(train_X, train_y, verbose=0)\n",
    "print(f\"Accuracy of the model on the train set is {train_accuracy * 100:.2f} %\")\n",
    "\n",
    "# Evaluate the model on the test set\n",
    "test_loss, test_accuracy = model.evaluate(test_X, test_y, verbose=0)\n",
    "print(f\"Accuracy of the model on the test set is {test_accuracy * 100:.2f} %\")\n"
   ]
  },
  {
   "cell_type": "markdown",
   "id": "b3e79450",
   "metadata": {},
   "source": [
    "d. Create a confusion matrix to inspect the model's output"
   ]
  },
  {
   "cell_type": "code",
   "execution_count": 121,
   "id": "917a45e3",
   "metadata": {},
   "outputs": [
    {
     "name": "stdout",
     "output_type": "stream",
     "text": [
      "7/7 [==============================] - 0s 2ms/step\n"
     ]
    },
    {
     "data": {
      "image/png": "[encoded data removed]",
      "text/plain": [
       "<Figure size 1000x700 with 2 Axes>"
      ]
     },
     "metadata": {},
     "output_type": "display_data"
    }
   ],
   "source": [
    "predicted_probs = model.predict(test_X)\n",
    "predicted_labels = np.argmax(predicted_probs, axis=1)\n",
    "true_labels = np.argmax(test_y, axis=1)\n",
    "cm = confusion_matrix(true_labels, predicted_labels)\n",
    "plt.figure(figsize=(10, 7))\n",
    "sns.heatmap(cm, annot=True, fmt=\"d\", xticklabels=['malignant', 'benign', 'normal'], yticklabels=['malignant', 'benign', 'normal'])\n",
    "plt.xlabel('Predicted Labels')\n",
    "plt.ylabel('True Labels')\n",
    "plt.show()"
   ]
  },
  {
   "cell_type": "markdown",
   "id": "96e75f40",
   "metadata": {},
   "source": [
    "### Exercise 12\n",
    "Use Keras again to build and train a new CNN to classify the scans into three the three classes."
   ]
  },
  {
   "cell_type": "code",
   "execution_count": 122,
   "id": "cdf12eb6",
   "metadata": {},
   "outputs": [],
   "source": [
    "train_X, test_X, train_y, test_y = train_test_split(np_images, y, test_size=ts, shuffle=True, random_state=rs)"
   ]
  },
  {
   "cell_type": "markdown",
   "id": "91ee0ec8",
   "metadata": {},
   "source": [
    "a. Create your CNN's architecture and compile it"
   ]
  },
  {
   "cell_type": "code",
   "execution_count": 123,
   "id": "4e5f7e72",
   "metadata": {},
   "outputs": [
    {
     "name": "stdout",
     "output_type": "stream",
     "text": [
      "Model: \"sequential_9\"\n",
      "_________________________________________________________________\n",
      " Layer (type)                Output Shape              Param #   \n",
      "=================================================================\n",
      " conv2d_12 (Conv2D)          (None, 62, 62, 32)        320       \n",
      "                                                                 \n",
      " max_pooling2d_4 (MaxPoolin  (None, 31, 31, 32)        0         \n",
      " g2D)                                                            \n",
      "                                                                 \n",
      " conv2d_13 (Conv2D)          (None, 29, 29, 64)        18496     \n",
      "                                                                 \n",
      " max_pooling2d_5 (MaxPoolin  (None, 14, 14, 64)        0         \n",
      " g2D)                                                            \n",
      "                                                                 \n",
      " flatten_4 (Flatten)         (None, 12544)             0         \n",
      "                                                                 \n",
      " dense_30 (Dense)            (None, 128)               1605760   \n",
      "                                                                 \n",
      " dense_31 (Dense)            (None, 3)                 387       \n",
      "                                                                 \n",
      "=================================================================\n",
      "Total params: 1624963 (6.20 MB)\n",
      "Trainable params: 1624963 (6.20 MB)\n",
      "Non-trainable params: 0 (0.00 Byte)\n",
      "_________________________________________________________________\n"
     ]
    }
   ],
   "source": [
    "model = Sequential()\n",
    "model.add(Conv2D(32, (3, 3), input_shape = (64, 64, 1), activation = 'relu'))\n",
    "model.add(MaxPooling2D(pool_size = (2, 2)))\n",
    "model.add(Conv2D(64, (3, 3), activation = 'relu'))\n",
    "model.add(MaxPooling2D(pool_size = (2, 2)))\n",
    "model.add(Flatten())\n",
    "model.add(Dense(units = 128, activation = 'relu'))\n",
    "model.add(Dense(units = 3, activation = 'softmax'))  # 3 units for 3 classes\n",
    "optimizer = Adam(learning_rate=0.0001)\n",
    "model.compile(optimizer = optimizer, loss = 'categorical_crossentropy', metrics = ['accuracy'])\n",
    "\n",
    "model.summary()\n"
   ]
  },
  {
   "cell_type": "markdown",
   "id": "bacdfcb5",
   "metadata": {},
   "source": [
    "b. Fit your model to the data"
   ]
  },
  {
   "cell_type": "code",
   "execution_count": 124,
   "id": "287e2fbd",
   "metadata": {
    "scrolled": true
   },
   "outputs": [
    {
     "name": "stdout",
     "output_type": "stream",
     "text": [
      "Epoch 1/200\n",
      "19/19 [==============================] - 4s 140ms/step - loss: 0.9708 - accuracy: 0.5624 - val_loss: 0.9571 - val_accuracy: 0.5590\n",
      "Epoch 2/200\n",
      "19/19 [==============================] - 2s 124ms/step - loss: 0.9285 - accuracy: 0.5590 - val_loss: 0.9382 - val_accuracy: 0.5692\n",
      "Epoch 3/200\n",
      "19/19 [==============================] - 2s 123ms/step - loss: 0.8909 - accuracy: 0.6068 - val_loss: 0.9410 - val_accuracy: 0.5744\n",
      "Epoch 4/200\n",
      "19/19 [==============================] - 2s 125ms/step - loss: 0.8697 - accuracy: 0.6308 - val_loss: 0.9154 - val_accuracy: 0.5846\n",
      "Epoch 5/200\n",
      "19/19 [==============================] - 2s 123ms/step - loss: 0.8297 - accuracy: 0.6274 - val_loss: 0.8841 - val_accuracy: 0.6359\n",
      "Epoch 6/200\n",
      "19/19 [==============================] - 2s 115ms/step - loss: 0.8189 - accuracy: 0.6615 - val_loss: 0.8655 - val_accuracy: 0.6410\n",
      "Epoch 7/200\n",
      "19/19 [==============================] - 2s 106ms/step - loss: 0.7942 - accuracy: 0.6547 - val_loss: 0.8596 - val_accuracy: 0.6154\n",
      "Epoch 8/200\n",
      "19/19 [==============================] - 2s 101ms/step - loss: 0.7664 - accuracy: 0.6701 - val_loss: 0.8721 - val_accuracy: 0.6051\n",
      "Epoch 9/200\n",
      "19/19 [==============================] - 2s 104ms/step - loss: 0.7674 - accuracy: 0.6752 - val_loss: 0.8405 - val_accuracy: 0.6256\n",
      "Epoch 10/200\n",
      "19/19 [==============================] - 2s 122ms/step - loss: 0.7433 - accuracy: 0.6821 - val_loss: 0.8402 - val_accuracy: 0.6256\n",
      "Epoch 11/200\n",
      "19/19 [==============================] - 2s 122ms/step - loss: 0.7136 - accuracy: 0.6821 - val_loss: 0.8266 - val_accuracy: 0.6154\n",
      "Epoch 12/200\n",
      "19/19 [==============================] - 2s 123ms/step - loss: 0.7007 - accuracy: 0.6991 - val_loss: 0.8280 - val_accuracy: 0.6205\n",
      "Epoch 13/200\n",
      "19/19 [==============================] - 2s 122ms/step - loss: 0.6768 - accuracy: 0.7026 - val_loss: 0.8600 - val_accuracy: 0.6000\n",
      "Epoch 14/200\n",
      "19/19 [==============================] - 2s 105ms/step - loss: 0.6842 - accuracy: 0.6803 - val_loss: 0.8286 - val_accuracy: 0.6154\n",
      "Epoch 15/200\n",
      "19/19 [==============================] - 2s 106ms/step - loss: 0.6583 - accuracy: 0.7197 - val_loss: 0.8201 - val_accuracy: 0.6308\n",
      "Epoch 16/200\n",
      "19/19 [==============================] - 2s 104ms/step - loss: 0.6317 - accuracy: 0.7333 - val_loss: 0.7888 - val_accuracy: 0.6359\n",
      "Epoch 17/200\n",
      "19/19 [==============================] - 2s 117ms/step - loss: 0.6468 - accuracy: 0.7350 - val_loss: 0.7879 - val_accuracy: 0.6667\n",
      "Epoch 18/200\n",
      "19/19 [==============================] - 2s 127ms/step - loss: 0.6030 - accuracy: 0.7521 - val_loss: 0.8093 - val_accuracy: 0.6718\n",
      "Epoch 19/200\n",
      "19/19 [==============================] - 2s 125ms/step - loss: 0.5938 - accuracy: 0.7658 - val_loss: 0.7751 - val_accuracy: 0.6821\n",
      "Epoch 20/200\n",
      "19/19 [==============================] - 2s 124ms/step - loss: 0.5681 - accuracy: 0.7761 - val_loss: 0.7804 - val_accuracy: 0.6359\n",
      "Epoch 21/200\n",
      "19/19 [==============================] - 2s 113ms/step - loss: 0.5572 - accuracy: 0.7726 - val_loss: 0.7705 - val_accuracy: 0.6564\n",
      "Epoch 22/200\n",
      "19/19 [==============================] - 2s 106ms/step - loss: 0.5455 - accuracy: 0.7846 - val_loss: 0.7706 - val_accuracy: 0.6513\n",
      "Epoch 23/200\n",
      "19/19 [==============================] - 2s 103ms/step - loss: 0.5233 - accuracy: 0.8051 - val_loss: 0.7816 - val_accuracy: 0.6872\n",
      "Epoch 24/200\n",
      "19/19 [==============================] - 2s 111ms/step - loss: 0.5308 - accuracy: 0.7983 - val_loss: 0.7658 - val_accuracy: 0.6718\n",
      "Epoch 25/200\n",
      "19/19 [==============================] - 2s 123ms/step - loss: 0.5070 - accuracy: 0.8034 - val_loss: 0.7786 - val_accuracy: 0.6513\n",
      "Epoch 26/200\n",
      "19/19 [==============================] - 2s 120ms/step - loss: 0.4908 - accuracy: 0.8154 - val_loss: 0.7698 - val_accuracy: 0.6923\n",
      "Epoch 27/200\n",
      "19/19 [==============================] - 2s 119ms/step - loss: 0.4870 - accuracy: 0.8103 - val_loss: 0.7563 - val_accuracy: 0.6615\n",
      "Epoch 28/200\n",
      "19/19 [==============================] - 2s 120ms/step - loss: 0.4656 - accuracy: 0.8256 - val_loss: 0.7697 - val_accuracy: 0.6769\n",
      "Epoch 29/200\n",
      "19/19 [==============================] - 2s 102ms/step - loss: 0.4538 - accuracy: 0.8274 - val_loss: 0.7546 - val_accuracy: 0.6667\n",
      "Epoch 30/200\n",
      "19/19 [==============================] - 2s 103ms/step - loss: 0.4408 - accuracy: 0.8444 - val_loss: 0.7469 - val_accuracy: 0.6872\n",
      "Epoch 31/200\n",
      "19/19 [==============================] - 2s 106ms/step - loss: 0.4290 - accuracy: 0.8530 - val_loss: 0.7500 - val_accuracy: 0.6821\n",
      "Epoch 32/200\n",
      "19/19 [==============================] - 2s 120ms/step - loss: 0.4305 - accuracy: 0.8496 - val_loss: 0.7927 - val_accuracy: 0.6923\n",
      "Epoch 33/200\n",
      "19/19 [==============================] - 2s 111ms/step - loss: 0.4194 - accuracy: 0.8376 - val_loss: 0.7659 - val_accuracy: 0.6462\n",
      "Epoch 34/200\n",
      "19/19 [==============================] - 2s 116ms/step - loss: 0.4439 - accuracy: 0.8274 - val_loss: 0.7789 - val_accuracy: 0.6308\n",
      "Epoch 35/200\n",
      "19/19 [==============================] - 2s 120ms/step - loss: 0.4021 - accuracy: 0.8564 - val_loss: 0.7848 - val_accuracy: 0.6974\n",
      "Epoch 36/200\n",
      "19/19 [==============================] - 2s 114ms/step - loss: 0.4078 - accuracy: 0.8444 - val_loss: 0.8062 - val_accuracy: 0.7026\n",
      "Epoch 37/200\n",
      "19/19 [==============================] - 2s 105ms/step - loss: 0.3898 - accuracy: 0.8718 - val_loss: 0.7485 - val_accuracy: 0.6974\n",
      "Epoch 38/200\n",
      "19/19 [==============================] - 2s 102ms/step - loss: 0.3728 - accuracy: 0.8769 - val_loss: 0.7701 - val_accuracy: 0.6974\n",
      "Epoch 39/200\n",
      "19/19 [==============================] - 2s 113ms/step - loss: 0.3582 - accuracy: 0.8855 - val_loss: 0.7561 - val_accuracy: 0.6615\n",
      "Epoch 40/200\n",
      "19/19 [==============================] - 2s 121ms/step - loss: 0.3460 - accuracy: 0.8786 - val_loss: 0.7514 - val_accuracy: 0.6821\n",
      "Epoch 41/200\n",
      "19/19 [==============================] - 2s 123ms/step - loss: 0.3280 - accuracy: 0.9026 - val_loss: 0.7622 - val_accuracy: 0.6667\n",
      "Epoch 42/200\n",
      "19/19 [==============================] - 2s 119ms/step - loss: 0.3142 - accuracy: 0.9077 - val_loss: 0.8023 - val_accuracy: 0.6410\n",
      "Epoch 43/200\n",
      "19/19 [==============================] - 2s 119ms/step - loss: 0.3469 - accuracy: 0.8838 - val_loss: 0.7875 - val_accuracy: 0.6513\n",
      "Epoch 44/200\n",
      "19/19 [==============================] - 2s 101ms/step - loss: 0.3047 - accuracy: 0.9026 - val_loss: 0.7498 - val_accuracy: 0.6769\n",
      "Epoch 45/200\n",
      "19/19 [==============================] - 2s 101ms/step - loss: 0.2985 - accuracy: 0.9162 - val_loss: 0.7550 - val_accuracy: 0.6923\n",
      "Epoch 46/200\n",
      "19/19 [==============================] - 2s 109ms/step - loss: 0.2823 - accuracy: 0.9128 - val_loss: 0.7760 - val_accuracy: 0.6872\n",
      "Epoch 47/200\n",
      "19/19 [==============================] - 2s 117ms/step - loss: 0.2779 - accuracy: 0.9162 - val_loss: 0.7775 - val_accuracy: 0.6564\n",
      "Epoch 48/200\n",
      "19/19 [==============================] - 2s 129ms/step - loss: 0.2719 - accuracy: 0.9179 - val_loss: 0.7706 - val_accuracy: 0.6923\n",
      "Epoch 49/200\n",
      "19/19 [==============================] - 2s 128ms/step - loss: 0.2584 - accuracy: 0.9316 - val_loss: 0.7723 - val_accuracy: 0.7282\n",
      "Epoch 50/200\n",
      "19/19 [==============================] - 2s 128ms/step - loss: 0.2635 - accuracy: 0.9145 - val_loss: 0.7659 - val_accuracy: 0.6923\n",
      "Epoch 51/200\n",
      "19/19 [==============================] - 2s 106ms/step - loss: 0.2349 - accuracy: 0.9385 - val_loss: 0.7861 - val_accuracy: 0.6718\n",
      "Epoch 52/200\n",
      "19/19 [==============================] - 2s 126ms/step - loss: 0.2404 - accuracy: 0.9402 - val_loss: 0.9142 - val_accuracy: 0.6769\n",
      "Epoch 53/200\n",
      "19/19 [==============================] - 2s 115ms/step - loss: 0.2595 - accuracy: 0.9214 - val_loss: 0.7884 - val_accuracy: 0.6718\n",
      "Epoch 54/200\n",
      "19/19 [==============================] - 2s 120ms/step - loss: 0.2335 - accuracy: 0.9350 - val_loss: 0.8479 - val_accuracy: 0.6359\n",
      "Epoch 55/200\n",
      "19/19 [==============================] - 3s 135ms/step - loss: 0.2191 - accuracy: 0.9453 - val_loss: 0.7870 - val_accuracy: 0.6974\n",
      "Epoch 56/200\n",
      "19/19 [==============================] - 3s 134ms/step - loss: 0.2025 - accuracy: 0.9556 - val_loss: 0.7895 - val_accuracy: 0.6615\n",
      "Epoch 57/200\n",
      "19/19 [==============================] - 3s 133ms/step - loss: 0.2012 - accuracy: 0.9538 - val_loss: 0.7803 - val_accuracy: 0.7077\n"
     ]
    },
    {
     "name": "stdout",
     "output_type": "stream",
     "text": [
      "Epoch 58/200\n",
      "19/19 [==============================] - 2s 110ms/step - loss: 0.2091 - accuracy: 0.9453 - val_loss: 0.8038 - val_accuracy: 0.7077\n",
      "Epoch 59/200\n",
      "19/19 [==============================] - 2s 108ms/step - loss: 0.2007 - accuracy: 0.9419 - val_loss: 0.8545 - val_accuracy: 0.6974\n",
      "Epoch 60/200\n",
      "19/19 [==============================] - 2s 100ms/step - loss: 0.1862 - accuracy: 0.9624 - val_loss: 0.7791 - val_accuracy: 0.7026\n",
      "Epoch 61/200\n",
      "19/19 [==============================] - 2s 109ms/step - loss: 0.1788 - accuracy: 0.9624 - val_loss: 0.7874 - val_accuracy: 0.7231\n",
      "Epoch 62/200\n",
      "19/19 [==============================] - 2s 128ms/step - loss: 0.1707 - accuracy: 0.9658 - val_loss: 0.8047 - val_accuracy: 0.6872\n",
      "Epoch 63/200\n",
      "19/19 [==============================] - 2s 129ms/step - loss: 0.1611 - accuracy: 0.9761 - val_loss: 0.8350 - val_accuracy: 0.6769\n",
      "Epoch 64/200\n",
      "19/19 [==============================] - 2s 128ms/step - loss: 0.1533 - accuracy: 0.9744 - val_loss: 0.8072 - val_accuracy: 0.7231\n",
      "Epoch 65/200\n",
      "19/19 [==============================] - 2s 109ms/step - loss: 0.1578 - accuracy: 0.9726 - val_loss: 0.8286 - val_accuracy: 0.6821\n",
      "Epoch 66/200\n",
      "19/19 [==============================] - 2s 107ms/step - loss: 0.1505 - accuracy: 0.9726 - val_loss: 0.8305 - val_accuracy: 0.6974\n",
      "Epoch 67/200\n",
      "19/19 [==============================] - 2s 106ms/step - loss: 0.1387 - accuracy: 0.9846 - val_loss: 0.8300 - val_accuracy: 0.7077\n",
      "Epoch 68/200\n",
      "19/19 [==============================] - 2s 116ms/step - loss: 0.1369 - accuracy: 0.9863 - val_loss: 0.8208 - val_accuracy: 0.7026\n",
      "Epoch 69/200\n",
      "19/19 [==============================] - 2s 128ms/step - loss: 0.1295 - accuracy: 0.9880 - val_loss: 0.8803 - val_accuracy: 0.7026\n",
      "Epoch 70/200\n",
      "19/19 [==============================] - 2s 130ms/step - loss: 0.1253 - accuracy: 0.9880 - val_loss: 0.8334 - val_accuracy: 0.7385\n",
      "Epoch 71/200\n",
      "19/19 [==============================] - 2s 129ms/step - loss: 0.1261 - accuracy: 0.9726 - val_loss: 0.8180 - val_accuracy: 0.7231\n",
      "Epoch 72/200\n",
      "19/19 [==============================] - 2s 121ms/step - loss: 0.1316 - accuracy: 0.9829 - val_loss: 0.8455 - val_accuracy: 0.7487\n",
      "Epoch 73/200\n",
      "19/19 [==============================] - 2s 110ms/step - loss: 0.1252 - accuracy: 0.9829 - val_loss: 0.8377 - val_accuracy: 0.7231\n",
      "Epoch 74/200\n",
      "19/19 [==============================] - 2s 109ms/step - loss: 0.1144 - accuracy: 0.9880 - val_loss: 0.8549 - val_accuracy: 0.7026\n",
      "Epoch 75/200\n",
      "19/19 [==============================] - 2s 111ms/step - loss: 0.1059 - accuracy: 0.9897 - val_loss: 0.9079 - val_accuracy: 0.6718\n",
      "Epoch 76/200\n",
      "19/19 [==============================] - 2s 128ms/step - loss: 0.1036 - accuracy: 0.9897 - val_loss: 0.8675 - val_accuracy: 0.6667\n",
      "Epoch 77/200\n",
      "19/19 [==============================] - 2s 127ms/step - loss: 0.1113 - accuracy: 0.9829 - val_loss: 0.9570 - val_accuracy: 0.7077\n",
      "Epoch 78/200\n",
      "19/19 [==============================] - 2s 129ms/step - loss: 0.0994 - accuracy: 0.9880 - val_loss: 0.8724 - val_accuracy: 0.6718\n",
      "Epoch 79/200\n",
      "19/19 [==============================] - 2s 115ms/step - loss: 0.0888 - accuracy: 0.9949 - val_loss: 0.8830 - val_accuracy: 0.7077\n",
      "Epoch 80/200\n",
      "19/19 [==============================] - 2s 108ms/step - loss: 0.0874 - accuracy: 0.9915 - val_loss: 0.8942 - val_accuracy: 0.6769\n",
      "Epoch 81/200\n",
      "19/19 [==============================] - 2s 108ms/step - loss: 0.0830 - accuracy: 0.9932 - val_loss: 0.8701 - val_accuracy: 0.6923\n",
      "Epoch 82/200\n",
      "19/19 [==============================] - 2s 117ms/step - loss: 0.0847 - accuracy: 0.9897 - val_loss: 0.8955 - val_accuracy: 0.7436\n",
      "Epoch 83/200\n",
      "19/19 [==============================] - 2s 128ms/step - loss: 0.0830 - accuracy: 0.9915 - val_loss: 0.8782 - val_accuracy: 0.6718\n",
      "Epoch 84/200\n",
      "19/19 [==============================] - 2s 130ms/step - loss: 0.0807 - accuracy: 0.9949 - val_loss: 0.9292 - val_accuracy: 0.6821\n",
      "Epoch 85/200\n",
      "19/19 [==============================] - 2s 124ms/step - loss: 0.0790 - accuracy: 0.9949 - val_loss: 0.9261 - val_accuracy: 0.7077\n",
      "Epoch 86/200\n",
      "19/19 [==============================] - 2s 119ms/step - loss: 0.0698 - accuracy: 0.9932 - val_loss: 0.9070 - val_accuracy: 0.7077\n",
      "Epoch 87/200\n",
      "19/19 [==============================] - 2s 107ms/step - loss: 0.0713 - accuracy: 0.9932 - val_loss: 0.9221 - val_accuracy: 0.6872\n",
      "Epoch 88/200\n",
      "19/19 [==============================] - 2s 105ms/step - loss: 0.0649 - accuracy: 0.9932 - val_loss: 0.9315 - val_accuracy: 0.6769\n",
      "Epoch 89/200\n",
      "19/19 [==============================] - 2s 107ms/step - loss: 0.0629 - accuracy: 0.9932 - val_loss: 0.9221 - val_accuracy: 0.6769\n",
      "Epoch 90/200\n",
      "19/19 [==============================] - 2s 128ms/step - loss: 0.0664 - accuracy: 0.9897 - val_loss: 0.9527 - val_accuracy: 0.7128\n",
      "Epoch 91/200\n",
      "19/19 [==============================] - 2s 127ms/step - loss: 0.0698 - accuracy: 0.9932 - val_loss: 0.9514 - val_accuracy: 0.6821\n",
      "Epoch 92/200\n",
      "19/19 [==============================] - 2s 128ms/step - loss: 0.0628 - accuracy: 0.9949 - val_loss: 0.9575 - val_accuracy: 0.6974\n",
      "Epoch 93/200\n",
      "19/19 [==============================] - 2s 124ms/step - loss: 0.0563 - accuracy: 0.9949 - val_loss: 0.9259 - val_accuracy: 0.6974\n",
      "Epoch 94/200\n",
      "19/19 [==============================] - 2s 107ms/step - loss: 0.0591 - accuracy: 0.9949 - val_loss: 1.0105 - val_accuracy: 0.7538\n",
      "Epoch 95/200\n",
      "19/19 [==============================] - 2s 108ms/step - loss: 0.0570 - accuracy: 0.9949 - val_loss: 0.9681 - val_accuracy: 0.6974\n",
      "Epoch 96/200\n",
      "19/19 [==============================] - 2s 103ms/step - loss: 0.0504 - accuracy: 0.9966 - val_loss: 0.9673 - val_accuracy: 0.6923\n",
      "Epoch 97/200\n",
      "19/19 [==============================] - 2s 125ms/step - loss: 0.0475 - accuracy: 0.9966 - val_loss: 0.9932 - val_accuracy: 0.6769\n",
      "Epoch 98/200\n",
      "19/19 [==============================] - 2s 131ms/step - loss: 0.0451 - accuracy: 0.9966 - val_loss: 0.9721 - val_accuracy: 0.6923\n",
      "Epoch 99/200\n",
      "19/19 [==============================] - 2s 130ms/step - loss: 0.0457 - accuracy: 0.9966 - val_loss: 1.0024 - val_accuracy: 0.7333\n",
      "Epoch 100/200\n",
      "19/19 [==============================] - 2s 128ms/step - loss: 0.0456 - accuracy: 0.9932 - val_loss: 0.9910 - val_accuracy: 0.6974\n",
      "Epoch 101/200\n",
      "19/19 [==============================] - 2s 108ms/step - loss: 0.0423 - accuracy: 0.9966 - val_loss: 0.9950 - val_accuracy: 0.6923\n",
      "Epoch 102/200\n",
      "19/19 [==============================] - 2s 107ms/step - loss: 0.0467 - accuracy: 0.9966 - val_loss: 0.9930 - val_accuracy: 0.6872\n",
      "Epoch 103/200\n",
      "19/19 [==============================] - 2s 105ms/step - loss: 0.0445 - accuracy: 0.9966 - val_loss: 0.9971 - val_accuracy: 0.6923\n",
      "Epoch 104/200\n",
      "19/19 [==============================] - 2s 126ms/step - loss: 0.0415 - accuracy: 0.9966 - val_loss: 0.9954 - val_accuracy: 0.6872\n",
      "Epoch 105/200\n",
      "19/19 [==============================] - 2s 127ms/step - loss: 0.0398 - accuracy: 0.9949 - val_loss: 1.0024 - val_accuracy: 0.6821\n",
      "Epoch 106/200\n",
      "19/19 [==============================] - 2s 127ms/step - loss: 0.0374 - accuracy: 0.9966 - val_loss: 0.9993 - val_accuracy: 0.6872\n",
      "Epoch 107/200\n",
      "19/19 [==============================] - 2s 129ms/step - loss: 0.0365 - accuracy: 0.9966 - val_loss: 1.0187 - val_accuracy: 0.6923\n",
      "Epoch 108/200\n",
      "19/19 [==============================] - 2s 109ms/step - loss: 0.0394 - accuracy: 0.9966 - val_loss: 1.0331 - val_accuracy: 0.6769\n",
      "Epoch 109/200\n",
      "19/19 [==============================] - 2s 107ms/step - loss: 0.0350 - accuracy: 0.9949 - val_loss: 1.0478 - val_accuracy: 0.7026\n",
      "Epoch 110/200\n",
      "19/19 [==============================] - 2s 104ms/step - loss: 0.0324 - accuracy: 0.9949 - val_loss: 1.0420 - val_accuracy: 0.6974\n",
      "Epoch 111/200\n",
      "19/19 [==============================] - 2s 117ms/step - loss: 0.0350 - accuracy: 0.9983 - val_loss: 1.0634 - val_accuracy: 0.7077\n",
      "Epoch 112/200\n",
      "19/19 [==============================] - 2s 123ms/step - loss: 0.0348 - accuracy: 0.9966 - val_loss: 1.0777 - val_accuracy: 0.6718\n",
      "Epoch 113/200\n",
      "19/19 [==============================] - 2s 120ms/step - loss: 0.0349 - accuracy: 0.9932 - val_loss: 1.0869 - val_accuracy: 0.7077\n",
      "Epoch 114/200\n",
      "19/19 [==============================] - 2s 112ms/step - loss: 0.0306 - accuracy: 0.9966 - val_loss: 1.0616 - val_accuracy: 0.6718\n"
     ]
    },
    {
     "name": "stdout",
     "output_type": "stream",
     "text": [
      "Epoch 115/200\n",
      "19/19 [==============================] - 2s 115ms/step - loss: 0.0288 - accuracy: 0.9983 - val_loss: 1.0729 - val_accuracy: 0.6718\n",
      "Epoch 116/200\n",
      "19/19 [==============================] - 2s 106ms/step - loss: 0.0314 - accuracy: 0.9949 - val_loss: 1.0513 - val_accuracy: 0.6872\n",
      "Epoch 117/200\n",
      "19/19 [==============================] - 2s 104ms/step - loss: 0.0296 - accuracy: 0.9983 - val_loss: 1.0840 - val_accuracy: 0.6769\n",
      "Epoch 118/200\n",
      "19/19 [==============================] - 2s 108ms/step - loss: 0.0308 - accuracy: 0.9966 - val_loss: 1.1323 - val_accuracy: 0.7128\n",
      "Epoch 119/200\n",
      "19/19 [==============================] - 2s 124ms/step - loss: 0.0301 - accuracy: 0.9966 - val_loss: 1.1400 - val_accuracy: 0.7538\n",
      "Epoch 120/200\n",
      "19/19 [==============================] - 2s 125ms/step - loss: 0.0347 - accuracy: 0.9932 - val_loss: 1.0639 - val_accuracy: 0.6821\n",
      "Epoch 121/200\n",
      "19/19 [==============================] - 2s 124ms/step - loss: 0.0246 - accuracy: 0.9966 - val_loss: 1.0817 - val_accuracy: 0.6769\n",
      "Epoch 122/200\n",
      "19/19 [==============================] - 2s 124ms/step - loss: 0.0253 - accuracy: 0.9966 - val_loss: 1.1452 - val_accuracy: 0.7282\n",
      "Epoch 123/200\n",
      "19/19 [==============================] - 2s 101ms/step - loss: 0.0265 - accuracy: 0.9966 - val_loss: 1.0945 - val_accuracy: 0.6872\n",
      "Epoch 124/200\n",
      "19/19 [==============================] - 2s 100ms/step - loss: 0.0289 - accuracy: 0.9949 - val_loss: 1.1158 - val_accuracy: 0.6718\n",
      "Epoch 125/200\n",
      "19/19 [==============================] - 2s 105ms/step - loss: 0.0278 - accuracy: 0.9966 - val_loss: 1.1687 - val_accuracy: 0.7026\n",
      "Epoch 126/200\n",
      "19/19 [==============================] - 2s 125ms/step - loss: 0.0223 - accuracy: 0.9983 - val_loss: 1.1535 - val_accuracy: 0.6974\n",
      "Epoch 127/200\n",
      "19/19 [==============================] - 2s 126ms/step - loss: 0.0244 - accuracy: 0.9966 - val_loss: 1.1146 - val_accuracy: 0.6718\n",
      "Epoch 128/200\n",
      "19/19 [==============================] - 2s 125ms/step - loss: 0.0241 - accuracy: 0.9949 - val_loss: 1.1079 - val_accuracy: 0.6974\n",
      "Epoch 129/200\n",
      "19/19 [==============================] - 2s 126ms/step - loss: 0.0229 - accuracy: 0.9966 - val_loss: 1.1518 - val_accuracy: 0.7026\n",
      "Epoch 130/200\n",
      "19/19 [==============================] - 2s 106ms/step - loss: 0.0216 - accuracy: 0.9983 - val_loss: 1.1345 - val_accuracy: 0.6821\n",
      "Epoch 131/200\n",
      "19/19 [==============================] - 2s 105ms/step - loss: 0.0220 - accuracy: 0.9983 - val_loss: 1.1685 - val_accuracy: 0.6769\n",
      "Epoch 132/200\n",
      "19/19 [==============================] - 2s 101ms/step - loss: 0.0252 - accuracy: 0.9966 - val_loss: 1.1666 - val_accuracy: 0.6923\n",
      "Epoch 133/200\n",
      "19/19 [==============================] - 2s 113ms/step - loss: 0.0227 - accuracy: 0.9966 - val_loss: 1.1479 - val_accuracy: 0.6718\n",
      "Epoch 134/200\n",
      "19/19 [==============================] - 2s 126ms/step - loss: 0.0207 - accuracy: 0.9983 - val_loss: 1.1619 - val_accuracy: 0.6769\n",
      "Epoch 135/200\n",
      "19/19 [==============================] - 2s 124ms/step - loss: 0.0185 - accuracy: 0.9966 - val_loss: 1.1857 - val_accuracy: 0.7077\n",
      "Epoch 136/200\n",
      "19/19 [==============================] - 2s 124ms/step - loss: 0.0215 - accuracy: 0.9983 - val_loss: 1.1679 - val_accuracy: 0.6821\n",
      "Epoch 137/200\n",
      "19/19 [==============================] - 2s 115ms/step - loss: 0.0218 - accuracy: 0.9983 - val_loss: 1.2031 - val_accuracy: 0.6718\n",
      "Epoch 138/200\n",
      "19/19 [==============================] - 2s 103ms/step - loss: 0.0231 - accuracy: 0.9966 - val_loss: 1.1966 - val_accuracy: 0.6769\n",
      "Epoch 139/200\n",
      "19/19 [==============================] - 2s 104ms/step - loss: 0.0165 - accuracy: 0.9966 - val_loss: 1.2698 - val_accuracy: 0.7231\n",
      "Epoch 140/200\n",
      "19/19 [==============================] - 2s 106ms/step - loss: 0.0189 - accuracy: 0.9983 - val_loss: 1.2771 - val_accuracy: 0.7128\n",
      "Epoch 141/200\n",
      "19/19 [==============================] - 2s 125ms/step - loss: 0.0175 - accuracy: 0.9966 - val_loss: 1.2796 - val_accuracy: 0.7026\n",
      "Epoch 142/200\n",
      "19/19 [==============================] - 2s 124ms/step - loss: 0.0195 - accuracy: 0.9966 - val_loss: 1.2124 - val_accuracy: 0.6718\n",
      "Epoch 143/200\n",
      "19/19 [==============================] - 2s 123ms/step - loss: 0.0295 - accuracy: 0.9966 - val_loss: 1.2601 - val_accuracy: 0.6718\n",
      "Epoch 144/200\n",
      "19/19 [==============================] - 2s 124ms/step - loss: 0.0347 - accuracy: 0.9949 - val_loss: 1.2827 - val_accuracy: 0.6974\n",
      "Epoch 145/200\n",
      "19/19 [==============================] - 2s 103ms/step - loss: 0.0196 - accuracy: 0.9983 - val_loss: 1.2092 - val_accuracy: 0.6923\n",
      "Epoch 146/200\n",
      "19/19 [==============================] - 2s 101ms/step - loss: 0.0172 - accuracy: 0.9966 - val_loss: 1.2200 - val_accuracy: 0.6821\n",
      "Epoch 147/200\n",
      "19/19 [==============================] - 2s 105ms/step - loss: 0.0153 - accuracy: 0.9949 - val_loss: 1.2081 - val_accuracy: 0.6718\n",
      "Epoch 148/200\n",
      "19/19 [==============================] - 2s 115ms/step - loss: 0.0175 - accuracy: 0.9966 - val_loss: 1.2419 - val_accuracy: 0.6872\n",
      "Epoch 149/200\n",
      "19/19 [==============================] - 2s 122ms/step - loss: 0.0150 - accuracy: 0.9966 - val_loss: 1.2343 - val_accuracy: 0.6667\n",
      "Epoch 150/200\n",
      "19/19 [==============================] - 2s 123ms/step - loss: 0.0195 - accuracy: 0.9932 - val_loss: 1.2757 - val_accuracy: 0.7128\n",
      "Epoch 151/200\n",
      "19/19 [==============================] - 2s 125ms/step - loss: 0.0155 - accuracy: 0.9966 - val_loss: 1.2371 - val_accuracy: 0.6821\n",
      "Epoch 152/200\n",
      "19/19 [==============================] - 2s 109ms/step - loss: 0.0185 - accuracy: 0.9966 - val_loss: 1.2679 - val_accuracy: 0.7077\n",
      "Epoch 153/200\n",
      "19/19 [==============================] - 2s 103ms/step - loss: 0.0167 - accuracy: 0.9966 - val_loss: 1.2449 - val_accuracy: 0.6872\n",
      "Epoch 154/200\n",
      "19/19 [==============================] - 2s 102ms/step - loss: 0.0150 - accuracy: 0.9983 - val_loss: 1.2587 - val_accuracy: 0.6821\n",
      "Epoch 155/200\n",
      "19/19 [==============================] - 2s 106ms/step - loss: 0.0140 - accuracy: 0.9966 - val_loss: 1.2417 - val_accuracy: 0.6821\n",
      "Epoch 156/200\n",
      "19/19 [==============================] - 2s 124ms/step - loss: 0.0136 - accuracy: 0.9966 - val_loss: 1.2740 - val_accuracy: 0.6667\n",
      "Epoch 157/200\n",
      "19/19 [==============================] - 2s 127ms/step - loss: 0.0177 - accuracy: 0.9966 - val_loss: 1.2710 - val_accuracy: 0.6769\n",
      "Epoch 158/200\n",
      "19/19 [==============================] - 2s 122ms/step - loss: 0.0152 - accuracy: 0.9966 - val_loss: 1.3156 - val_accuracy: 0.6615\n",
      "Epoch 159/200\n",
      "19/19 [==============================] - 2s 122ms/step - loss: 0.0244 - accuracy: 0.9949 - val_loss: 1.2582 - val_accuracy: 0.6923\n",
      "Epoch 160/200\n",
      "19/19 [==============================] - 2s 103ms/step - loss: 0.0215 - accuracy: 0.9949 - val_loss: 1.2595 - val_accuracy: 0.6769\n",
      "Epoch 161/200\n",
      "19/19 [==============================] - 2s 105ms/step - loss: 0.0137 - accuracy: 0.9966 - val_loss: 1.2383 - val_accuracy: 0.6769\n",
      "Epoch 162/200\n",
      "19/19 [==============================] - 2s 102ms/step - loss: 0.0126 - accuracy: 0.9966 - val_loss: 1.2638 - val_accuracy: 0.6718\n",
      "Epoch 163/200\n",
      "19/19 [==============================] - 2s 119ms/step - loss: 0.0151 - accuracy: 0.9966 - val_loss: 1.3048 - val_accuracy: 0.6769\n",
      "Epoch 164/200\n",
      "19/19 [==============================] - 2s 122ms/step - loss: 0.0148 - accuracy: 0.9949 - val_loss: 1.3099 - val_accuracy: 0.6974\n",
      "Epoch 165/200\n",
      "19/19 [==============================] - 2s 123ms/step - loss: 0.0136 - accuracy: 0.9983 - val_loss: 1.3611 - val_accuracy: 0.7077\n",
      "Epoch 166/200\n",
      "19/19 [==============================] - 2s 125ms/step - loss: 0.0135 - accuracy: 0.9966 - val_loss: 1.3524 - val_accuracy: 0.7179\n",
      "Epoch 167/200\n",
      "19/19 [==============================] - 2s 110ms/step - loss: 0.0190 - accuracy: 0.9932 - val_loss: 1.2563 - val_accuracy: 0.6821\n",
      "Epoch 168/200\n",
      "19/19 [==============================] - 2s 106ms/step - loss: 0.0125 - accuracy: 0.9966 - val_loss: 1.2923 - val_accuracy: 0.6769\n",
      "Epoch 169/200\n",
      "19/19 [==============================] - 2s 104ms/step - loss: 0.0146 - accuracy: 0.9949 - val_loss: 1.2887 - val_accuracy: 0.6872\n",
      "Epoch 170/200\n",
      "19/19 [==============================] - 2s 113ms/step - loss: 0.0146 - accuracy: 0.9949 - val_loss: 1.2875 - val_accuracy: 0.6769\n",
      "Epoch 171/200\n"
     ]
    },
    {
     "name": "stdout",
     "output_type": "stream",
     "text": [
      "19/19 [==============================] - 2s 125ms/step - loss: 0.0127 - accuracy: 1.0000 - val_loss: 1.2704 - val_accuracy: 0.6974\n",
      "Epoch 172/200\n",
      "19/19 [==============================] - 2s 124ms/step - loss: 0.0129 - accuracy: 1.0000 - val_loss: 1.2965 - val_accuracy: 0.6872\n",
      "Epoch 173/200\n",
      "19/19 [==============================] - 2s 122ms/step - loss: 0.0133 - accuracy: 0.9983 - val_loss: 1.3652 - val_accuracy: 0.7026\n",
      "Epoch 174/200\n",
      "19/19 [==============================] - 2s 116ms/step - loss: 0.0119 - accuracy: 0.9983 - val_loss: 1.4007 - val_accuracy: 0.6974\n",
      "Epoch 175/200\n",
      "19/19 [==============================] - 2s 106ms/step - loss: 0.0112 - accuracy: 0.9966 - val_loss: 1.3386 - val_accuracy: 0.6615\n",
      "Epoch 176/200\n",
      "19/19 [==============================] - 2s 106ms/step - loss: 0.0142 - accuracy: 0.9983 - val_loss: 1.3496 - val_accuracy: 0.6615\n",
      "Epoch 177/200\n",
      "19/19 [==============================] - 2s 106ms/step - loss: 0.0109 - accuracy: 0.9966 - val_loss: 1.3541 - val_accuracy: 0.6923\n",
      "Epoch 178/200\n",
      "19/19 [==============================] - 2s 126ms/step - loss: 0.0180 - accuracy: 0.9966 - val_loss: 1.4233 - val_accuracy: 0.7026\n",
      "Epoch 179/200\n",
      "19/19 [==============================] - 2s 127ms/step - loss: 0.0136 - accuracy: 0.9966 - val_loss: 1.3404 - val_accuracy: 0.6821\n",
      "Epoch 180/200\n",
      "19/19 [==============================] - 2s 125ms/step - loss: 0.0111 - accuracy: 0.9983 - val_loss: 1.3573 - val_accuracy: 0.6923\n",
      "Epoch 181/200\n",
      "19/19 [==============================] - 2s 120ms/step - loss: 0.0103 - accuracy: 0.9983 - val_loss: 1.3385 - val_accuracy: 0.6872\n",
      "Epoch 182/200\n",
      "19/19 [==============================] - 2s 102ms/step - loss: 0.0091 - accuracy: 0.9983 - val_loss: 1.4265 - val_accuracy: 0.6667\n",
      "Epoch 183/200\n",
      "19/19 [==============================] - 2s 106ms/step - loss: 0.0353 - accuracy: 0.9932 - val_loss: 1.3119 - val_accuracy: 0.6821\n",
      "Epoch 184/200\n",
      "19/19 [==============================] - 2s 103ms/step - loss: 0.0185 - accuracy: 0.9949 - val_loss: 1.2834 - val_accuracy: 0.6872\n",
      "Epoch 185/200\n",
      "19/19 [==============================] - 2s 122ms/step - loss: 0.0115 - accuracy: 0.9983 - val_loss: 1.3750 - val_accuracy: 0.7282\n",
      "Epoch 186/200\n",
      "19/19 [==============================] - 2s 125ms/step - loss: 0.0137 - accuracy: 0.9966 - val_loss: 1.3336 - val_accuracy: 0.6923\n",
      "Epoch 187/200\n",
      "19/19 [==============================] - 2s 123ms/step - loss: 0.0099 - accuracy: 0.9983 - val_loss: 1.3242 - val_accuracy: 0.6821\n",
      "Epoch 188/200\n",
      "19/19 [==============================] - 2s 123ms/step - loss: 0.0098 - accuracy: 0.9983 - val_loss: 1.3525 - val_accuracy: 0.6718\n",
      "Epoch 189/200\n",
      "19/19 [==============================] - 2s 107ms/step - loss: 0.0100 - accuracy: 0.9966 - val_loss: 1.3905 - val_accuracy: 0.6923\n",
      "Epoch 190/200\n",
      "19/19 [==============================] - 2s 103ms/step - loss: 0.0094 - accuracy: 0.9966 - val_loss: 1.3668 - val_accuracy: 0.6615\n",
      "Epoch 191/200\n",
      "19/19 [==============================] - 2s 104ms/step - loss: 0.0117 - accuracy: 0.9966 - val_loss: 1.3914 - val_accuracy: 0.6718\n",
      "Epoch 192/200\n",
      "19/19 [==============================] - 2s 114ms/step - loss: 0.0091 - accuracy: 0.9983 - val_loss: 1.3763 - val_accuracy: 0.6718\n",
      "Epoch 193/200\n",
      "19/19 [==============================] - 2s 124ms/step - loss: 0.0089 - accuracy: 0.9983 - val_loss: 1.4225 - val_accuracy: 0.6667\n",
      "Epoch 194/200\n",
      "19/19 [==============================] - 2s 117ms/step - loss: 0.0096 - accuracy: 0.9983 - val_loss: 1.3670 - val_accuracy: 0.6769\n",
      "Epoch 195/200\n",
      "19/19 [==============================] - 2s 123ms/step - loss: 0.0104 - accuracy: 0.9949 - val_loss: 1.3916 - val_accuracy: 0.6769\n",
      "Epoch 196/200\n",
      "19/19 [==============================] - 2s 115ms/step - loss: 0.0093 - accuracy: 0.9983 - val_loss: 1.3853 - val_accuracy: 0.6872\n",
      "Epoch 197/200\n",
      "19/19 [==============================] - 2s 107ms/step - loss: 0.0109 - accuracy: 0.9966 - val_loss: 1.4470 - val_accuracy: 0.6923\n",
      "Epoch 198/200\n",
      "19/19 [==============================] - 2s 108ms/step - loss: 0.0088 - accuracy: 0.9983 - val_loss: 1.4493 - val_accuracy: 0.6872\n",
      "Epoch 199/200\n",
      "19/19 [==============================] - 2s 108ms/step - loss: 0.0091 - accuracy: 0.9983 - val_loss: 1.3957 - val_accuracy: 0.6667\n",
      "Epoch 200/200\n",
      "19/19 [==============================] - 2s 113ms/step - loss: 0.0110 - accuracy: 0.9966 - val_loss: 1.4218 - val_accuracy: 0.6821\n"
     ]
    }
   ],
   "source": [
    "batch_size = 32\n",
    "epochs = 200\n",
    "history = model.fit(train_X, train_y,\n",
    "                    batch_size=batch_size,\n",
    "                    epochs=epochs,\n",
    "                    validation_data=(test_X, test_y),\n",
    "                    verbose=1)"
   ]
  },
  {
   "cell_type": "code",
   "execution_count": 125,
   "id": "bb176b69",
   "metadata": {},
   "outputs": [
    {
     "data": {
      "image/png": "[encoded data removed]",
      "text/plain": [
       "<Figure size 640x480 with 1 Axes>"
      ]
     },
     "metadata": {},
     "output_type": "display_data"
    }
   ],
   "source": [
    "# visualise training history\n",
    "plt.plot(model.history.history['accuracy'])\n",
    "plt.plot(model.history.history['val_accuracy'])\n",
    "plt.title('model accuracy')\n",
    "plt.ylabel('accuracy')\n",
    "plt.xlabel('epoch')\n",
    "plt.ylim(0,1)\n",
    "plt.legend(['train', 'test'], loc=\"lower right\")\n",
    "plt.show()"
   ]
  },
  {
   "cell_type": "markdown",
   "id": "728d015c",
   "metadata": {},
   "source": [
    "c. Check the performance of your model"
   ]
  },
  {
   "cell_type": "code",
   "execution_count": 126,
   "id": "7205c937",
   "metadata": {
    "scrolled": true
   },
   "outputs": [
    {
     "name": "stdout",
     "output_type": "stream",
     "text": [
      "Accuracy of the model on the train set is 100.00 %\n",
      "Accuracy of the model on the test set is 68.21 %\n"
     ]
    }
   ],
   "source": [
    "# Evaluate the model on the train set\n",
    "train_loss, train_accuracy = model.evaluate(train_X, train_y, verbose=0)\n",
    "print(f\"Accuracy of the model on the train set is {train_accuracy * 100:.2f} %\")\n",
    "\n",
    "# Evaluate the model on the test set\n",
    "test_loss, test_accuracy = model.evaluate(test_X, test_y, verbose=0)\n",
    "print(f\"Accuracy of the model on the test set is {test_accuracy * 100:.2f} %\")\n"
   ]
  },
  {
   "cell_type": "markdown",
   "id": "5ec03fa3",
   "metadata": {},
   "source": [
    "d. Create a confusion matrix to inspect the model's output"
   ]
  },
  {
   "cell_type": "code",
   "execution_count": 127,
   "id": "388341d8",
   "metadata": {},
   "outputs": [
    {
     "name": "stdout",
     "output_type": "stream",
     "text": [
      "7/7 [==============================] - 0s 27ms/step\n"
     ]
    },
    {
     "data": {
      "image/png": "[encoded data removed]",
      "text/plain": [
       "<Figure size 1000x700 with 2 Axes>"
      ]
     },
     "metadata": {},
     "output_type": "display_data"
    }
   ],
   "source": [
    "predicted_probs = model.predict(test_X)\n",
    "predicted_labels = np.argmax(predicted_probs, axis=1)\n",
    "true_labels = np.argmax(test_y, axis=1)\n",
    "cm = confusion_matrix(true_labels, predicted_labels)\n",
    "plt.figure(figsize=(10, 7))\n",
    "sns.heatmap(cm, annot=True, fmt=\"d\", xticklabels=['malignant', 'benign', 'normal'], yticklabels=['malignant', 'benign', 'normal'])\n",
    "plt.xlabel('Predicted Labels')\n",
    "plt.ylabel('True Labels')\n",
    "plt.show()"
   ]
  },
  {
   "cell_type": "markdown",
   "id": "3c76e270",
   "metadata": {},
   "source": [
    "### Optional Exercise\n",
    "Both model for multiclassification overfit. This can be caused by the high complexity of the networks that we have used, it could also be due to the low number of training examples we have (around 600 used for training+ an imbalanced dataset).\n",
    "\n",
    "Refer to this data augmentation technique suggested by Keras [Image Data Generator](https://www.tensorflow.org/api_docs/python/tf/keras/preprocessing/image/ImageDataGenerator), and check whether it can help bridge the gap between the accuracy in training and the accuracy of the test set.\n"
   ]
  },
  {
   "cell_type": "code",
   "execution_count": 128,
   "id": "b5af4601",
   "metadata": {},
   "outputs": [
    {
     "name": "stdout",
     "output_type": "stream",
     "text": [
      "Epoch 1/200\n",
      "18/18 [==============================] - 5s 162ms/step - loss: 0.9841 - accuracy: 0.5590 - val_loss: 1.0118 - val_accuracy: 0.5641\n",
      "Epoch 2/200\n",
      "18/18 [==============================] - 2s 130ms/step - loss: 0.9595 - accuracy: 0.5641 - val_loss: 0.9614 - val_accuracy: 0.5590\n",
      "Epoch 3/200\n",
      "18/18 [==============================] - 2s 132ms/step - loss: 0.9455 - accuracy: 0.5709 - val_loss: 0.9515 - val_accuracy: 0.5641\n",
      "Epoch 4/200\n",
      "18/18 [==============================] - 3s 144ms/step - loss: 0.9388 - accuracy: 0.5726 - val_loss: 0.9416 - val_accuracy: 0.5692\n",
      "Epoch 5/200\n",
      "18/18 [==============================] - 3s 152ms/step - loss: 0.9267 - accuracy: 0.5880 - val_loss: 0.9340 - val_accuracy: 0.5846\n",
      "Epoch 6/200\n",
      "18/18 [==============================] - 3s 152ms/step - loss: 0.9159 - accuracy: 0.5863 - val_loss: 0.9265 - val_accuracy: 0.6103\n",
      "Epoch 7/200\n",
      "18/18 [==============================] - 3s 142ms/step - loss: 0.9206 - accuracy: 0.5863 - val_loss: 0.9180 - val_accuracy: 0.5641\n",
      "Epoch 8/200\n",
      "18/18 [==============================] - 2s 126ms/step - loss: 0.9074 - accuracy: 0.6051 - val_loss: 0.9065 - val_accuracy: 0.6000\n",
      "Epoch 9/200\n",
      "18/18 [==============================] - 2s 128ms/step - loss: 0.9037 - accuracy: 0.6085 - val_loss: 0.8982 - val_accuracy: 0.6051\n",
      "Epoch 10/200\n",
      "18/18 [==============================] - 3s 137ms/step - loss: 0.9092 - accuracy: 0.6051 - val_loss: 0.9018 - val_accuracy: 0.6051\n",
      "Epoch 11/200\n",
      "18/18 [==============================] - 3s 149ms/step - loss: 0.8693 - accuracy: 0.6017 - val_loss: 0.9002 - val_accuracy: 0.5949\n",
      "Epoch 12/200\n",
      "18/18 [==============================] - 3s 144ms/step - loss: 0.8949 - accuracy: 0.6154 - val_loss: 0.8897 - val_accuracy: 0.6000\n",
      "Epoch 13/200\n",
      "18/18 [==============================] - 3s 148ms/step - loss: 0.8845 - accuracy: 0.6291 - val_loss: 0.8859 - val_accuracy: 0.6000\n",
      "Epoch 14/200\n",
      "18/18 [==============================] - 4s 209ms/step - loss: 0.8759 - accuracy: 0.6291 - val_loss: 0.8798 - val_accuracy: 0.6154\n",
      "Epoch 15/200\n",
      "18/18 [==============================] - 7s 359ms/step - loss: 0.8833 - accuracy: 0.6154 - val_loss: 0.8888 - val_accuracy: 0.6051\n",
      "Epoch 16/200\n",
      "18/18 [==============================] - 6s 295ms/step - loss: 0.8717 - accuracy: 0.6205 - val_loss: 0.8926 - val_accuracy: 0.6000\n",
      "Epoch 17/200\n",
      "18/18 [==============================] - 4s 233ms/step - loss: 0.8462 - accuracy: 0.6530 - val_loss: 0.9168 - val_accuracy: 0.5795\n",
      "Epoch 18/200\n",
      "18/18 [==============================] - 4s 195ms/step - loss: 0.8732 - accuracy: 0.6154 - val_loss: 0.8885 - val_accuracy: 0.6051\n",
      "Epoch 19/200\n",
      "18/18 [==============================] - 3s 171ms/step - loss: 0.8589 - accuracy: 0.6410 - val_loss: 0.8754 - val_accuracy: 0.6256\n",
      "Epoch 20/200\n",
      "18/18 [==============================] - 3s 169ms/step - loss: 0.8615 - accuracy: 0.6376 - val_loss: 0.9008 - val_accuracy: 0.5949\n",
      "Epoch 21/200\n",
      "18/18 [==============================] - 3s 136ms/step - loss: 0.8636 - accuracy: 0.6479 - val_loss: 0.8796 - val_accuracy: 0.6103\n",
      "Epoch 22/200\n",
      "18/18 [==============================] - 2s 129ms/step - loss: 0.8539 - accuracy: 0.6342 - val_loss: 0.8840 - val_accuracy: 0.5897\n",
      "Epoch 23/200\n",
      "18/18 [==============================] - 2s 131ms/step - loss: 0.8613 - accuracy: 0.6342 - val_loss: 0.8776 - val_accuracy: 0.6154\n",
      "Epoch 24/200\n",
      "18/18 [==============================] - 3s 153ms/step - loss: 0.8356 - accuracy: 0.6393 - val_loss: 0.8770 - val_accuracy: 0.6103\n",
      "Epoch 25/200\n",
      "18/18 [==============================] - 3s 155ms/step - loss: 0.8384 - accuracy: 0.6393 - val_loss: 0.8750 - val_accuracy: 0.6103\n",
      "Epoch 26/200\n",
      "18/18 [==============================] - 3s 148ms/step - loss: 0.8337 - accuracy: 0.6479 - val_loss: 0.8722 - val_accuracy: 0.6154\n",
      "Epoch 27/200\n",
      "18/18 [==============================] - 3s 139ms/step - loss: 0.8259 - accuracy: 0.6513 - val_loss: 0.8757 - val_accuracy: 0.6103\n",
      "Epoch 28/200\n",
      "18/18 [==============================] - 2s 132ms/step - loss: 0.8436 - accuracy: 0.6274 - val_loss: 0.9179 - val_accuracy: 0.5744\n",
      "Epoch 29/200\n",
      "18/18 [==============================] - 2s 128ms/step - loss: 0.8493 - accuracy: 0.6188 - val_loss: 0.9016 - val_accuracy: 0.5692\n",
      "Epoch 30/200\n",
      "18/18 [==============================] - 3s 155ms/step - loss: 0.8224 - accuracy: 0.6530 - val_loss: 0.8568 - val_accuracy: 0.6205\n",
      "Epoch 31/200\n",
      "18/18 [==============================] - 3s 146ms/step - loss: 0.8119 - accuracy: 0.6615 - val_loss: 0.8867 - val_accuracy: 0.6000\n",
      "Epoch 32/200\n",
      "18/18 [==============================] - 3s 152ms/step - loss: 0.8180 - accuracy: 0.6564 - val_loss: 0.8542 - val_accuracy: 0.6308\n",
      "Epoch 33/200\n",
      "18/18 [==============================] - 3s 142ms/step - loss: 0.8114 - accuracy: 0.6632 - val_loss: 0.9283 - val_accuracy: 0.5692\n",
      "Epoch 34/200\n",
      "18/18 [==============================] - 2s 127ms/step - loss: 0.8236 - accuracy: 0.6530 - val_loss: 0.9065 - val_accuracy: 0.5744\n",
      "Epoch 35/200\n",
      "18/18 [==============================] - 2s 132ms/step - loss: 0.8032 - accuracy: 0.6462 - val_loss: 0.8631 - val_accuracy: 0.6154\n",
      "Epoch 36/200\n",
      "18/18 [==============================] - 3s 148ms/step - loss: 0.8024 - accuracy: 0.6564 - val_loss: 0.8856 - val_accuracy: 0.6000\n",
      "Epoch 37/200\n",
      "18/18 [==============================] - 3s 152ms/step - loss: 0.8248 - accuracy: 0.6274 - val_loss: 0.8731 - val_accuracy: 0.6000\n",
      "Epoch 38/200\n",
      "18/18 [==============================] - 3s 156ms/step - loss: 0.7902 - accuracy: 0.6513 - val_loss: 0.8768 - val_accuracy: 0.6000\n",
      "Epoch 39/200\n",
      "18/18 [==============================] - 3s 138ms/step - loss: 0.7824 - accuracy: 0.6855 - val_loss: 0.8518 - val_accuracy: 0.6154\n",
      "Epoch 40/200\n",
      "18/18 [==============================] - 2s 131ms/step - loss: 0.8000 - accuracy: 0.6239 - val_loss: 0.8454 - val_accuracy: 0.6308\n",
      "Epoch 41/200\n",
      "18/18 [==============================] - 2s 131ms/step - loss: 0.8154 - accuracy: 0.6547 - val_loss: 0.8501 - val_accuracy: 0.6205\n",
      "Epoch 42/200\n",
      "18/18 [==============================] - 3s 143ms/step - loss: 0.8096 - accuracy: 0.6598 - val_loss: 0.8206 - val_accuracy: 0.6462\n",
      "Epoch 43/200\n",
      "18/18 [==============================] - 3s 159ms/step - loss: 0.8030 - accuracy: 0.6274 - val_loss: 0.8094 - val_accuracy: 0.6513\n",
      "Epoch 44/200\n",
      "18/18 [==============================] - 3s 163ms/step - loss: 0.7928 - accuracy: 0.6427 - val_loss: 0.8655 - val_accuracy: 0.6051\n",
      "Epoch 45/200\n",
      "18/18 [==============================] - 3s 148ms/step - loss: 0.7843 - accuracy: 0.6513 - val_loss: 0.8310 - val_accuracy: 0.6615\n",
      "Epoch 46/200\n",
      "18/18 [==============================] - 3s 140ms/step - loss: 0.7613 - accuracy: 0.6923 - val_loss: 0.8654 - val_accuracy: 0.6308\n",
      "Epoch 47/200\n",
      "18/18 [==============================] - 2s 132ms/step - loss: 0.7675 - accuracy: 0.6786 - val_loss: 0.8495 - val_accuracy: 0.6308\n",
      "Epoch 48/200\n",
      "18/18 [==============================] - 3s 150ms/step - loss: 0.7899 - accuracy: 0.6752 - val_loss: 0.8900 - val_accuracy: 0.5949\n",
      "Epoch 49/200\n",
      "18/18 [==============================] - 3s 157ms/step - loss: 0.7810 - accuracy: 0.6821 - val_loss: 0.9465 - val_accuracy: 0.5590\n",
      "Epoch 50/200\n",
      "18/18 [==============================] - 3s 155ms/step - loss: 0.7644 - accuracy: 0.6513 - val_loss: 0.8956 - val_accuracy: 0.5744\n",
      "Epoch 51/200\n",
      "18/18 [==============================] - 3s 137ms/step - loss: 0.7760 - accuracy: 0.6496 - val_loss: 0.9106 - val_accuracy: 0.5795\n",
      "Epoch 52/200\n",
      "18/18 [==============================] - 2s 133ms/step - loss: 0.7668 - accuracy: 0.6872 - val_loss: 0.8223 - val_accuracy: 0.6513\n",
      "Epoch 53/200\n",
      "18/18 [==============================] - 2s 133ms/step - loss: 0.7378 - accuracy: 0.6889 - val_loss: 0.8373 - val_accuracy: 0.6462\n",
      "Epoch 54/200\n",
      "18/18 [==============================] - 3s 150ms/step - loss: 0.7592 - accuracy: 0.6769 - val_loss: 0.8467 - val_accuracy: 0.6256\n",
      "Epoch 55/200\n",
      "18/18 [==============================] - 3s 153ms/step - loss: 0.7550 - accuracy: 0.6838 - val_loss: 0.8629 - val_accuracy: 0.6256\n",
      "Epoch 56/200\n",
      "18/18 [==============================] - 3s 155ms/step - loss: 0.7753 - accuracy: 0.6564 - val_loss: 0.9516 - val_accuracy: 0.5590\n",
      "Epoch 57/200\n",
      "18/18 [==============================] - 3s 135ms/step - loss: 0.7644 - accuracy: 0.6701 - val_loss: 0.8536 - val_accuracy: 0.6205\n"
     ]
    },
    {
     "name": "stdout",
     "output_type": "stream",
     "text": [
      "Epoch 58/200\n",
      "18/18 [==============================] - 2s 134ms/step - loss: 0.7501 - accuracy: 0.6786 - val_loss: 0.8271 - val_accuracy: 0.6462\n",
      "Epoch 59/200\n",
      "18/18 [==============================] - 2s 132ms/step - loss: 0.7580 - accuracy: 0.6667 - val_loss: 0.9504 - val_accuracy: 0.5590\n",
      "Epoch 60/200\n",
      "18/18 [==============================] - 3s 153ms/step - loss: 0.7470 - accuracy: 0.6786 - val_loss: 0.8655 - val_accuracy: 0.6256\n",
      "Epoch 61/200\n",
      "18/18 [==============================] - 3s 154ms/step - loss: 0.7485 - accuracy: 0.6821 - val_loss: 0.8341 - val_accuracy: 0.6410\n",
      "Epoch 62/200\n",
      "18/18 [==============================] - 3s 155ms/step - loss: 0.7247 - accuracy: 0.6991 - val_loss: 0.8545 - val_accuracy: 0.6410\n",
      "Epoch 63/200\n",
      "18/18 [==============================] - 3s 134ms/step - loss: 0.7389 - accuracy: 0.6821 - val_loss: 0.8712 - val_accuracy: 0.6256\n",
      "Epoch 64/200\n",
      "18/18 [==============================] - 2s 130ms/step - loss: 0.7365 - accuracy: 0.6923 - val_loss: 0.8453 - val_accuracy: 0.6256\n",
      "Epoch 65/200\n",
      "18/18 [==============================] - 2s 133ms/step - loss: 0.7364 - accuracy: 0.6838 - val_loss: 0.8211 - val_accuracy: 0.6410\n",
      "Epoch 66/200\n",
      "18/18 [==============================] - 3s 152ms/step - loss: 0.7305 - accuracy: 0.6786 - val_loss: 0.8912 - val_accuracy: 0.6308\n",
      "Epoch 67/200\n",
      "18/18 [==============================] - 3s 150ms/step - loss: 0.7731 - accuracy: 0.6479 - val_loss: 0.8775 - val_accuracy: 0.6154\n",
      "Epoch 68/200\n",
      "18/18 [==============================] - 3s 158ms/step - loss: 0.7470 - accuracy: 0.6632 - val_loss: 0.8225 - val_accuracy: 0.6513\n",
      "Epoch 69/200\n",
      "18/18 [==============================] - 3s 142ms/step - loss: 0.7119 - accuracy: 0.6838 - val_loss: 0.8831 - val_accuracy: 0.6359\n",
      "Epoch 70/200\n",
      "18/18 [==============================] - 3s 141ms/step - loss: 0.7373 - accuracy: 0.6735 - val_loss: 0.9426 - val_accuracy: 0.5744\n",
      "Epoch 71/200\n",
      "18/18 [==============================] - 2s 133ms/step - loss: 0.7215 - accuracy: 0.6769 - val_loss: 0.8672 - val_accuracy: 0.6205\n",
      "Epoch 72/200\n",
      "18/18 [==============================] - 3s 149ms/step - loss: 0.7137 - accuracy: 0.7043 - val_loss: 0.8781 - val_accuracy: 0.6308\n",
      "Epoch 73/200\n",
      "18/18 [==============================] - 3s 155ms/step - loss: 0.7150 - accuracy: 0.7009 - val_loss: 0.8319 - val_accuracy: 0.6513\n",
      "Epoch 74/200\n",
      "18/18 [==============================] - 3s 157ms/step - loss: 0.7442 - accuracy: 0.6838 - val_loss: 0.8319 - val_accuracy: 0.6359\n",
      "Epoch 75/200\n",
      "18/18 [==============================] - 2s 139ms/step - loss: 0.7208 - accuracy: 0.7094 - val_loss: 0.8765 - val_accuracy: 0.6154\n",
      "Epoch 76/200\n",
      "18/18 [==============================] - 2s 131ms/step - loss: 0.7176 - accuracy: 0.6974 - val_loss: 0.8877 - val_accuracy: 0.6205\n",
      "Epoch 77/200\n",
      "18/18 [==============================] - 2s 135ms/step - loss: 0.7012 - accuracy: 0.7009 - val_loss: 0.8606 - val_accuracy: 0.6359\n",
      "Epoch 78/200\n",
      "18/18 [==============================] - 3s 154ms/step - loss: 0.7331 - accuracy: 0.6769 - val_loss: 0.8354 - val_accuracy: 0.6410\n",
      "Epoch 79/200\n",
      "18/18 [==============================] - 3s 154ms/step - loss: 0.7279 - accuracy: 0.6838 - val_loss: 0.7753 - val_accuracy: 0.6769\n",
      "Epoch 80/200\n",
      "18/18 [==============================] - 3s 157ms/step - loss: 0.7512 - accuracy: 0.6735 - val_loss: 0.7976 - val_accuracy: 0.6615\n",
      "Epoch 81/200\n",
      "18/18 [==============================] - 2s 138ms/step - loss: 0.7270 - accuracy: 0.6718 - val_loss: 0.8674 - val_accuracy: 0.6103\n",
      "Epoch 82/200\n",
      "18/18 [==============================] - 2s 131ms/step - loss: 0.7230 - accuracy: 0.6906 - val_loss: 0.9691 - val_accuracy: 0.5641\n",
      "Epoch 83/200\n",
      "18/18 [==============================] - 2s 132ms/step - loss: 0.7102 - accuracy: 0.7094 - val_loss: 0.8553 - val_accuracy: 0.6205\n",
      "Epoch 84/200\n",
      "18/18 [==============================] - 3s 153ms/step - loss: 0.7152 - accuracy: 0.6889 - val_loss: 0.8508 - val_accuracy: 0.6205\n",
      "Epoch 85/200\n",
      "18/18 [==============================] - 3s 157ms/step - loss: 0.7032 - accuracy: 0.6889 - val_loss: 0.9155 - val_accuracy: 0.5795\n",
      "Epoch 86/200\n",
      "18/18 [==============================] - 3s 155ms/step - loss: 0.7222 - accuracy: 0.6752 - val_loss: 0.8365 - val_accuracy: 0.6359\n",
      "Epoch 87/200\n",
      "18/18 [==============================] - 3s 133ms/step - loss: 0.6961 - accuracy: 0.7043 - val_loss: 0.8250 - val_accuracy: 0.6615\n",
      "Epoch 88/200\n",
      "18/18 [==============================] - 2s 129ms/step - loss: 0.6872 - accuracy: 0.7009 - val_loss: 0.8143 - val_accuracy: 0.6615\n",
      "Epoch 89/200\n",
      "18/18 [==============================] - 2s 132ms/step - loss: 0.6968 - accuracy: 0.7009 - val_loss: 0.8485 - val_accuracy: 0.6513\n",
      "Epoch 90/200\n",
      "18/18 [==============================] - 3s 157ms/step - loss: 0.6712 - accuracy: 0.7060 - val_loss: 0.8141 - val_accuracy: 0.6615\n",
      "Epoch 91/200\n",
      "18/18 [==============================] - 3s 157ms/step - loss: 0.6901 - accuracy: 0.6821 - val_loss: 0.7989 - val_accuracy: 0.6564\n",
      "Epoch 92/200\n",
      "18/18 [==============================] - 3s 154ms/step - loss: 0.7199 - accuracy: 0.6923 - val_loss: 0.8672 - val_accuracy: 0.6154\n",
      "Epoch 93/200\n",
      "18/18 [==============================] - 2s 129ms/step - loss: 0.6873 - accuracy: 0.6940 - val_loss: 0.8345 - val_accuracy: 0.6462\n",
      "Epoch 94/200\n",
      "18/18 [==============================] - 2s 130ms/step - loss: 0.6962 - accuracy: 0.6923 - val_loss: 0.7882 - val_accuracy: 0.6821\n",
      "Epoch 95/200\n",
      "18/18 [==============================] - 2s 132ms/step - loss: 0.6859 - accuracy: 0.7060 - val_loss: 0.8168 - val_accuracy: 0.6564\n",
      "Epoch 96/200\n",
      "18/18 [==============================] - 3s 157ms/step - loss: 0.6995 - accuracy: 0.6821 - val_loss: 0.8005 - val_accuracy: 0.6718\n",
      "Epoch 97/200\n",
      "18/18 [==============================] - 3s 156ms/step - loss: 0.7009 - accuracy: 0.6940 - val_loss: 0.7994 - val_accuracy: 0.6564\n",
      "Epoch 98/200\n",
      "18/18 [==============================] - 3s 155ms/step - loss: 0.6966 - accuracy: 0.7009 - val_loss: 0.7859 - val_accuracy: 0.6667\n",
      "Epoch 99/200\n",
      "18/18 [==============================] - 3s 139ms/step - loss: 0.7225 - accuracy: 0.6718 - val_loss: 0.7758 - val_accuracy: 0.6769\n",
      "Epoch 100/200\n",
      "18/18 [==============================] - 2s 134ms/step - loss: 0.7080 - accuracy: 0.7077 - val_loss: 0.8635 - val_accuracy: 0.6462\n",
      "Epoch 101/200\n",
      "18/18 [==============================] - 2s 129ms/step - loss: 0.7272 - accuracy: 0.6872 - val_loss: 0.8407 - val_accuracy: 0.6513\n",
      "Epoch 102/200\n",
      "18/18 [==============================] - 3s 155ms/step - loss: 0.6956 - accuracy: 0.7094 - val_loss: 0.8930 - val_accuracy: 0.6256\n",
      "Epoch 103/200\n",
      "18/18 [==============================] - 3s 159ms/step - loss: 0.7029 - accuracy: 0.6769 - val_loss: 0.8370 - val_accuracy: 0.6359\n",
      "Epoch 104/200\n",
      "18/18 [==============================] - 3s 155ms/step - loss: 0.7334 - accuracy: 0.6752 - val_loss: 0.9413 - val_accuracy: 0.5949\n",
      "Epoch 105/200\n",
      "18/18 [==============================] - 3s 138ms/step - loss: 0.7010 - accuracy: 0.7111 - val_loss: 0.7732 - val_accuracy: 0.6667\n",
      "Epoch 106/200\n",
      "18/18 [==============================] - 2s 128ms/step - loss: 0.6991 - accuracy: 0.6974 - val_loss: 0.7579 - val_accuracy: 0.6974\n",
      "Epoch 107/200\n",
      "18/18 [==============================] - 2s 129ms/step - loss: 0.7006 - accuracy: 0.7111 - val_loss: 0.7906 - val_accuracy: 0.6667\n",
      "Epoch 108/200\n",
      "18/18 [==============================] - 3s 154ms/step - loss: 0.6714 - accuracy: 0.7128 - val_loss: 0.8387 - val_accuracy: 0.6615\n",
      "Epoch 109/200\n",
      "18/18 [==============================] - 3s 153ms/step - loss: 0.6865 - accuracy: 0.7145 - val_loss: 0.8048 - val_accuracy: 0.6564\n",
      "Epoch 110/200\n",
      "18/18 [==============================] - 3s 148ms/step - loss: 0.6659 - accuracy: 0.7145 - val_loss: 0.7928 - val_accuracy: 0.6667\n",
      "Epoch 111/200\n",
      "18/18 [==============================] - 2s 129ms/step - loss: 0.7024 - accuracy: 0.6923 - val_loss: 0.8737 - val_accuracy: 0.6154\n",
      "Epoch 112/200\n",
      "18/18 [==============================] - 2s 127ms/step - loss: 0.7085 - accuracy: 0.6923 - val_loss: 0.8550 - val_accuracy: 0.6462\n",
      "Epoch 113/200\n",
      "18/18 [==============================] - 3s 138ms/step - loss: 0.6860 - accuracy: 0.7145 - val_loss: 0.7849 - val_accuracy: 0.6615\n",
      "Epoch 114/200\n",
      "18/18 [==============================] - 3s 158ms/step - loss: 0.7008 - accuracy: 0.6923 - val_loss: 0.7369 - val_accuracy: 0.6974\n"
     ]
    },
    {
     "name": "stdout",
     "output_type": "stream",
     "text": [
      "Epoch 115/200\n",
      "18/18 [==============================] - 3s 167ms/step - loss: 0.7004 - accuracy: 0.7060 - val_loss: 0.8270 - val_accuracy: 0.6410\n",
      "Epoch 116/200\n",
      "18/18 [==============================] - 3s 154ms/step - loss: 0.6759 - accuracy: 0.7094 - val_loss: 0.7724 - val_accuracy: 0.6821\n",
      "Epoch 117/200\n",
      "18/18 [==============================] - 2s 131ms/step - loss: 0.6669 - accuracy: 0.7094 - val_loss: 0.7697 - val_accuracy: 0.6718\n",
      "Epoch 118/200\n",
      "18/18 [==============================] - 2s 128ms/step - loss: 0.6915 - accuracy: 0.7060 - val_loss: 0.8440 - val_accuracy: 0.6615\n",
      "Epoch 119/200\n",
      "18/18 [==============================] - 3s 141ms/step - loss: 0.6650 - accuracy: 0.7214 - val_loss: 0.8415 - val_accuracy: 0.6462\n",
      "Epoch 120/200\n",
      "18/18 [==============================] - 3s 157ms/step - loss: 0.6549 - accuracy: 0.7145 - val_loss: 0.8418 - val_accuracy: 0.6615\n",
      "Epoch 121/200\n",
      "18/18 [==============================] - 3s 157ms/step - loss: 0.6671 - accuracy: 0.7282 - val_loss: 0.7766 - val_accuracy: 0.6872\n",
      "Epoch 122/200\n",
      "18/18 [==============================] - 3s 152ms/step - loss: 0.6571 - accuracy: 0.7248 - val_loss: 0.8541 - val_accuracy: 0.6462\n",
      "Epoch 123/200\n",
      "18/18 [==============================] - 2s 130ms/step - loss: 0.6543 - accuracy: 0.7077 - val_loss: 0.8244 - val_accuracy: 0.6667\n",
      "Epoch 124/200\n",
      "18/18 [==============================] - 2s 132ms/step - loss: 0.6455 - accuracy: 0.7368 - val_loss: 0.8647 - val_accuracy: 0.6410\n",
      "Epoch 125/200\n",
      "18/18 [==============================] - 3s 140ms/step - loss: 0.6647 - accuracy: 0.7197 - val_loss: 0.7650 - val_accuracy: 0.6923\n",
      "Epoch 126/200\n",
      "18/18 [==============================] - 3s 159ms/step - loss: 0.6633 - accuracy: 0.7316 - val_loss: 0.8001 - val_accuracy: 0.6821\n",
      "Epoch 127/200\n",
      "18/18 [==============================] - 3s 155ms/step - loss: 0.6595 - accuracy: 0.7333 - val_loss: 0.7795 - val_accuracy: 0.6769\n",
      "Epoch 128/200\n",
      "18/18 [==============================] - 3s 152ms/step - loss: 0.6533 - accuracy: 0.7111 - val_loss: 0.7749 - val_accuracy: 0.6923\n",
      "Epoch 129/200\n",
      "18/18 [==============================] - 2s 131ms/step - loss: 0.6317 - accuracy: 0.7350 - val_loss: 0.8121 - val_accuracy: 0.6718\n",
      "Epoch 130/200\n",
      "18/18 [==============================] - 2s 139ms/step - loss: 0.6426 - accuracy: 0.7248 - val_loss: 0.8244 - val_accuracy: 0.6667\n",
      "Epoch 131/200\n",
      "18/18 [==============================] - 3s 144ms/step - loss: 0.6543 - accuracy: 0.7385 - val_loss: 0.7874 - val_accuracy: 0.6769\n",
      "Epoch 132/200\n",
      "18/18 [==============================] - 3s 158ms/step - loss: 0.6678 - accuracy: 0.7162 - val_loss: 0.8658 - val_accuracy: 0.6410\n",
      "Epoch 133/200\n",
      "18/18 [==============================] - 3s 157ms/step - loss: 0.6706 - accuracy: 0.7231 - val_loss: 0.8395 - val_accuracy: 0.6462\n",
      "Epoch 134/200\n",
      "18/18 [==============================] - 3s 149ms/step - loss: 0.6679 - accuracy: 0.7026 - val_loss: 0.7871 - val_accuracy: 0.6667\n",
      "Epoch 135/200\n",
      "18/18 [==============================] - 2s 134ms/step - loss: 0.6802 - accuracy: 0.7060 - val_loss: 0.8227 - val_accuracy: 0.6513\n",
      "Epoch 136/200\n",
      "18/18 [==============================] - 2s 130ms/step - loss: 0.6585 - accuracy: 0.7248 - val_loss: 0.7301 - val_accuracy: 0.7128\n",
      "Epoch 137/200\n",
      "18/18 [==============================] - 3s 143ms/step - loss: 0.6591 - accuracy: 0.7214 - val_loss: 0.7216 - val_accuracy: 0.6974\n",
      "Epoch 138/200\n",
      "18/18 [==============================] - 3s 149ms/step - loss: 0.6742 - accuracy: 0.7248 - val_loss: 0.7966 - val_accuracy: 0.6564\n",
      "Epoch 139/200\n",
      "18/18 [==============================] - 3s 154ms/step - loss: 0.6677 - accuracy: 0.7094 - val_loss: 0.7911 - val_accuracy: 0.6667\n",
      "Epoch 140/200\n",
      "18/18 [==============================] - 3s 148ms/step - loss: 0.6522 - accuracy: 0.7214 - val_loss: 0.7380 - val_accuracy: 0.7179\n",
      "Epoch 141/200\n",
      "18/18 [==============================] - 3s 141ms/step - loss: 0.6708 - accuracy: 0.7094 - val_loss: 0.7709 - val_accuracy: 0.6872\n",
      "Epoch 142/200\n",
      "18/18 [==============================] - 2s 134ms/step - loss: 0.6513 - accuracy: 0.7316 - val_loss: 0.8204 - val_accuracy: 0.6462\n",
      "Epoch 143/200\n",
      "18/18 [==============================] - 5s 302ms/step - loss: 0.6537 - accuracy: 0.7350 - val_loss: 0.8470 - val_accuracy: 0.6462\n",
      "Epoch 144/200\n",
      "18/18 [==============================] - 8s 452ms/step - loss: 0.6693 - accuracy: 0.7282 - val_loss: 0.7896 - val_accuracy: 0.6974\n",
      "Epoch 145/200\n",
      "18/18 [==============================] - 6s 293ms/step - loss: 0.6653 - accuracy: 0.7043 - val_loss: 0.7821 - val_accuracy: 0.6923\n",
      "Epoch 146/200\n",
      "18/18 [==============================] - 4s 209ms/step - loss: 0.6556 - accuracy: 0.7197 - val_loss: 0.8227 - val_accuracy: 0.6462\n",
      "Epoch 147/200\n",
      "18/18 [==============================] - 3s 185ms/step - loss: 0.6568 - accuracy: 0.7265 - val_loss: 0.8350 - val_accuracy: 0.6462\n",
      "Epoch 148/200\n",
      "18/18 [==============================] - 3s 159ms/step - loss: 0.6527 - accuracy: 0.7179 - val_loss: 0.7791 - val_accuracy: 0.6769\n",
      "Epoch 149/200\n",
      "18/18 [==============================] - 2s 131ms/step - loss: 0.6790 - accuracy: 0.7197 - val_loss: 0.8489 - val_accuracy: 0.6359\n",
      "Epoch 150/200\n",
      "18/18 [==============================] - 3s 138ms/step - loss: 0.6478 - accuracy: 0.7333 - val_loss: 0.8968 - val_accuracy: 0.6154\n",
      "Epoch 151/200\n",
      "18/18 [==============================] - 3s 153ms/step - loss: 0.6499 - accuracy: 0.7282 - val_loss: 0.8944 - val_accuracy: 0.6359\n",
      "Epoch 152/200\n",
      "18/18 [==============================] - 3s 155ms/step - loss: 0.6643 - accuracy: 0.7111 - val_loss: 0.7300 - val_accuracy: 0.7128\n",
      "Epoch 153/200\n",
      "18/18 [==============================] - 3s 148ms/step - loss: 0.6392 - accuracy: 0.7436 - val_loss: 0.7882 - val_accuracy: 0.6821\n",
      "Epoch 154/200\n",
      "18/18 [==============================] - 2s 133ms/step - loss: 0.6318 - accuracy: 0.7248 - val_loss: 0.7964 - val_accuracy: 0.6667\n",
      "Epoch 155/200\n",
      "18/18 [==============================] - 2s 132ms/step - loss: 0.6570 - accuracy: 0.7077 - val_loss: 0.8173 - val_accuracy: 0.6615\n",
      "Epoch 156/200\n",
      "18/18 [==============================] - 3s 147ms/step - loss: 0.6434 - accuracy: 0.7214 - val_loss: 0.8935 - val_accuracy: 0.6205\n",
      "Epoch 157/200\n",
      "18/18 [==============================] - 3s 158ms/step - loss: 0.6585 - accuracy: 0.7145 - val_loss: 0.8323 - val_accuracy: 0.6513\n",
      "Epoch 158/200\n",
      "18/18 [==============================] - 3s 153ms/step - loss: 0.6281 - accuracy: 0.7402 - val_loss: 0.8111 - val_accuracy: 0.6667\n",
      "Epoch 159/200\n",
      "18/18 [==============================] - 3s 137ms/step - loss: 0.6447 - accuracy: 0.7197 - val_loss: 0.7971 - val_accuracy: 0.6615\n",
      "Epoch 160/200\n",
      "18/18 [==============================] - 2s 135ms/step - loss: 0.6560 - accuracy: 0.7145 - val_loss: 0.8283 - val_accuracy: 0.6718\n",
      "Epoch 161/200\n",
      "18/18 [==============================] - 2s 134ms/step - loss: 0.6660 - accuracy: 0.7060 - val_loss: 0.8476 - val_accuracy: 0.6359\n",
      "Epoch 162/200\n",
      "18/18 [==============================] - 3s 147ms/step - loss: 0.6400 - accuracy: 0.7248 - val_loss: 0.7665 - val_accuracy: 0.6821\n",
      "Epoch 163/200\n",
      "18/18 [==============================] - 3s 157ms/step - loss: 0.6312 - accuracy: 0.7214 - val_loss: 0.7427 - val_accuracy: 0.7026\n",
      "Epoch 164/200\n",
      "18/18 [==============================] - 3s 155ms/step - loss: 0.6209 - accuracy: 0.7350 - val_loss: 0.7550 - val_accuracy: 0.7077\n",
      "Epoch 165/200\n",
      "18/18 [==============================] - 3s 140ms/step - loss: 0.6562 - accuracy: 0.7333 - val_loss: 0.8367 - val_accuracy: 0.6821\n",
      "Epoch 166/200\n",
      "18/18 [==============================] - 2s 134ms/step - loss: 0.6346 - accuracy: 0.7316 - val_loss: 0.7920 - val_accuracy: 0.6872\n",
      "Epoch 167/200\n",
      "18/18 [==============================] - 2s 132ms/step - loss: 0.6197 - accuracy: 0.7282 - val_loss: 0.7724 - val_accuracy: 0.6923\n",
      "Epoch 168/200\n",
      "18/18 [==============================] - 3s 146ms/step - loss: 0.6356 - accuracy: 0.7333 - val_loss: 0.7349 - val_accuracy: 0.7128\n",
      "Epoch 169/200\n",
      "18/18 [==============================] - 3s 153ms/step - loss: 0.6404 - accuracy: 0.7265 - val_loss: 0.7788 - val_accuracy: 0.6769\n",
      "Epoch 170/200\n",
      "18/18 [==============================] - 3s 154ms/step - loss: 0.6283 - accuracy: 0.7504 - val_loss: 0.7751 - val_accuracy: 0.6821\n",
      "Epoch 171/200\n"
     ]
    },
    {
     "name": "stdout",
     "output_type": "stream",
     "text": [
      "18/18 [==============================] - 3s 141ms/step - loss: 0.6243 - accuracy: 0.7350 - val_loss: 0.9225 - val_accuracy: 0.6410\n",
      "Epoch 172/200\n",
      "18/18 [==============================] - 2s 136ms/step - loss: 0.6683 - accuracy: 0.7231 - val_loss: 0.8042 - val_accuracy: 0.6667\n",
      "Epoch 173/200\n",
      "18/18 [==============================] - 2s 132ms/step - loss: 0.6147 - accuracy: 0.7350 - val_loss: 0.7564 - val_accuracy: 0.7077\n",
      "Epoch 174/200\n",
      "18/18 [==============================] - 3s 154ms/step - loss: 0.6160 - accuracy: 0.7470 - val_loss: 0.7390 - val_accuracy: 0.7077\n",
      "Epoch 175/200\n",
      "18/18 [==============================] - 3s 158ms/step - loss: 0.6418 - accuracy: 0.7299 - val_loss: 0.7401 - val_accuracy: 0.7077\n",
      "Epoch 176/200\n",
      "18/18 [==============================] - 3s 161ms/step - loss: 0.6382 - accuracy: 0.7299 - val_loss: 0.6895 - val_accuracy: 0.7128\n",
      "Epoch 177/200\n",
      "18/18 [==============================] - 3s 140ms/step - loss: 0.6748 - accuracy: 0.7128 - val_loss: 0.7219 - val_accuracy: 0.7077\n",
      "Epoch 178/200\n",
      "18/18 [==============================] - 2s 133ms/step - loss: 0.6399 - accuracy: 0.7556 - val_loss: 0.8324 - val_accuracy: 0.6564\n",
      "Epoch 179/200\n",
      "18/18 [==============================] - 2s 135ms/step - loss: 0.6083 - accuracy: 0.7402 - val_loss: 0.7427 - val_accuracy: 0.7026\n",
      "Epoch 180/200\n",
      "18/18 [==============================] - 3s 156ms/step - loss: 0.6150 - accuracy: 0.7744 - val_loss: 0.7422 - val_accuracy: 0.7026\n",
      "Epoch 181/200\n",
      "18/18 [==============================] - 3s 152ms/step - loss: 0.6237 - accuracy: 0.7248 - val_loss: 0.7888 - val_accuracy: 0.6974\n",
      "Epoch 182/200\n",
      "18/18 [==============================] - 3s 157ms/step - loss: 0.6098 - accuracy: 0.7487 - val_loss: 0.7502 - val_accuracy: 0.7026\n",
      "Epoch 183/200\n",
      "18/18 [==============================] - 3s 135ms/step - loss: 0.6140 - accuracy: 0.7436 - val_loss: 0.7391 - val_accuracy: 0.7077\n",
      "Epoch 184/200\n",
      "18/18 [==============================] - 3s 136ms/step - loss: 0.6473 - accuracy: 0.7333 - val_loss: 0.6993 - val_accuracy: 0.7077\n",
      "Epoch 185/200\n",
      "18/18 [==============================] - 2s 131ms/step - loss: 0.6316 - accuracy: 0.7350 - val_loss: 0.7475 - val_accuracy: 0.6974\n",
      "Epoch 186/200\n",
      "18/18 [==============================] - 3s 159ms/step - loss: 0.6258 - accuracy: 0.7333 - val_loss: 0.7654 - val_accuracy: 0.6872\n",
      "Epoch 187/200\n",
      "18/18 [==============================] - 3s 157ms/step - loss: 0.6199 - accuracy: 0.7692 - val_loss: 0.7906 - val_accuracy: 0.6974\n",
      "Epoch 188/200\n",
      "18/18 [==============================] - 3s 153ms/step - loss: 0.6306 - accuracy: 0.7316 - val_loss: 0.7412 - val_accuracy: 0.7128\n",
      "Epoch 189/200\n",
      "18/18 [==============================] - 3s 134ms/step - loss: 0.6104 - accuracy: 0.7453 - val_loss: 0.7870 - val_accuracy: 0.6872\n",
      "Epoch 190/200\n",
      "18/18 [==============================] - 3s 136ms/step - loss: 0.6211 - accuracy: 0.7197 - val_loss: 0.7549 - val_accuracy: 0.6974\n",
      "Epoch 191/200\n",
      "18/18 [==============================] - 2s 131ms/step - loss: 0.6041 - accuracy: 0.7470 - val_loss: 0.7843 - val_accuracy: 0.6872\n",
      "Epoch 192/200\n",
      "18/18 [==============================] - 3s 156ms/step - loss: 0.6089 - accuracy: 0.7487 - val_loss: 0.8313 - val_accuracy: 0.6667\n",
      "Epoch 193/200\n",
      "18/18 [==============================] - 3s 151ms/step - loss: 0.5903 - accuracy: 0.7368 - val_loss: 0.8116 - val_accuracy: 0.6769\n",
      "Epoch 194/200\n",
      "18/18 [==============================] - 3s 153ms/step - loss: 0.5978 - accuracy: 0.7385 - val_loss: 0.8375 - val_accuracy: 0.6667\n",
      "Epoch 195/200\n",
      "18/18 [==============================] - 3s 137ms/step - loss: 0.6222 - accuracy: 0.7231 - val_loss: 0.7171 - val_accuracy: 0.6923\n",
      "Epoch 196/200\n",
      "18/18 [==============================] - 3s 140ms/step - loss: 0.6046 - accuracy: 0.7470 - val_loss: 0.8382 - val_accuracy: 0.6667\n",
      "Epoch 197/200\n",
      "18/18 [==============================] - 2s 129ms/step - loss: 0.6060 - accuracy: 0.7556 - val_loss: 0.8101 - val_accuracy: 0.6769\n",
      "Epoch 198/200\n",
      "18/18 [==============================] - 3s 148ms/step - loss: 0.6446 - accuracy: 0.7197 - val_loss: 0.7880 - val_accuracy: 0.6872\n",
      "Epoch 199/200\n",
      "18/18 [==============================] - 3s 157ms/step - loss: 0.6160 - accuracy: 0.7453 - val_loss: 0.7861 - val_accuracy: 0.6821\n",
      "Epoch 200/200\n",
      "18/18 [==============================] - 3s 158ms/step - loss: 0.6335 - accuracy: 0.7350 - val_loss: 0.7555 - val_accuracy: 0.6923\n"
     ]
    }
   ],
   "source": [
    "from keras.preprocessing.image import ImageDataGenerator\n",
    "from keras.layers import Dropout\n",
    "\n",
    "datagen = ImageDataGenerator(\n",
    "    rotation_range=20,      \n",
    "    width_shift_range=0.2, \n",
    "    height_shift_range=0.2, \n",
    "    horizontal_flip=True,   \n",
    "    zoom_range=0.2,         \n",
    "    shear_range=0.2)        \n",
    "\n",
    "train_X = train_X.reshape(train_X.shape[0], 64, 64, 1)\n",
    "test_X = test_X.reshape(test_X.shape[0], 64, 64, 1)\n",
    "\n",
    "model = Sequential()\n",
    "model.add(Conv2D(32, (3, 3), input_shape = (64, 64, 1), activation = 'relu'))\n",
    "model.add(MaxPooling2D(pool_size = (2, 2)))\n",
    "model.add(Conv2D(64, (3, 3), activation = 'relu'))\n",
    "model.add(Dropout(0.5))\n",
    "model.add(MaxPooling2D(pool_size = (2, 2)))\n",
    "model.add(Flatten())\n",
    "model.add(Dense(units = 128, activation = 'relu'))\n",
    "model.add(Dense(units = 3, activation = 'softmax'))\n",
    "optimizer = Adam(learning_rate=0.0001)\n",
    "model.compile(optimizer = optimizer, loss = 'categorical_crossentropy', metrics = ['accuracy'])\n",
    "\n",
    "\n",
    "datagen.fit(train_X)\n",
    "\n",
    "\n",
    "steps_per_epoch = len(train_X) / batch_size\n",
    "history = model.fit(\n",
    "    datagen.flow(train_X, train_y, batch_size=batch_size),\n",
    "    steps_per_epoch=steps_per_epoch,\n",
    "    epochs=epochs,\n",
    "    validation_data=(test_X, test_y),\n",
    "    verbose=1)"
   ]
  },
  {
   "cell_type": "code",
   "execution_count": 129,
   "id": "ac4884ad",
   "metadata": {},
   "outputs": [
    {
     "data": {
      "image/png": "[encoded data removed]",
      "text/plain": [
       "<Figure size 640x480 with 1 Axes>"
      ]
     },
     "metadata": {},
     "output_type": "display_data"
    }
   ],
   "source": [
    "plt.plot(model.history.history['accuracy'])\n",
    "plt.plot(model.history.history['val_accuracy'])\n",
    "plt.title('model accuracy')\n",
    "plt.ylabel('accuracy')\n",
    "plt.xlabel('epoch')\n",
    "plt.ylim(0,1)\n",
    "plt.legend(['train', 'test'], loc=\"lower right\")\n",
    "plt.show()"
   ]
  },
  {
   "cell_type": "code",
   "execution_count": 130,
   "id": "97c00307",
   "metadata": {},
   "outputs": [
    {
     "name": "stdout",
     "output_type": "stream",
     "text": [
      "Accuracy of the model on the train set is 71.45 %\n",
      "Accuracy of the model on the test set is 69.23 %\n"
     ]
    }
   ],
   "source": [
    "# Evaluate the model on the train set\n",
    "train_loss, train_accuracy = model.evaluate(train_X, train_y, verbose=0)\n",
    "print(f\"Accuracy of the model on the train set is {train_accuracy * 100:.2f} %\")\n",
    "\n",
    "# Evaluate the model on the test set\n",
    "test_loss, test_accuracy = model.evaluate(test_X, test_y, verbose=0)\n",
    "print(f\"Accuracy of the model on the test set is {test_accuracy * 100:.2f} %\")"
   ]
  },
  {
   "cell_type": "markdown",
   "id": "fb56f87e",
   "metadata": {},
   "source": [
    "### Regular Level\n",
    "In this part, we wish to implement our own deep learning network for binary classification.\n",
    "### Exercise 13\n",
    "To test the functions, let's use a network of the dimensions [64X64, 128,64,1]\n",
    "\n",
    "We'll first write the function initialize(network_dims), which will initialize the weights and biases of our network."
   ]
  },
  {
   "cell_type": "markdown",
   "id": "0581ac4d",
   "metadata": {},
   "source": [
    "a. Copy your **y** vector of binary classification (not the one hot-encoded matrix)"
   ]
  },
  {
   "cell_type": "code",
   "execution_count": 131,
   "id": "8af5b006",
   "metadata": {},
   "outputs": [],
   "source": [
    "y = [0 if label_name == 'malignant' else 1 for label_name in label]\n",
    "y = np.array(y)"
   ]
  },
  {
   "cell_type": "code",
   "execution_count": 132,
   "id": "b4b09b1c",
   "metadata": {},
   "outputs": [],
   "source": [
    "train_X, test_X, train_y, test_y = train_test_split(np_images_flattened, y, test_size=ts, shuffle=True, random_state=rs)"
   ]
  },
  {
   "cell_type": "code",
   "execution_count": 133,
   "id": "716ac061",
   "metadata": {},
   "outputs": [],
   "source": [
    "def initialize(network_dims):\n",
    "    params = {}\n",
    "    L = len(network_dims)\n",
    "    for l in range(1, L):\n",
    "        params['W' + str(l)] = np.random.randn(network_dims[l], network_dims[l - 1])\n",
    "        params['b' + str(l)] = np.random.randn(network_dims[l], 1)\n",
    "\n",
    "    return params"
   ]
  },
  {
   "cell_type": "code",
   "execution_count": 134,
   "id": "3506a6af",
   "metadata": {},
   "outputs": [],
   "source": [
    "params=initialize([train_X.shape[1], 128,64, 1])"
   ]
  },
  {
   "cell_type": "code",
   "execution_count": 135,
   "id": "a9752240",
   "metadata": {},
   "outputs": [
    {
     "name": "stdout",
     "output_type": "stream",
     "text": [
      "shape of W1 (128, 4096)\n",
      "shape of b1 (128, 1)\n",
      "shape of W2 (64, 128)\n",
      "shape of b2 (64, 1)\n",
      "shape of W3 (1, 64)\n",
      "shape of b3 (1, 1)\n"
     ]
    }
   ],
   "source": [
    "print('shape of W1', params['W1'].shape)\n",
    "print('shape of b1', params['b1'].shape)\n",
    "print('shape of W2', params['W2'].shape)\n",
    "print('shape of b2', params['b2'].shape)\n",
    "print('shape of W3', params['W3'].shape)\n",
    "print('shape of b3', params['b3'].shape)"
   ]
  },
  {
   "cell_type": "markdown",
   "id": "e8a054ee",
   "metadata": {},
   "source": [
    "You are now requested to implement the forward_pass(X, params), which takes your training set X as input and returns the activations of the hidden and final layer.\n",
    "Your function should implement the following functions:\n",
    "\n",
    "$$Z^{[l]}=W^{[l]}.A^{[l-1]}+b^{[l]}$$\n",
    "$$A^{[l]}=\\sigma Z^{[l]}$$\n",
    "\n",
    "You of course need to iterate over the layers of your model (hidden and final/output layer).\n"
   ]
  },
  {
   "cell_type": "code",
   "execution_count": 136,
   "id": "c0f75da4",
   "metadata": {},
   "outputs": [],
   "source": [
    "def sigmoid(Z):\n",
    "    A = 1 / (1 + np.exp(-Z))\n",
    "    return A\n",
    "\n",
    "def forward_pass(X, params):\n",
    "    # Number of layers\n",
    "    L = len(params) // 2\n",
    "    activations = {}\n",
    "    A = X\n",
    "    for l in range(1, L+1):\n",
    "        Z = np.dot(params['W' + str(l)], A) + params['b' + str(l)]\n",
    "        A = sigmoid(Z)\n",
    "        activations['A' + str(l)] = A\n",
    "        \n",
    "    return activations\n"
   ]
  },
  {
   "cell_type": "code",
   "execution_count": 137,
   "id": "db887a43",
   "metadata": {},
   "outputs": [],
   "source": [
    "#recall that X in our scenario is of shape (nf, ne)\n",
    "train_X=train_X.T"
   ]
  },
  {
   "cell_type": "code",
   "execution_count": 138,
   "id": "5091d4f7",
   "metadata": {},
   "outputs": [],
   "source": [
    "activations=forward_pass(train_X, params)"
   ]
  },
  {
   "cell_type": "code",
   "execution_count": 139,
   "id": "83b01f4e",
   "metadata": {
    "scrolled": true
   },
   "outputs": [
    {
     "name": "stdout",
     "output_type": "stream",
     "text": [
      "The shape of the activation of the first layer (128, 585)\n",
      "The shape of the activation of the second layer (64, 585)\n",
      "The shape of the activation of the output layer (1, 585)\n"
     ]
    }
   ],
   "source": [
    "print(\"The shape of the activation of the first layer\",activations['A1'].shape)\n",
    "print(\"The shape of the activation of the second layer\",activations['A2'].shape)\n",
    "print(\"The shape of the activation of the output layer\",activations['A3'].shape)"
   ]
  },
  {
   "cell_type": "markdown",
   "id": "8811b90d",
   "metadata": {},
   "source": [
    "### Exercise 14\n",
    "We get now to implementing our gradient descent.\n",
    "\n",
    "Write a function gradient_descent(params, activations, y, lr), which inputs your parameters, the activations of your forward_pass, your ground truth vector y and your learning_rate lr. \n",
    "\n",
    "The function needs to implement the following equations:\n",
    "\n",
    "$$dZ^{[fl]}=A^{[fl]}-y$$\n",
    "$$dZ^{[l-1]}=W^{[l]}T .dZ^{[l]} * A^{[l-1]}(1-A^{[l-1]})$$\n",
    "$$dW^{[l]}=\\frac {1}{ne} (dZ^{[l]}.A^{[l-1]}T)$$\n",
    "$$dW^{[l]}=\\frac {1}{ne} \\sum dZ^{[l]} $$\n",
    "$$W=W-\\alpha dW$$\n",
    "\n",
    "$$W=b-\\alpha db$$\n"
   ]
  },
  {
   "cell_type": "code",
   "execution_count": 140,
   "id": "0ed10ac4",
   "metadata": {},
   "outputs": [],
   "source": [
    "def gradient_descent(activations, params, y, lr):\n",
    "    L = len(params) // 2  \n",
    "    m = y.shape[0]\n",
    "    grads = {}\n",
    "    \n",
    "    # Compute dZ for the final layer\n",
    "    dZ = activations['A' + str(L)] - y\n",
    "    for l in range(L, 0, -1):\n",
    "        # 'A0' is the input layer (train_X)\n",
    "        A_prev = activations['A' + str(l - 1)] if l != 1 else train_X\n",
    "        \n",
    "        # Compute dW and db for the current layer\n",
    "        grads[\"dW\" + str(l)] = (1/m) * np.dot(dZ, A_prev.T)\n",
    "        grads[\"db\" + str(l)] = (1/m) * np.sum(dZ, axis=1, keepdims=True)\n",
    "        \n",
    "        # Update parameters\n",
    "        params[\"W\" + str(l)] -= lr * grads[\"dW\" + str(l)]\n",
    "        params[\"b\" + str(l)] -= lr * grads[\"db\" + str(l)]\n",
    "        \n",
    "        # Compute dZ for the previous layer if not the input layer\n",
    "        if l > 1:\n",
    "            dZ = np.dot(params[\"W\" + str(l)].T, dZ) * A_prev * (1 - A_prev)\n",
    "    \n",
    "    return params\n"
   ]
  },
  {
   "cell_type": "code",
   "execution_count": 141,
   "id": "9a1715ba",
   "metadata": {},
   "outputs": [],
   "source": [
    "params=gradient_descent(activations, params, train_y, lr=0.5)"
   ]
  },
  {
   "cell_type": "code",
   "execution_count": 142,
   "id": "97e7b700",
   "metadata": {},
   "outputs": [
    {
     "name": "stdout",
     "output_type": "stream",
     "text": [
      "shape of W1 (128, 4096)\n",
      "shape of b1 (128, 1)\n",
      "shape of W2 (64, 128)\n",
      "shape of b2 (64, 1)\n",
      "shape of W3 (1, 64)\n",
      "shape of b3 (1, 1)\n"
     ]
    }
   ],
   "source": [
    "print('shape of W1', params['W1'].shape)\n",
    "print('shape of b1', params['b1'].shape)\n",
    "print('shape of W2', params['W2'].shape)\n",
    "print('shape of b2', params['b2'].shape)\n",
    "print('shape of W3', params['W3'].shape)\n",
    "print('shape of b3', params['b3'].shape)"
   ]
  },
  {
   "cell_type": "markdown",
   "id": "a8ca0652",
   "metadata": {},
   "source": [
    "### Exercise 15\n",
    "Now we can implement our dnn model in 3 simple steps\n",
    "1. initialize the matrices W and the bias vectors b\n",
    "2. repeat until number of iterations is reached <br>\n",
    "    2.1. get your matrices of activations<br>\n",
    "    2.2. update the weights W and biases b using gradient descent<br>\n",
    "3. return the final matrices for  W and bias vectors b\n",
    "\n",
    "dnn(X, y, network_dims, lr, iters), takes the matrix X as an input, the vector of true labels y, network dimensions, a learning rate, and the number of iterations iters. The function returns the learned parameters of the model, namely W and b.\n"
   ]
  },
  {
   "cell_type": "code",
   "execution_count": 143,
   "id": "141ed78b",
   "metadata": {},
   "outputs": [],
   "source": [
    "def dnn(X, y, network_dims, lr, iters):\n",
    "    params = initialize(network_dims)\n",
    "    for i in range(iters):\n",
    "        activations = forward_pass(X, params)\n",
    "        params = gradient_descent(activations, params, y, lr)\n",
    "        \n",
    "    return params"
   ]
  },
  {
   "cell_type": "code",
   "execution_count": 144,
   "id": "5e65ffb2",
   "metadata": {},
   "outputs": [],
   "source": [
    "params=dnn(train_X, train_y, network_dims = [train_X.shape[0], 64, 32,1 ], lr = 0.75, iters = 50)"
   ]
  },
  {
   "cell_type": "code",
   "execution_count": 145,
   "id": "a60094b2",
   "metadata": {},
   "outputs": [],
   "source": [
    "def predict(X, params):\n",
    "    activations = forward_pass(X, params)\n",
    "    L = len(params) // 2\n",
    "    Af = activations['A' + str(L)]\n",
    "    return  1*(Af>=0.5)"
   ]
  },
  {
   "cell_type": "code",
   "execution_count": 146,
   "id": "1ec0730d",
   "metadata": {},
   "outputs": [],
   "source": [
    "predictions=predict(test_X.T, params)"
   ]
  },
  {
   "cell_type": "code",
   "execution_count": 147,
   "id": "f7c25630",
   "metadata": {},
   "outputs": [
    {
     "name": "stdout",
     "output_type": "stream",
     "text": [
      "Accuracy on our test set is 75.38461538461539 %\n"
     ]
    }
   ],
   "source": [
    "print(\"Accuracy on our test set is\", accuracy_score(test_y.flatten(), predictions.flatten())*100, \"%\")"
   ]
  },
  {
   "cell_type": "markdown",
   "id": "e407ecbf",
   "metadata": {},
   "source": [
    "#### Quite a good result actually."
   ]
  },
  {
   "cell_type": "markdown",
   "id": "ead3708c",
   "metadata": {},
   "source": [
    "## Advanced Level\n",
    "We said in the lecture that a sigmoid activated neurone predicts values between 0 and 1, making it adequate for binary classification.\n",
    "\n",
    "We also said that a softmax activation function is suitable for multiclassification.\n",
    "To change our code above and make it capable of solving multiclassification problems, we need to implement the softmax function.\n",
    "We also said that the log_loss isn't useful in this case, we will instead use cross entropy loss.\n",
    "\n",
    "We also said that **dZL** (L for final layer) remains the same as before.\n",
    "\n",
    "Your task is to modify the code you implemented above to handle the same multiclassification problem you handled with Keras.\n",
    "\n",
    "We are not interested in a completely new implementation, we expect that you will modify one of your functions above and adapt the code to handle the new type of classification (multiclass)."
   ]
  },
  {
   "cell_type": "code",
   "execution_count": null,
   "id": "0b3cb4eb",
   "metadata": {},
   "outputs": [],
   "source": [
    "def initialize(network_dims):\n",
    "    np.random.seed(42)\n",
    "    params = {}\n",
    "    L = len(network_dims)\n",
    "    \n",
    "    for l in range(1, L):\n",
    "        params[\"W\" + str(l)] = np.random.randn(network_dims[l], network_dims[l-1]) * 0.01\n",
    "        params[\"b\" + str(l)] = np.zeros((network_dims[l], 1))\n",
    "        \n",
    "    return params"
   ]
  },
  {
   "cell_type": "code",
   "execution_count": null,
   "id": "906b65c8",
   "metadata": {},
   "outputs": [],
   "source": [
    "def softmax(Z):\n",
    "    expZ = np.exp(Z - np.max(Z))\n",
    "    return expZ / expZ.sum(axis=0, keepdims=True)"
   ]
  },
  {
   "cell_type": "code",
   "execution_count": null,
   "id": "b19e1b1d",
   "metadata": {},
   "outputs": [],
   "source": [
    "def forward_pass_multiclassification(X, params):\n",
    "    L = len(params) // 2\n",
    "    activations = {}\n",
    "    A = X\n",
    "    for l in range(1, L):\n",
    "        Z = np.dot(params['W' + str(l)], A) + params['b' + str(l)]\n",
    "        A = sigmoid(Z)\n",
    "        activations['A' + str(l)] = A\n",
    "    \n",
    "    Z = np.dot(params['W' + str(L)], A) + params['b' + str(L)]\n",
    "    A = softmax(Z)\n",
    "    activations['A' + str(L)] = A\n",
    "    \n",
    "    return activations"
   ]
  },
  {
   "cell_type": "code",
   "execution_count": null,
   "id": "00707def",
   "metadata": {},
   "outputs": [],
   "source": [
    "def gradient_descent_multiclass(activations, params, y, lr):\n",
    "    L = len(params) // 2  \n",
    "    m = y.shape[1]\n",
    "    grads = {}\n",
    "    \n",
    "    # Compute dZ for the final layer\n",
    "    dZ = activations['A' + str(L)] - y\n",
    "    for l in range(L, 0, -1):\n",
    "        A_prev = activations['A' + str(l - 1)] if l != 1 else train_X\n",
    "        \n",
    "        grads[\"dW\" + str(l)] = (1/m) * np.dot(dZ, A_prev.T)\n",
    "        grads[\"db\" + str(l)] = (1/m) * np.sum(dZ, axis=1, keepdims=True)\n",
    "        \n",
    "        params[\"W\" + str(l)] -= lr * grads[\"dW\" + str(l)]\n",
    "        params[\"b\" + str(l)] -= lr * grads[\"db\" + str(l)]\n",
    "        \n",
    "        if l > 1:\n",
    "            dZ = np.dot(params[\"W\" + str(l)].T, dZ) * A_prev * (1 - A_prev)\n",
    "    \n",
    "    return params\n"
   ]
  },
  {
   "cell_type": "code",
   "execution_count": null,
   "id": "2dd008a1",
   "metadata": {},
   "outputs": [],
   "source": [
    "def dnn_2(X, y, network_dims, lr, iters):\n",
    "    params = initialize(network_dims)\n",
    "    for i in range(iters):\n",
    "        activations = forward_pass_multiclassification(X, params)\n",
    "        params = gradient_descent_multiclass(activations, params, y, lr)\n",
    "        \n",
    "    return params\n"
   ]
  },
  {
   "cell_type": "code",
   "execution_count": null,
   "id": "b8773bf5",
   "metadata": {},
   "outputs": [],
   "source": [
    "# Encoding test_y (Assuming it has the same structure as 'label')\n",
    "test_y_encoded = [0 if label_name == 'malignant' else 1 if label_name == 'benign' else 2 for label_name in test_y]\n",
    "test_y_encoded = np.array(test_y_encoded)\n",
    "test_y_encoded = to_categorical(test_y_encoded, num_classes=3).T"
   ]
  },
  {
   "cell_type": "code",
   "execution_count": null,
   "id": "92fee17f",
   "metadata": {
    "scrolled": true
   },
   "outputs": [],
   "source": [
    "# Check shape of input data and labels before training:\n",
    "print(train_X.T.shape, y_encoded.T.shape)\n",
    "\n",
    "params = dnn_2(train_X.T, y_encoded.T, network_dims=[train_X.shape[1], 64, 4, 3], lr=0.05, iters=100)"
   ]
  },
  {
   "cell_type": "code",
   "execution_count": null,
   "id": "7901749e",
   "metadata": {},
   "outputs": [],
   "source": [
    "def predict(X, params):\n",
    "    activations = forward_pass_multiclassification(X, params)\n",
    "    C = len(params) // 2\n",
    "    Af = activations['A' + str(C)]\n",
    "    return np.argmax(Af, axis=0) "
   ]
  },
  {
   "cell_type": "code",
   "execution_count": null,
   "id": "f10c6a8e",
   "metadata": {},
   "outputs": [],
   "source": [
    "predictions=predict(test_X.T, params)\n",
    "test_y_class_numbers = np.argmax(test_y_encoded, axis=1)\n",
    "# Check the shape of predictions and test labels:\n",
    "print(len(predictions), len(test_y_class_numbers))\n"
   ]
  },
  {
   "cell_type": "code",
   "execution_count": null,
   "id": "f5516384",
   "metadata": {
    "scrolled": true
   },
   "outputs": [],
   "source": [
    "accuracy = accuracy_score(test_y_class_numbers, predictions) * 100\n",
    "print(f\"Accuracy on our test set is {accuracy:.2f}%\")"
   ]
  }
 ],
 "metadata": {
  "kernelspec": {
   "display_name": "Python 3 (ipykernel)",
   "language": "python",
   "name": "python3"
  },
  "language_info": {
   "codemirror_mode": {
    "name": "ipython",
    "version": 3
   },
   "file_extension": ".py",
   "mimetype": "text/x-python",
   "name": "python",
   "nbconvert_exporter": "python",
   "pygments_lexer": "ipython3",
   "version": "3.9.13"
  }
 },
 "nbformat": 4,
 "nbformat_minor": 5
}
